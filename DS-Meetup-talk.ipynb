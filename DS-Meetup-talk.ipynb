{
 "cells": [
  {
   "cell_type": "markdown",
   "metadata": {
    "slideshow": {
     "slide_type": "slide"
    }
   },
   "source": [
    "# Hyperparameter Tuning & ML Pipelines"
   ]
  },
  {
   "cell_type": "markdown",
   "metadata": {
    "slideshow": {
     "slide_type": "skip"
    }
   },
   "source": [
    "This is the notebook underlying the reveal.js slides that were used for <a href=\"https://www.meetup.com/Richmond-Data-Science-Community-Meetup/events/250460220/\">Richmond Data Science community meetup on May 30th, 2018.</a>"
   ]
  },
  {
   "cell_type": "markdown",
   "metadata": {
    "slideshow": {
     "slide_type": "slide"
    }
   },
   "source": [
    "## About me:\n",
    "\n",
    "I am Atul Saurav (@twtAtul), \n",
    "- Lead Genworth Financials' Data Engineering Team\n",
    "- MS in Decison Analytics, VCU DAPT class of 2019\n",
    "- Passionate about learning, data and everything around it\n",
    "\n",
    "You can also find me on LinkedIn"
   ]
  },
  {
   "cell_type": "markdown",
   "metadata": {
    "slideshow": {
     "slide_type": "slide"
    }
   },
   "source": [
    "## What is this talk about?\n",
    "\n",
    "- Building Machine Learning Models\n",
    "- Python specific\n",
    "- scikit-learn based models"
   ]
  },
  {
   "cell_type": "markdown",
   "metadata": {
    "slideshow": {
     "slide_type": "slide"
    }
   },
   "source": [
    "## What is this talk not about?\n",
    "\n",
    "- Data Cleansing\n",
    "- Feature Engineering\n",
    "- Deep Learning \n",
    "- Other exciting stuff that is difficult to cover in 1 meetup!"
   ]
  },
  {
   "cell_type": "markdown",
   "metadata": {
    "slideshow": {
     "slide_type": "slide"
    }
   },
   "source": [
    "\n",
    "># All models are wrong but some are useful\n",
    "\n",
    " \n",
    "<cite class=\"data-cite\">Box, G. E. P. (1979), \"Robustness in the strategy of scientific model building\", in Launer, R. L.; Wilkinson, G. N., Robustness in Statistics, Academic Press, pp. 201–236.</cite>\n"
   ]
  },
  {
   "cell_type": "markdown",
   "metadata": {
    "slideshow": {
     "slide_type": "slide"
    }
   },
   "source": [
    "## Reality is complex - \n",
    "\n",
    "<ul>\n",
    "    <li><p class=\"fragment fade-left\">too many factors influence outcome</p></li>\n",
    "    <li><p class=\"fragment fade-left\">factors difficult to measure accurately and objectively</p></li>\n",
    "    <li><p class=\"fragment fade-left\">not all factors may be known</p></li>\n",
    "</ul>"
   ]
  },
  {
   "cell_type": "markdown",
   "metadata": {
    "slideshow": {
     "slide_type": "slide"
    }
   },
   "source": [
    "> ## How do we build <span class=\"fragment highlight-green\">useful</span> models?\n",
    "> ## How do we <span class=\"fragment highlight-green\">minimize</span> our <span class=\"fragment highlight-red\">effort</span> in model building?"
   ]
  },
  {
   "cell_type": "markdown",
   "metadata": {
    "slideshow": {
     "slide_type": "slide"
    }
   },
   "source": [
    "## Approach\n",
    "- Use toy datasets for illustration and visualization\n",
    "- Use real dataset for demonstrating application efficacy"
   ]
  },
  {
   "cell_type": "markdown",
   "metadata": {
    "slideshow": {
     "slide_type": "slide"
    }
   },
   "source": [
    "## Scikit-learn API Overview\n",
    "\n",
    "- All methods are implemented as estimators\n",
    "- All estimators have a ```.fit()``` method\n",
    "- All supervised estimators have ```.predict()``` method\n",
    "- All unsupervised estimators have ```.transform()``` method"
   ]
  },
  {
   "cell_type": "markdown",
   "metadata": {
    "slideshow": {
     "slide_type": "fragment"
    }
   },
   "source": [
    "<table>\n",
    "<tr style=\"border:None; font-size:20px; padding:10px;\"><th>``model.predict``</th><th>``model.transform``</th></tr>\n",
    "<tr style=\"border:None; font-size:20px; padding:10px;\"><td>Classification</td><td>Preprocessing</td></tr>\n",
    "<tr style=\"border:None; font-size:20px; padding:10px;\"><td>Regression</td><td>Dimensionality Reduction</td></tr>\n",
    "<tr style=\"border:None; font-size:20px; padding:10px;\"><td>Clustering</td><td>Feature Extraction</td></tr>\n",
    "<tr style=\"border:None; font-size:20px; padding:10px;\"><td>&nbsp;</td><td>Feature Selection</td></tr>\n",
    "\n",
    "</table>\n"
   ]
  },
  {
   "cell_type": "markdown",
   "metadata": {
    "slideshow": {
     "slide_type": "slide"
    }
   },
   "source": [
    "### Usual High Level Flow"
   ]
  },
  {
   "cell_type": "code",
   "execution_count": null,
   "metadata": {
    "slideshow": {
     "slide_type": "fragment"
    }
   },
   "outputs": [],
   "source": [
    "from sklearn.family import SomeModel\n",
    "myModel = SomeModel()\n",
    "myModel.fit(X_train,y_train)\n",
    "\n",
    "# supervised\n",
    "myModel.predict(X_test)\n",
    "myModel.score(X_test, y_test)\n",
    "\n",
    "## unsupervised\n",
    "myModel.transform(X_train)"
   ]
  },
  {
   "cell_type": "markdown",
   "metadata": {
    "slideshow": {
     "slide_type": "slide"
    }
   },
   "source": [
    "## Problem Statement\n",
    "\n",
    "- Classify data into 2 groups based on already observed groupings\n",
    "- Using house price data, predict if the price of the given house will be >= 500K"
   ]
  },
  {
   "cell_type": "markdown",
   "metadata": {
    "slideshow": {
     "slide_type": "slide"
    }
   },
   "source": [
    "> ### Binary Classification Problem"
   ]
  },
  {
   "cell_type": "markdown",
   "metadata": {
    "slideshow": {
     "slide_type": "slide"
    }
   },
   "source": [
    "### Toy Example"
   ]
  },
  {
   "cell_type": "code",
   "execution_count": 1,
   "metadata": {
    "slideshow": {
     "slide_type": "skip"
    }
   },
   "outputs": [],
   "source": [
    "%matplotlib inline\n",
    "import matplotlib.pyplot as plt\n",
    "import numpy as np\n",
    "import seaborn as sns\n",
    "plt.style.use('seaborn-talk')\n",
    "_ = plt.xkcd()"
   ]
  },
  {
   "cell_type": "code",
   "execution_count": 2,
   "metadata": {
    "slideshow": {
     "slide_type": "fragment"
    }
   },
   "outputs": [
    {
     "name": "stdout",
     "output_type": "stream",
     "text": [
      "X ~ n_samples x n_features: (100, 2)\n",
      "y ~ n_samples: (100,)\n"
     ]
    }
   ],
   "source": [
    "from sklearn.datasets import make_blobs\n",
    "\n",
    "scaled_X, scaled_y = make_blobs(centers=2, random_state=0)\n",
    "scaled_X[:,0] = 10* scaled_X[:,0] + 3\n",
    "X, y = make_blobs(centers=2, random_state=0)\n",
    "\n",
    "print('X ~ n_samples x n_features:', X.shape)\n",
    "print('y ~ n_samples:', y.shape)"
   ]
  },
  {
   "cell_type": "markdown",
   "metadata": {
    "slideshow": {
     "slide_type": "slide"
    }
   },
   "source": [
    "### Visualize Data"
   ]
  },
  {
   "cell_type": "code",
   "execution_count": 3,
   "metadata": {
    "slideshow": {
     "slide_type": "fragment"
    }
   },
   "outputs": [
    {
     "data": {
      "text/plain": [
       "Text(0.5,0,'first feature')"
      ]
     },
     "execution_count": 3,
     "metadata": {},
     "output_type": "execute_result"
    },
    {
     "data": {
      "image/png": "[encoded data removed]",
      "text/plain": [
       "<Figure size 720x360 with 2 Axes>"
      ]
     },
     "metadata": {},
     "output_type": "display_data"
    }
   ],
   "source": [
    "fig, (ax0, ax1) = plt.subplots(nrows=1, ncols=2, figsize=(10,5))\n",
    "\n",
    "ax0.scatter(X[y == 0, 0], X[y == 0, 1], c='blue', s=40, label='0')\n",
    "ax0.scatter(X[y == 1, 0], X[y == 1, 1], c='red', s=40, label='1', marker='s')\n",
    "ax0.set_xlabel('first feature')\n",
    "ax0.set_ylabel('second feature')\n",
    "\n",
    "ax1.scatter(scaled_X[scaled_y == 0, 0], scaled_X[scaled_y == 0, 1], c='blue', s=40, label='0')\n",
    "ax1.scatter(scaled_X[scaled_y == 1, 0], scaled_X[scaled_y == 1, 1], c='red', s=40, label='1', marker='s')\n",
    "ax1.set_xlabel('first feature')"
   ]
  },
  {
   "cell_type": "markdown",
   "metadata": {
    "slideshow": {
     "slide_type": "slide"
    }
   },
   "source": [
    "### Create Training and Test Set\n",
    "\n",
    "**Training Set** - Data used to train the model\n",
    " \n",
    "**Test Set** - Data held out in the very beginning for testing model performance. This data should not be touched until final scoring"
   ]
  },
  {
   "cell_type": "code",
   "execution_count": 4,
   "metadata": {
    "slideshow": {
     "slide_type": "fragment"
    }
   },
   "outputs": [],
   "source": [
    "from sklearn.model_selection import train_test_split\n",
    "\n",
    "X_train, X_test, y_train, y_test = train_test_split(X, y,\n",
    "                                                    test_size=0.25,\n",
    "                                                    random_state=1234,\n",
    "                                                    stratify=y)\n",
    "scaled_X_train, scaled_X_test, \\\n",
    "scaled_y_train, scaled_y_test = train_test_split(scaled_X, \n",
    "                                                    scaled_y,\n",
    "                                                    test_size=0.25,\n",
    "                                                    random_state=1234,\n",
    "                                                    stratify=y)"
   ]
  },
  {
   "cell_type": "code",
   "execution_count": 5,
   "metadata": {
    "slideshow": {
     "slide_type": "fragment"
    }
   },
   "outputs": [
    {
     "data": {
      "text/plain": [
       "(75, 2)"
      ]
     },
     "execution_count": 5,
     "metadata": {},
     "output_type": "execute_result"
    }
   ],
   "source": [
    "X_train.shape"
   ]
  },
  {
   "cell_type": "code",
   "execution_count": 6,
   "metadata": {
    "slideshow": {
     "slide_type": "fragment"
    }
   },
   "outputs": [
    {
     "data": {
      "text/plain": [
       "(75,)"
      ]
     },
     "execution_count": 6,
     "metadata": {},
     "output_type": "execute_result"
    }
   ],
   "source": [
    "y_train.shape"
   ]
  },
  {
   "cell_type": "markdown",
   "metadata": {
    "slideshow": {
     "slide_type": "slide"
    }
   },
   "source": [
    "### Train a Nearest Neighbor Classifier - 1 Neighbor\n",
    "\n",
    "Overfit!!"
   ]
  },
  {
   "cell_type": "code",
   "execution_count": 7,
   "metadata": {
    "slideshow": {
     "slide_type": "fragment"
    }
   },
   "outputs": [
    {
     "data": {
      "text/plain": [
       "KNeighborsClassifier(algorithm='auto', leaf_size=30, metric='minkowski',\n",
       "           metric_params=None, n_jobs=1, n_neighbors=1, p=2,\n",
       "           weights='uniform')"
      ]
     },
     "execution_count": 7,
     "metadata": {},
     "output_type": "execute_result"
    }
   ],
   "source": [
    "from sklearn.neighbors import KNeighborsClassifier\n",
    "knn = KNeighborsClassifier(n_neighbors=1)\n",
    "\n",
    "knn.fit(X_train, y_train)"
   ]
  },
  {
   "cell_type": "code",
   "execution_count": 8,
   "metadata": {
    "slideshow": {
     "slide_type": "-"
    }
   },
   "outputs": [
    {
     "data": {
      "text/plain": [
       "KNeighborsClassifier(algorithm='auto', leaf_size=30, metric='minkowski',\n",
       "           metric_params=None, n_jobs=1, n_neighbors=1, p=2,\n",
       "           weights='uniform')"
      ]
     },
     "execution_count": 8,
     "metadata": {},
     "output_type": "execute_result"
    }
   ],
   "source": [
    "scaled_knn = KNeighborsClassifier(n_neighbors=1)\n",
    "scaled_knn.fit(scaled_X_train, scaled_y_train)"
   ]
  },
  {
   "cell_type": "markdown",
   "metadata": {
    "slideshow": {
     "slide_type": "slide"
    }
   },
   "source": [
    "### Comapre Model Performance"
   ]
  },
  {
   "cell_type": "code",
   "execution_count": 9,
   "metadata": {
    "slideshow": {
     "slide_type": "-"
    }
   },
   "outputs": [
    {
     "data": {
      "text/plain": [
       "1.0"
      ]
     },
     "execution_count": 9,
     "metadata": {},
     "output_type": "execute_result"
    }
   ],
   "source": [
    "knn.score(X_test, y_test)"
   ]
  },
  {
   "cell_type": "code",
   "execution_count": 10,
   "metadata": {
    "slideshow": {
     "slide_type": "-"
    }
   },
   "outputs": [
    {
     "data": {
      "text/plain": [
       "0.95999999999999996"
      ]
     },
     "execution_count": 10,
     "metadata": {},
     "output_type": "execute_result"
    }
   ],
   "source": [
    "scaled_knn.score(scaled_X_test, scaled_y_test)"
   ]
  },
  {
   "cell_type": "markdown",
   "metadata": {
    "slideshow": {
     "slide_type": "slide"
    }
   },
   "source": [
    "### Visualize Model - regular"
   ]
  },
  {
   "cell_type": "code",
   "execution_count": 11,
   "metadata": {
    "slideshow": {
     "slide_type": "-"
    }
   },
   "outputs": [
    {
     "data": {
      "image/png": "[encoded data removed]",
      "text/plain": [
       "<Figure size 432x288 with 1 Axes>"
      ]
     },
     "metadata": {},
     "output_type": "display_data"
    }
   ],
   "source": [
    "from figures import plot_2d_separator\n",
    "plt.scatter(X[y == 0, 0], X[y == 0, 1], c='blue', s=40, label='0')\n",
    "plt.scatter(X[y == 1, 0], X[y == 1, 1], c='red', s=40, label='1', marker='s')\n",
    "\n",
    "plt.xlabel(\"first feature\")\n",
    "plt.ylabel(\"second feature\")\n",
    "plot_2d_separator(knn, X)\n",
    "_ = plt.legend()"
   ]
  },
  {
   "cell_type": "markdown",
   "metadata": {
    "slideshow": {
     "slide_type": "slide"
    }
   },
   "source": [
    "### Visualize Model - scaled"
   ]
  },
  {
   "cell_type": "code",
   "execution_count": 12,
   "metadata": {
    "slideshow": {
     "slide_type": "-"
    }
   },
   "outputs": [
    {
     "data": {
      "image/png": "[encoded data removed]",
      "text/plain": [
       "<Figure size 432x288 with 1 Axes>"
      ]
     },
     "metadata": {},
     "output_type": "display_data"
    }
   ],
   "source": [
    "from figures import plot_2d_separator\n",
    "plt.scatter(scaled_X[scaled_y == 0, 0], scaled_X[scaled_y == 0, 1], c='blue', s=40, label='0')\n",
    "plt.scatter(scaled_X[scaled_y == 1, 0], scaled_X[scaled_y == 1, 1], c='red', s=40, label='1', marker='s')\n",
    "\n",
    "plt.xlabel(\"first feature\")\n",
    "plt.ylabel(\"second feature\")\n",
    "plot_2d_separator(scaled_knn, scaled_X)\n",
    "_ = plt.legend()"
   ]
  },
  {
   "cell_type": "markdown",
   "metadata": {
    "slideshow": {
     "slide_type": "slide"
    }
   },
   "source": [
    "### Revelation \n",
    "\n",
    "> ### Scale of various features matters!"
   ]
  },
  {
   "cell_type": "markdown",
   "metadata": {
    "slideshow": {
     "slide_type": "slide"
    }
   },
   "source": [
    "### Train Nearest Neighbor Classifier - 10 neighbors"
   ]
  },
  {
   "cell_type": "code",
   "execution_count": 13,
   "metadata": {
    "slideshow": {
     "slide_type": "fragment"
    }
   },
   "outputs": [
    {
     "data": {
      "text/plain": [
       "KNeighborsClassifier(algorithm='auto', leaf_size=30, metric='minkowski',\n",
       "           metric_params=None, n_jobs=1, n_neighbors=10, p=2,\n",
       "           weights='uniform')"
      ]
     },
     "execution_count": 13,
     "metadata": {},
     "output_type": "execute_result"
    }
   ],
   "source": [
    "from sklearn.neighbors import KNeighborsClassifier\n",
    "knn = KNeighborsClassifier(n_neighbors=10)\n",
    "\n",
    "knn.fit(X_train, y_train)"
   ]
  },
  {
   "cell_type": "code",
   "execution_count": 14,
   "metadata": {
    "slideshow": {
     "slide_type": "-"
    }
   },
   "outputs": [
    {
     "data": {
      "text/plain": [
       "KNeighborsClassifier(algorithm='auto', leaf_size=30, metric='minkowski',\n",
       "           metric_params=None, n_jobs=1, n_neighbors=10, p=2,\n",
       "           weights='uniform')"
      ]
     },
     "execution_count": 14,
     "metadata": {},
     "output_type": "execute_result"
    }
   ],
   "source": [
    "scaled_knn = KNeighborsClassifier(n_neighbors=10)\n",
    "scaled_knn.fit(scaled_X_train, scaled_y_train)"
   ]
  },
  {
   "cell_type": "markdown",
   "metadata": {
    "slideshow": {
     "slide_type": "slide"
    }
   },
   "source": [
    "### Comapre Model Performance"
   ]
  },
  {
   "cell_type": "code",
   "execution_count": 15,
   "metadata": {
    "slideshow": {
     "slide_type": "-"
    }
   },
   "outputs": [
    {
     "data": {
      "text/plain": [
       "0.83999999999999997"
      ]
     },
     "execution_count": 15,
     "metadata": {},
     "output_type": "execute_result"
    }
   ],
   "source": [
    "knn.score(X_test, y_test)"
   ]
  },
  {
   "cell_type": "code",
   "execution_count": 16,
   "metadata": {
    "slideshow": {
     "slide_type": "-"
    }
   },
   "outputs": [
    {
     "data": {
      "text/plain": [
       "0.80000000000000004"
      ]
     },
     "execution_count": 16,
     "metadata": {},
     "output_type": "execute_result"
    }
   ],
   "source": [
    "scaled_knn.score(scaled_X_test, scaled_y_test)"
   ]
  },
  {
   "cell_type": "markdown",
   "metadata": {
    "slideshow": {
     "slide_type": "slide"
    }
   },
   "source": [
    "### Visualize Model - regular"
   ]
  },
  {
   "cell_type": "code",
   "execution_count": 17,
   "metadata": {
    "slideshow": {
     "slide_type": "-"
    }
   },
   "outputs": [
    {
     "data": {
      "image/png": "[encoded data removed]",
      "text/plain": [
       "<Figure size 432x288 with 1 Axes>"
      ]
     },
     "metadata": {},
     "output_type": "display_data"
    }
   ],
   "source": [
    "from figures import plot_2d_separator\n",
    "plt.scatter(X[y == 0, 0], X[y == 0, 1], c='blue', s=40, label='0')\n",
    "plt.scatter(X[y == 1, 0], X[y == 1, 1], c='red', s=40, label='1', marker='s')\n",
    "\n",
    "plt.xlabel(\"first feature\")\n",
    "plt.ylabel(\"second feature\")\n",
    "plot_2d_separator(knn, X)\n",
    "_ = plt.legend()"
   ]
  },
  {
   "cell_type": "markdown",
   "metadata": {
    "slideshow": {
     "slide_type": "slide"
    }
   },
   "source": [
    "### Visualize Model - scaled"
   ]
  },
  {
   "cell_type": "code",
   "execution_count": 18,
   "metadata": {
    "slideshow": {
     "slide_type": "-"
    }
   },
   "outputs": [
    {
     "data": {
      "image/png": "[encoded data removed]",
      "text/plain": [
       "<Figure size 432x288 with 1 Axes>"
      ]
     },
     "metadata": {},
     "output_type": "display_data"
    }
   ],
   "source": [
    "from figures import plot_2d_separator\n",
    "plt.scatter(scaled_X[scaled_y == 0, 0], scaled_X[scaled_y == 0, 1], c='blue', s=40, label='0')\n",
    "plt.scatter(scaled_X[scaled_y == 1, 0], scaled_X[scaled_y == 1, 1], c='red', s=40, label='1', marker='s')\n",
    "\n",
    "plt.xlabel(\"first feature\")\n",
    "plt.ylabel(\"second feature\")\n",
    "plot_2d_separator(scaled_knn, scaled_X)\n",
    "_ = plt.legend()"
   ]
  },
  {
   "cell_type": "markdown",
   "metadata": {
    "slideshow": {
     "slide_type": "slide"
    }
   },
   "source": [
    "### Revelation \n",
    "\n",
    "> ### Number of neighbors matters as well!"
   ]
  },
  {
   "cell_type": "markdown",
   "metadata": {
    "slideshow": {
     "slide_type": "slide"
    }
   },
   "source": [
    "### Tunning # of Neighbors"
   ]
  },
  {
   "cell_type": "code",
   "execution_count": 19,
   "metadata": {
    "slideshow": {
     "slide_type": "fragment"
    }
   },
   "outputs": [
    {
     "data": {
      "image/png": "[encoded data removed]",
      "text/plain": [
       "<Figure size 432x288 with 1 Axes>"
      ]
     },
     "metadata": {},
     "output_type": "display_data"
    }
   ],
   "source": [
    "train_scores = []\n",
    "test_scores = []\n",
    "n_neighbors = range(1,28)\n",
    "for neighbor in n_neighbors:\n",
    "    knn = KNeighborsClassifier(n_neighbors=neighbor)\n",
    "    knn.fit(X_train, y_train)\n",
    "    train_scores.append(knn.score(X_train, y_train))\n",
    "    test_scores.append(knn.score(X_test, y_test))\n",
    "\n",
    "plt.plot(n_neighbors, train_scores, label='train')\n",
    "plt.plot(n_neighbors, test_scores, label='test')\n",
    "plt.ylabel('Accuracy')\n",
    "plt.xlabel('# of neighbors')\n",
    "plt.legend();plt.show()"
   ]
  },
  {
   "cell_type": "markdown",
   "metadata": {
    "slideshow": {
     "slide_type": "slide"
    }
   },
   "source": [
    "> ### But Wait!! Is that Hyperparameter Tuning?"
   ]
  },
  {
   "cell_type": "markdown",
   "metadata": {
    "slideshow": {
     "slide_type": "fragment"
    }
   },
   "source": [
    "> # No"
   ]
  },
  {
   "cell_type": "markdown",
   "metadata": {
    "slideshow": {
     "slide_type": "slide"
    }
   },
   "source": [
    "> ### Hyperparameter tuning is part of Model building and Test Data <span style=\"color:red\">should not</span> be used in model build"
   ]
  },
  {
   "cell_type": "markdown",
   "metadata": {
    "slideshow": {
     "slide_type": "fragment"
    }
   },
   "source": [
    "> ### Hyperparameter Tuning should be performed using <span style=\"color:blue\">Validation Set</span> - a subset of training set"
   ]
  },
  {
   "cell_type": "code",
   "execution_count": 20,
   "metadata": {
    "slideshow": {
     "slide_type": "skip"
    }
   },
   "outputs": [],
   "source": [
    "import pandas as pd\n",
    "# get columns with null - to return sorted in future\n",
    "def null_pct(df):\n",
    "    return {  k:sum(df[k].isnull())/len(df) for k in df.columns}\n",
    "def null_count(df):\n",
    "    return {  k:sum(df[k].isnull()) for k in df.columns}"
   ]
  },
  {
   "cell_type": "code",
   "execution_count": 21,
   "metadata": {
    "slideshow": {
     "slide_type": "skip"
    }
   },
   "outputs": [],
   "source": [
    "from sklearn.base import TransformerMixin, BaseEstimator\n",
    "\n",
    "class CategoricalTransformer(BaseEstimator, TransformerMixin):\n",
    "    \"Converts a set of columns in a DataFrame to categoricals\"\n",
    "    def __init__(self, columns):\n",
    "        self.columns = columns\n",
    "\n",
    "    def fit(self, X, y=None):\n",
    "        'Records the categorical information'\n",
    "        self.cat_map_ = {col: X[col].astype('category').cat\n",
    "                         for col in self.columns}\n",
    "        return self\n",
    "\n",
    "    def transform(self, X, y=None):\n",
    "        X = X.copy()\n",
    "        for col in self.columns:\n",
    "            X[col] = pd.Categorical(X[col],\n",
    "            categories=self.cat_map_[col].categories,\n",
    "            ordered=self.cat_map_[col].ordered)\n",
    "        return X\n",
    "\n",
    "    def inverse_transform(self, trn, y=None):\n",
    "        trn = trn.copy()\n",
    "        trn[self.columns] = trn[self.columns].apply(lambda x: x.astype(object))\n",
    "        return trn\n",
    "    \n",
    "class DummyEncoder(BaseEstimator, TransformerMixin):\n",
    "\n",
    "    def fit(self, X, y=None):\n",
    "        self.columns_ = X.columns\n",
    "        self.cat_cols_ = X.select_dtypes(include=['category']).columns\n",
    "        self.non_cat_cols_ = X.columns.drop(self.cat_cols_)\n",
    "        self.cat_map_ = {col: X[col].cat for col in self.cat_cols_}\n",
    "\n",
    "        self.cat_blocks_ = {}  # {cat col: slice}\n",
    "        left = len(self.non_cat_cols_)\n",
    "        for col in self.cat_cols_:\n",
    "            right = left + len(self.cat_map_[col].categories)\n",
    "            self.cat_blocks_[col] = slice(left, right)\n",
    "            left = right\n",
    "        return self\n",
    "\n",
    "    def transform(self, X, y=None):\n",
    "        return np.asarray(pd.get_dummies(X))\n",
    "\n",
    "    def inverse_transform(self, trn, y=None):\n",
    "        numeric = pd.DataFrame(trn[:, :len(self.non_cat_cols_)],\n",
    "                               columns=self.non_cat_cols_)\n",
    "        series = []\n",
    "        for col, slice_ in self.cat_blocks_.items():\n",
    "            codes = trn[:, slice_].argmax(1)\n",
    "            cat = self.cat_map_[col]\n",
    "            cat = pd.Categorical.from_codes(codes,\n",
    "                                            cat.categories,\n",
    "                                            cat.ordered)\n",
    "            series.append(pd.Series(cat, name=col))\n",
    "        return pd.concat([numeric] + series, axis='columns')[self.columns_]"
   ]
  },
  {
   "cell_type": "markdown",
   "metadata": {
    "slideshow": {
     "slide_type": "slide"
    }
   },
   "source": [
    "### Real Life Example - Housing Data"
   ]
  },
  {
   "cell_type": "code",
   "execution_count": 22,
   "metadata": {
    "slideshow": {
     "slide_type": "fragment"
    }
   },
   "outputs": [
    {
     "data": {
      "text/html": [
       "<div>\n",
       "<style scoped>\n",
       "    .dataframe tbody tr th:only-of-type {\n",
       "        vertical-align: middle;\n",
       "    }\n",
       "\n",
       "    .dataframe tbody tr th {\n",
       "        vertical-align: top;\n",
       "    }\n",
       "\n",
       "    .dataframe thead th {\n",
       "        text-align: right;\n",
       "    }\n",
       "</style>\n",
       "<table border=\"1\" class=\"dataframe\">\n",
       "  <thead>\n",
       "    <tr style=\"text-align: right;\">\n",
       "      <th></th>\n",
       "      <th>0</th>\n",
       "      <th>1</th>\n",
       "      <th>2</th>\n",
       "      <th>3</th>\n",
       "      <th>4</th>\n",
       "    </tr>\n",
       "  </thead>\n",
       "  <tbody>\n",
       "    <tr>\n",
       "      <th>id</th>\n",
       "      <td>1</td>\n",
       "      <td>2</td>\n",
       "      <td>3</td>\n",
       "      <td>4</td>\n",
       "      <td>5</td>\n",
       "    </tr>\n",
       "    <tr>\n",
       "      <th>sale_type</th>\n",
       "      <td>MLS Listing</td>\n",
       "      <td>MLS Listing</td>\n",
       "      <td>MLS Listing</td>\n",
       "      <td>MLS Listing</td>\n",
       "      <td>MLS Listing</td>\n",
       "    </tr>\n",
       "    <tr>\n",
       "      <th>sold_date</th>\n",
       "      <td>NaN</td>\n",
       "      <td>NaN</td>\n",
       "      <td>NaN</td>\n",
       "      <td>NaN</td>\n",
       "      <td>NaN</td>\n",
       "    </tr>\n",
       "    <tr>\n",
       "      <th>property_type</th>\n",
       "      <td>Condo/Co-op</td>\n",
       "      <td>Single Family Residential</td>\n",
       "      <td>Single Family Residential</td>\n",
       "      <td>Single Family Residential</td>\n",
       "      <td>Single Family Residential</td>\n",
       "    </tr>\n",
       "    <tr>\n",
       "      <th>city</th>\n",
       "      <td>Kew Gardens</td>\n",
       "      <td>Anaheim</td>\n",
       "      <td>Howard Beach</td>\n",
       "      <td>Aliso Viejo</td>\n",
       "      <td>Orlando</td>\n",
       "    </tr>\n",
       "    <tr>\n",
       "      <th>state</th>\n",
       "      <td>NY</td>\n",
       "      <td>CA</td>\n",
       "      <td>NY</td>\n",
       "      <td>CA</td>\n",
       "      <td>FL</td>\n",
       "    </tr>\n",
       "    <tr>\n",
       "      <th>zip</th>\n",
       "      <td>11415</td>\n",
       "      <td>92807</td>\n",
       "      <td>11414</td>\n",
       "      <td>92656</td>\n",
       "      <td>32837</td>\n",
       "    </tr>\n",
       "    <tr>\n",
       "      <th>beds</th>\n",
       "      <td>0</td>\n",
       "      <td>7</td>\n",
       "      <td>3</td>\n",
       "      <td>4</td>\n",
       "      <td>3</td>\n",
       "    </tr>\n",
       "    <tr>\n",
       "      <th>baths</th>\n",
       "      <td>1</td>\n",
       "      <td>5.5</td>\n",
       "      <td>1.5</td>\n",
       "      <td>4.5</td>\n",
       "      <td>2</td>\n",
       "    </tr>\n",
       "    <tr>\n",
       "      <th>location</th>\n",
       "      <td>The Texas</td>\n",
       "      <td>91 - Sycamore Canyon</td>\n",
       "      <td>Howard Beach</td>\n",
       "      <td>AV - Aliso Viejo</td>\n",
       "      <td>Orlando</td>\n",
       "    </tr>\n",
       "    <tr>\n",
       "      <th>square_feet</th>\n",
       "      <td>NaN</td>\n",
       "      <td>7400</td>\n",
       "      <td>NaN</td>\n",
       "      <td>3258</td>\n",
       "      <td>1596</td>\n",
       "    </tr>\n",
       "    <tr>\n",
       "      <th>lot_size</th>\n",
       "      <td>NaN</td>\n",
       "      <td>56628</td>\n",
       "      <td>2400</td>\n",
       "      <td>5893</td>\n",
       "      <td>5623</td>\n",
       "    </tr>\n",
       "    <tr>\n",
       "      <th>year_built</th>\n",
       "      <td>1956</td>\n",
       "      <td>2000</td>\n",
       "      <td>1950</td>\n",
       "      <td>2011</td>\n",
       "      <td>1994</td>\n",
       "    </tr>\n",
       "    <tr>\n",
       "      <th>days_on_market</th>\n",
       "      <td>1</td>\n",
       "      <td>2</td>\n",
       "      <td>15</td>\n",
       "      <td>6</td>\n",
       "      <td>8</td>\n",
       "    </tr>\n",
       "    <tr>\n",
       "      <th>x__square_feet</th>\n",
       "      <td>NaN</td>\n",
       "      <td>514</td>\n",
       "      <td>NaN</td>\n",
       "      <td>457</td>\n",
       "      <td>166</td>\n",
       "    </tr>\n",
       "    <tr>\n",
       "      <th>hoa_month</th>\n",
       "      <td>NaN</td>\n",
       "      <td>NaN</td>\n",
       "      <td>NaN</td>\n",
       "      <td>258</td>\n",
       "      <td>64</td>\n",
       "    </tr>\n",
       "    <tr>\n",
       "      <th>status</th>\n",
       "      <td>Active</td>\n",
       "      <td>Active</td>\n",
       "      <td>Active</td>\n",
       "      <td>Active</td>\n",
       "      <td>Active</td>\n",
       "    </tr>\n",
       "    <tr>\n",
       "      <th>next_open_house_start_time</th>\n",
       "      <td>March-11-2018 01:00 PM</td>\n",
       "      <td>NaN</td>\n",
       "      <td>NaN</td>\n",
       "      <td>NaN</td>\n",
       "      <td>NaN</td>\n",
       "    </tr>\n",
       "    <tr>\n",
       "      <th>next_open_house_end_time</th>\n",
       "      <td>March-11-2018 03:00 PM</td>\n",
       "      <td>NaN</td>\n",
       "      <td>NaN</td>\n",
       "      <td>NaN</td>\n",
       "      <td>NaN</td>\n",
       "    </tr>\n",
       "    <tr>\n",
       "      <th>source</th>\n",
       "      <td>MLSLI</td>\n",
       "      <td>CRMLS</td>\n",
       "      <td>MLSLI</td>\n",
       "      <td>CRMLS</td>\n",
       "      <td>MFRMLS</td>\n",
       "    </tr>\n",
       "    <tr>\n",
       "      <th>favorite</th>\n",
       "      <td>N</td>\n",
       "      <td>N</td>\n",
       "      <td>N</td>\n",
       "      <td>N</td>\n",
       "      <td>N</td>\n",
       "    </tr>\n",
       "    <tr>\n",
       "      <th>interested</th>\n",
       "      <td>Y</td>\n",
       "      <td>Y</td>\n",
       "      <td>Y</td>\n",
       "      <td>Y</td>\n",
       "      <td>Y</td>\n",
       "    </tr>\n",
       "    <tr>\n",
       "      <th>latitude</th>\n",
       "      <td>40.7</td>\n",
       "      <td>33.8</td>\n",
       "      <td>40.7</td>\n",
       "      <td>33.6</td>\n",
       "      <td>28.4</td>\n",
       "    </tr>\n",
       "    <tr>\n",
       "      <th>longitude</th>\n",
       "      <td>-73.8</td>\n",
       "      <td>-117.8</td>\n",
       "      <td>-73.8</td>\n",
       "      <td>-117.7</td>\n",
       "      <td>-81.4</td>\n",
       "    </tr>\n",
       "    <tr>\n",
       "      <th>target</th>\n",
       "      <td>False</td>\n",
       "      <td>True</td>\n",
       "      <td>True</td>\n",
       "      <td>True</td>\n",
       "      <td>False</td>\n",
       "    </tr>\n",
       "  </tbody>\n",
       "</table>\n",
       "</div>"
      ],
      "text/plain": [
       "                                                 0                          1  \\\n",
       "id                                               1                          2   \n",
       "sale_type                              MLS Listing                MLS Listing   \n",
       "sold_date                                      NaN                        NaN   \n",
       "property_type                          Condo/Co-op  Single Family Residential   \n",
       "city                                   Kew Gardens                    Anaheim   \n",
       "state                                           NY                         CA   \n",
       "zip                                          11415                      92807   \n",
       "beds                                             0                          7   \n",
       "baths                                            1                        5.5   \n",
       "location                                 The Texas       91 - Sycamore Canyon   \n",
       "square_feet                                    NaN                       7400   \n",
       "lot_size                                       NaN                      56628   \n",
       "year_built                                    1956                       2000   \n",
       "days_on_market                                   1                          2   \n",
       "x__square_feet                                 NaN                        514   \n",
       "hoa_month                                      NaN                        NaN   \n",
       "status                                      Active                     Active   \n",
       "next_open_house_start_time  March-11-2018 01:00 PM                        NaN   \n",
       "next_open_house_end_time    March-11-2018 03:00 PM                        NaN   \n",
       "source                                       MLSLI                      CRMLS   \n",
       "favorite                                         N                          N   \n",
       "interested                                       Y                          Y   \n",
       "latitude                                      40.7                       33.8   \n",
       "longitude                                    -73.8                     -117.8   \n",
       "target                                       False                       True   \n",
       "\n",
       "                                                    2  \\\n",
       "id                                                  3   \n",
       "sale_type                                 MLS Listing   \n",
       "sold_date                                         NaN   \n",
       "property_type               Single Family Residential   \n",
       "city                                     Howard Beach   \n",
       "state                                              NY   \n",
       "zip                                             11414   \n",
       "beds                                                3   \n",
       "baths                                             1.5   \n",
       "location                                 Howard Beach   \n",
       "square_feet                                       NaN   \n",
       "lot_size                                         2400   \n",
       "year_built                                       1950   \n",
       "days_on_market                                     15   \n",
       "x__square_feet                                    NaN   \n",
       "hoa_month                                         NaN   \n",
       "status                                         Active   \n",
       "next_open_house_start_time                        NaN   \n",
       "next_open_house_end_time                          NaN   \n",
       "source                                          MLSLI   \n",
       "favorite                                            N   \n",
       "interested                                          Y   \n",
       "latitude                                         40.7   \n",
       "longitude                                       -73.8   \n",
       "target                                           True   \n",
       "\n",
       "                                                    3  \\\n",
       "id                                                  4   \n",
       "sale_type                                 MLS Listing   \n",
       "sold_date                                         NaN   \n",
       "property_type               Single Family Residential   \n",
       "city                                      Aliso Viejo   \n",
       "state                                              CA   \n",
       "zip                                             92656   \n",
       "beds                                                4   \n",
       "baths                                             4.5   \n",
       "location                             AV - Aliso Viejo   \n",
       "square_feet                                      3258   \n",
       "lot_size                                         5893   \n",
       "year_built                                       2011   \n",
       "days_on_market                                      6   \n",
       "x__square_feet                                    457   \n",
       "hoa_month                                         258   \n",
       "status                                         Active   \n",
       "next_open_house_start_time                        NaN   \n",
       "next_open_house_end_time                          NaN   \n",
       "source                                          CRMLS   \n",
       "favorite                                            N   \n",
       "interested                                          Y   \n",
       "latitude                                         33.6   \n",
       "longitude                                      -117.7   \n",
       "target                                           True   \n",
       "\n",
       "                                                    4  \n",
       "id                                                  5  \n",
       "sale_type                                 MLS Listing  \n",
       "sold_date                                         NaN  \n",
       "property_type               Single Family Residential  \n",
       "city                                          Orlando  \n",
       "state                                              FL  \n",
       "zip                                             32837  \n",
       "beds                                                3  \n",
       "baths                                               2  \n",
       "location                                      Orlando  \n",
       "square_feet                                      1596  \n",
       "lot_size                                         5623  \n",
       "year_built                                       1994  \n",
       "days_on_market                                      8  \n",
       "x__square_feet                                    166  \n",
       "hoa_month                                          64  \n",
       "status                                         Active  \n",
       "next_open_house_start_time                        NaN  \n",
       "next_open_house_end_time                          NaN  \n",
       "source                                         MFRMLS  \n",
       "favorite                                            N  \n",
       "interested                                          Y  \n",
       "latitude                                         28.4  \n",
       "longitude                                       -81.4  \n",
       "target                                          False  "
      ]
     },
     "execution_count": 22,
     "metadata": {},
     "output_type": "execute_result"
    }
   ],
   "source": [
    "data = pd.read_csv('new_train.csv')\n",
    "data.columns = [ x.lower().replace('.','_') for x in data.columns]\n",
    "data.head().T"
   ]
  },
  {
   "cell_type": "markdown",
   "metadata": {
    "slideshow": {
     "slide_type": "slide"
    }
   },
   "source": [
    "### Some Observations"
   ]
  },
  {
   "cell_type": "code",
   "execution_count": 23,
   "metadata": {
    "slideshow": {
     "slide_type": "fragment"
    }
   },
   "outputs": [
    {
     "name": "stdout",
     "output_type": "stream",
     "text": [
      "<class 'pandas.core.frame.DataFrame'>\n",
      "RangeIndex: 19318 entries, 0 to 19317\n",
      "Data columns (total 25 columns):\n",
      "id                            19318 non-null int64\n",
      "sale_type                     19318 non-null object\n",
      "sold_date                     0 non-null float64\n",
      "property_type                 19318 non-null object\n",
      "city                          19306 non-null object\n",
      "state                         19318 non-null object\n",
      "zip                           19271 non-null object\n",
      "beds                          18216 non-null float64\n",
      "baths                         18053 non-null float64\n",
      "location                      18773 non-null object\n",
      "square_feet                   15693 non-null float64\n",
      "lot_size                      10267 non-null float64\n",
      "year_built                    16950 non-null float64\n",
      "days_on_market                18328 non-null float64\n",
      "x__square_feet                15693 non-null float64\n",
      "hoa_month                     7553 non-null float64\n",
      "status                        19318 non-null object\n",
      "next_open_house_start_time    933 non-null object\n",
      "next_open_house_end_time      933 non-null object\n",
      "source                        19318 non-null object\n",
      "favorite                      19318 non-null object\n",
      "interested                    19318 non-null object\n",
      "latitude                      19318 non-null float64\n",
      "longitude                     19318 non-null float64\n",
      "target                        19318 non-null bool\n",
      "dtypes: bool(1), float64(11), int64(1), object(12)\n",
      "memory usage: 3.6+ MB\n"
     ]
    }
   ],
   "source": [
    "data.info()"
   ]
  },
  {
   "cell_type": "markdown",
   "metadata": {
    "slideshow": {
     "slide_type": "slide"
    }
   },
   "source": [
    "### What's different?\n",
    "\n",
    "- Not all features are numeric - **Categorical Variables **\n",
    "- Lot of missing data points"
   ]
  },
  {
   "cell_type": "markdown",
   "metadata": {
    "slideshow": {
     "slide_type": "fragment"
    }
   },
   "source": [
    "### More Revalations:\n",
    "> ### scikit-learn models need data to be numeric/float\n",
    "> ### scikit-learn models implicitly cannot handle missing values"
   ]
  },
  {
   "cell_type": "markdown",
   "metadata": {
    "slideshow": {
     "slide_type": "slide"
    }
   },
   "source": [
    "### Final Revelation\n",
    "\n",
    "> ### Any transformation applied on the training set to handle first 3 revelations should later be applied on the test set as well"
   ]
  },
  {
   "cell_type": "code",
   "execution_count": 24,
   "metadata": {
    "slideshow": {
     "slide_type": "fragment"
    }
   },
   "outputs": [],
   "source": [
    "del(data['sold_date'])\n",
    "del(data['next_open_house_start_time'])\n",
    "del(data['next_open_house_end_time'])"
   ]
  },
  {
   "cell_type": "markdown",
   "metadata": {
    "slideshow": {
     "slide_type": "slide"
    }
   },
   "source": [
    "## Summary so far\n",
    "\n",
    "We need to string following steps into a managable fashion to build <span style=\"color:red\">effective</span> models\n",
    "\n",
    "- Handle missing data\n",
    "- Handle different scales across features\n",
    "- Handle categorical data\n",
    "\n",
    "### - Pipelines"
   ]
  },
  {
   "cell_type": "markdown",
   "metadata": {
    "slideshow": {
     "slide_type": "fragment"
    }
   },
   "source": [
    "#### But then also tune the model\n",
    "\n",
    "- split training data into (cross)validation sets\n",
    "- search best values for hyperparameters for optimal model performance\n",
    "\n",
    "### - GridSearch"
   ]
  },
  {
   "cell_type": "markdown",
   "metadata": {
    "slideshow": {
     "slide_type": "slide"
    }
   },
   "source": [
    "### More on Pipelines and GridSearchCV\n",
    "\n",
    "- also known as meta-estimators in scikit-learn\n",
    "- they inherit the properties of the last estimator used\n",
    "- pipeline is used to chain multiple estimator into one pipe so output of one flows as input of next\n",
    "- GridSearchCV is used to search on a hyperparameter grid the model with the best score "
   ]
  },
  {
   "cell_type": "markdown",
   "metadata": {
    "slideshow": {
     "slide_type": "slide"
    }
   },
   "source": [
    "### Making ML Pipelines"
   ]
  },
  {
   "cell_type": "code",
   "execution_count": null,
   "metadata": {
    "slideshow": {
     "slide_type": "-"
    }
   },
   "outputs": [],
   "source": [
    "from sklearn.pipeline import make_pipeline\n",
    "make_pipeline( CategoricalTransformer(columns=cat_cols), DummyClassifier(\"most_frequent\"))"
   ]
  },
  {
   "cell_type": "markdown",
   "metadata": {
    "slideshow": {
     "slide_type": "-"
    }
   },
   "source": [
    "This will inherit the properties of DummyClassifier\n",
    "\n",
    "![pipeline](figures/pipeline.png)\n",
    "\n",
    "Image Source: <a href=\"https://github.com/amueller/scipy-2017-sklearn/\">SciPy 2016 Scikit-learn Tutorial</a>"
   ]
  },
  {
   "cell_type": "markdown",
   "metadata": {
    "slideshow": {
     "slide_type": "slide"
    }
   },
   "source": [
    "> ## Back to real life housing classification problem"
   ]
  },
  {
   "cell_type": "markdown",
   "metadata": {
    "slideshow": {
     "slide_type": "slide"
    }
   },
   "source": [
    "### Which features have less than 20% missing values?"
   ]
  },
  {
   "cell_type": "code",
   "execution_count": 25,
   "metadata": {
    "slideshow": {
     "slide_type": "fragment"
    }
   },
   "outputs": [
    {
     "data": {
      "text/html": [
       "<div>\n",
       "<style scoped>\n",
       "    .dataframe tbody tr th:only-of-type {\n",
       "        vertical-align: middle;\n",
       "    }\n",
       "\n",
       "    .dataframe tbody tr th {\n",
       "        vertical-align: top;\n",
       "    }\n",
       "\n",
       "    .dataframe thead th {\n",
       "        text-align: right;\n",
       "    }\n",
       "</style>\n",
       "<table border=\"1\" class=\"dataframe\">\n",
       "  <thead>\n",
       "    <tr style=\"text-align: right;\">\n",
       "      <th></th>\n",
       "      <th>null_pct</th>\n",
       "    </tr>\n",
       "  </thead>\n",
       "  <tbody>\n",
       "    <tr>\n",
       "      <th>id</th>\n",
       "      <td>0.000000</td>\n",
       "    </tr>\n",
       "    <tr>\n",
       "      <th>latitude</th>\n",
       "      <td>0.000000</td>\n",
       "    </tr>\n",
       "    <tr>\n",
       "      <th>interested</th>\n",
       "      <td>0.000000</td>\n",
       "    </tr>\n",
       "    <tr>\n",
       "      <th>favorite</th>\n",
       "      <td>0.000000</td>\n",
       "    </tr>\n",
       "    <tr>\n",
       "      <th>source</th>\n",
       "      <td>0.000000</td>\n",
       "    </tr>\n",
       "    <tr>\n",
       "      <th>status</th>\n",
       "      <td>0.000000</td>\n",
       "    </tr>\n",
       "    <tr>\n",
       "      <th>longitude</th>\n",
       "      <td>0.000000</td>\n",
       "    </tr>\n",
       "    <tr>\n",
       "      <th>target</th>\n",
       "      <td>0.000000</td>\n",
       "    </tr>\n",
       "    <tr>\n",
       "      <th>state</th>\n",
       "      <td>0.000000</td>\n",
       "    </tr>\n",
       "    <tr>\n",
       "      <th>property_type</th>\n",
       "      <td>0.000000</td>\n",
       "    </tr>\n",
       "    <tr>\n",
       "      <th>sale_type</th>\n",
       "      <td>0.000000</td>\n",
       "    </tr>\n",
       "    <tr>\n",
       "      <th>city</th>\n",
       "      <td>0.000621</td>\n",
       "    </tr>\n",
       "    <tr>\n",
       "      <th>zip</th>\n",
       "      <td>0.002433</td>\n",
       "    </tr>\n",
       "    <tr>\n",
       "      <th>location</th>\n",
       "      <td>0.028212</td>\n",
       "    </tr>\n",
       "    <tr>\n",
       "      <th>days_on_market</th>\n",
       "      <td>0.051248</td>\n",
       "    </tr>\n",
       "    <tr>\n",
       "      <th>beds</th>\n",
       "      <td>0.057045</td>\n",
       "    </tr>\n",
       "    <tr>\n",
       "      <th>baths</th>\n",
       "      <td>0.065483</td>\n",
       "    </tr>\n",
       "    <tr>\n",
       "      <th>year_built</th>\n",
       "      <td>0.122580</td>\n",
       "    </tr>\n",
       "    <tr>\n",
       "      <th>square_feet</th>\n",
       "      <td>0.187649</td>\n",
       "    </tr>\n",
       "    <tr>\n",
       "      <th>x__square_feet</th>\n",
       "      <td>0.187649</td>\n",
       "    </tr>\n",
       "  </tbody>\n",
       "</table>\n",
       "</div>"
      ],
      "text/plain": [
       "                null_pct\n",
       "id              0.000000\n",
       "latitude        0.000000\n",
       "interested      0.000000\n",
       "favorite        0.000000\n",
       "source          0.000000\n",
       "status          0.000000\n",
       "longitude       0.000000\n",
       "target          0.000000\n",
       "state           0.000000\n",
       "property_type   0.000000\n",
       "sale_type       0.000000\n",
       "city            0.000621\n",
       "zip             0.002433\n",
       "location        0.028212\n",
       "days_on_market  0.051248\n",
       "beds            0.057045\n",
       "baths           0.065483\n",
       "year_built      0.122580\n",
       "square_feet     0.187649\n",
       "x__square_feet  0.187649"
      ]
     },
     "execution_count": 25,
     "metadata": {},
     "output_type": "execute_result"
    }
   ],
   "source": [
    "d = pd.DataFrame(null_pct(data), index=['null_pct']).T.sort_values('null_pct')\n",
    "d[(d.null_pct< .2 )]"
   ]
  },
  {
   "cell_type": "markdown",
   "metadata": {
    "slideshow": {
     "slide_type": "slide"
    }
   },
   "source": [
    "### Set features to work with"
   ]
  },
  {
   "cell_type": "code",
   "execution_count": 26,
   "metadata": {
    "slideshow": {
     "slide_type": "fragment"
    }
   },
   "outputs": [
    {
     "data": {
      "text/html": [
       "<div>\n",
       "<style scoped>\n",
       "    .dataframe tbody tr th:only-of-type {\n",
       "        vertical-align: middle;\n",
       "    }\n",
       "\n",
       "    .dataframe tbody tr th {\n",
       "        vertical-align: top;\n",
       "    }\n",
       "\n",
       "    .dataframe thead th {\n",
       "        text-align: right;\n",
       "    }\n",
       "</style>\n",
       "<table border=\"1\" class=\"dataframe\">\n",
       "  <thead>\n",
       "    <tr style=\"text-align: right;\">\n",
       "      <th></th>\n",
       "      <th>id</th>\n",
       "      <th>favorite</th>\n",
       "      <th>interested</th>\n",
       "      <th>latitude</th>\n",
       "      <th>longitude</th>\n",
       "      <th>status</th>\n",
       "      <th>property_type</th>\n",
       "      <th>sale_type</th>\n",
       "      <th>source</th>\n",
       "      <th>state</th>\n",
       "      <th>beds</th>\n",
       "      <th>baths</th>\n",
       "      <th>year_built</th>\n",
       "      <th>x__square_feet</th>\n",
       "      <th>square_feet</th>\n",
       "      <th>target</th>\n",
       "    </tr>\n",
       "  </thead>\n",
       "  <tbody>\n",
       "    <tr>\n",
       "      <th>0</th>\n",
       "      <td>1</td>\n",
       "      <td>N</td>\n",
       "      <td>Y</td>\n",
       "      <td>40.7</td>\n",
       "      <td>-73.8</td>\n",
       "      <td>Active</td>\n",
       "      <td>Condo/Co-op</td>\n",
       "      <td>MLS Listing</td>\n",
       "      <td>MLSLI</td>\n",
       "      <td>NY</td>\n",
       "      <td>0.0</td>\n",
       "      <td>1.0</td>\n",
       "      <td>1956.0</td>\n",
       "      <td>NaN</td>\n",
       "      <td>NaN</td>\n",
       "      <td>False</td>\n",
       "    </tr>\n",
       "    <tr>\n",
       "      <th>1</th>\n",
       "      <td>2</td>\n",
       "      <td>N</td>\n",
       "      <td>Y</td>\n",
       "      <td>33.8</td>\n",
       "      <td>-117.8</td>\n",
       "      <td>Active</td>\n",
       "      <td>Single Family Residential</td>\n",
       "      <td>MLS Listing</td>\n",
       "      <td>CRMLS</td>\n",
       "      <td>CA</td>\n",
       "      <td>7.0</td>\n",
       "      <td>5.5</td>\n",
       "      <td>2000.0</td>\n",
       "      <td>514.0</td>\n",
       "      <td>7400.0</td>\n",
       "      <td>True</td>\n",
       "    </tr>\n",
       "    <tr>\n",
       "      <th>2</th>\n",
       "      <td>3</td>\n",
       "      <td>N</td>\n",
       "      <td>Y</td>\n",
       "      <td>40.7</td>\n",
       "      <td>-73.8</td>\n",
       "      <td>Active</td>\n",
       "      <td>Single Family Residential</td>\n",
       "      <td>MLS Listing</td>\n",
       "      <td>MLSLI</td>\n",
       "      <td>NY</td>\n",
       "      <td>3.0</td>\n",
       "      <td>1.5</td>\n",
       "      <td>1950.0</td>\n",
       "      <td>NaN</td>\n",
       "      <td>NaN</td>\n",
       "      <td>True</td>\n",
       "    </tr>\n",
       "  </tbody>\n",
       "</table>\n",
       "</div>"
      ],
      "text/plain": [
       "   id favorite interested  latitude  longitude  status  \\\n",
       "0   1        N          Y      40.7      -73.8  Active   \n",
       "1   2        N          Y      33.8     -117.8  Active   \n",
       "2   3        N          Y      40.7      -73.8  Active   \n",
       "\n",
       "               property_type    sale_type source state  beds  baths  \\\n",
       "0                Condo/Co-op  MLS Listing  MLSLI    NY   0.0    1.0   \n",
       "1  Single Family Residential  MLS Listing  CRMLS    CA   7.0    5.5   \n",
       "2  Single Family Residential  MLS Listing  MLSLI    NY   3.0    1.5   \n",
       "\n",
       "   year_built  x__square_feet  square_feet  target  \n",
       "0      1956.0             NaN          NaN   False  \n",
       "1      2000.0           514.0       7400.0    True  \n",
       "2      1950.0             NaN          NaN    True  "
      ]
     },
     "execution_count": 26,
     "metadata": {},
     "output_type": "execute_result"
    }
   ],
   "source": [
    "new_features = ['id', 'favorite', 'interested', 'latitude', 'longitude', 'status', 'property_type', 'sale_type', 'source', \n",
    "                'state', 'beds', 'baths', 'year_built', 'x__square_feet', 'square_feet', 'target']\n",
    "\n",
    "sub_data = data[new_features]\n",
    "sub_data.head(3)"
   ]
  },
  {
   "cell_type": "code",
   "execution_count": 27,
   "metadata": {
    "slideshow": {
     "slide_type": "skip"
    }
   },
   "outputs": [
    {
     "name": "stdout",
     "output_type": "stream",
     "text": [
      "19318\n",
      "17815\n"
     ]
    }
   ],
   "source": [
    "print (len(sub_data))\n",
    "sub_data = sub_data.drop_duplicates(subset=['favorite', 'interested', 'latitude', 'longitude', 'status', 'property_type', 'sale_type', \n",
    "                                            'source', 'state', 'beds', 'baths', 'year_built', 'x__square_feet', 'square_feet', 'target'])\n",
    "print (len(sub_data))"
   ]
  },
  {
   "cell_type": "code",
   "execution_count": 28,
   "metadata": {
    "slideshow": {
     "slide_type": "skip"
    }
   },
   "outputs": [],
   "source": [
    "sub_data = sub_data.copy()\n",
    "sub_data.loc[sub_data['sale_type'] == 'New Construction Plan','year_built'] = 2018.0\n",
    "sub_data.loc[sub_data['property_type'] == 'Vacant Land','year_built'] = 2019.0"
   ]
  },
  {
   "cell_type": "code",
   "execution_count": 29,
   "metadata": {
    "slideshow": {
     "slide_type": "skip"
    }
   },
   "outputs": [],
   "source": [
    "from sklearn.dummy import DummyClassifier\n",
    "from sklearn.model_selection import cross_val_score, train_test_split\n",
    "from sklearn.svm import SVC\n",
    "from sklearn.ensemble import RandomForestClassifier\n",
    "from sklearn.metrics import roc_auc_score, roc_curve, make_scorer\n",
    "from sklearn.model_selection import GridSearchCV\n",
    "from sklearn.linear_model import LogisticRegressionCV\n",
    "from sklearn.svm import SVC, LinearSVC\n",
    "from sklearn.neighbors import KNeighborsClassifier\n",
    "from sklearn.ensemble import RandomForestClassifier\n",
    "from sklearn.pipeline import Pipeline, make_pipeline\n",
    "from sklearn.preprocessing import Imputer, RobustScaler, StandardScaler"
   ]
  },
  {
   "cell_type": "code",
   "execution_count": 30,
   "metadata": {
    "slideshow": {
     "slide_type": "skip"
    }
   },
   "outputs": [],
   "source": [
    "def plot_roc(model, X_test, y_test):\n",
    "    df = model.decision_function(X_test)\n",
    "    fpr, tpr, _ = roc_curve(y_test, df)\n",
    "    acc = model.score(X_test, y_test)\n",
    "    auc0 = roc_auc_score(y_test, df)\n",
    "    auc1 = roc_auc_score(y_test, model.predict(X_test))\n",
    "    plt.plot(fpr, tpr, label=\"acc:%.2f auc0:%.2f auc1:%.2f\" % (acc, auc0, auc1), linewidth=3)\n",
    "    plt.xlabel(\"False Positive Rate\")\n",
    "    plt.ylabel(\"True Positive Rate (recall)\")\n",
    "    plt.title(repr(model).split('(')[0])\n",
    "    plt.legend(loc=\"best\");"
   ]
  },
  {
   "cell_type": "code",
   "execution_count": 31,
   "metadata": {
    "slideshow": {
     "slide_type": "skip"
    }
   },
   "outputs": [],
   "source": [
    "roc_auc_scorer = make_scorer(roc_auc_score, greater_is_better=True,\n",
    "                             needs_threshold=True)"
   ]
  },
  {
   "cell_type": "markdown",
   "metadata": {
    "slideshow": {
     "slide_type": "slide"
    }
   },
   "source": [
    "### Set model Inputs"
   ]
  },
  {
   "cell_type": "code",
   "execution_count": 32,
   "metadata": {
    "slideshow": {
     "slide_type": "fragment"
    }
   },
   "outputs": [],
   "source": [
    "X = sub_data[['favorite', 'interested', 'latitude', 'longitude', 'status', 'property_type', 'sale_type', \n",
    "                    'source', 'state', 'beds', 'baths', 'year_built', 'x__square_feet', 'square_feet']]\n",
    "y = sub_data.target"
   ]
  },
  {
   "cell_type": "code",
   "execution_count": 33,
   "metadata": {
    "slideshow": {
     "slide_type": "fragment"
    }
   },
   "outputs": [],
   "source": [
    "cat_cols = ['favorite', 'interested', 'status', 'property_type', 'sale_type', 'source', 'state']"
   ]
  },
  {
   "cell_type": "markdown",
   "metadata": {
    "slideshow": {
     "slide_type": "slide"
    }
   },
   "source": [
    "### Establish base case for prediction"
   ]
  },
  {
   "cell_type": "code",
   "execution_count": 34,
   "metadata": {
    "slideshow": {
     "slide_type": "fragment"
    }
   },
   "outputs": [
    {
     "data": {
      "text/plain": [
       "array([ 0.68984678,  0.68996295,  0.68996295])"
      ]
     },
     "execution_count": 34,
     "metadata": {},
     "output_type": "execute_result"
    }
   ],
   "source": [
    "dummy_pipe = make_pipeline( CategoricalTransformer(columns=cat_cols), DummyEncoder(), DummyClassifier(\"most_frequent\"))\n",
    "cross_val_score(dummy_pipe, X, y)"
   ]
  },
  {
   "cell_type": "markdown",
   "metadata": {
    "slideshow": {
     "slide_type": "fragment"
    }
   },
   "source": [
    "### Create training and test set"
   ]
  },
  {
   "cell_type": "code",
   "execution_count": 35,
   "metadata": {
    "slideshow": {
     "slide_type": "-"
    }
   },
   "outputs": [],
   "source": [
    "X_train, X_test, y_train, y_test = train_test_split(X,y, random_state=42 )"
   ]
  },
  {
   "cell_type": "markdown",
   "metadata": {
    "slideshow": {
     "slide_type": "slide"
    }
   },
   "source": [
    "### Support Vector Machine"
   ]
  },
  {
   "cell_type": "code",
   "execution_count": 36,
   "metadata": {
    "slideshow": {
     "slide_type": "fragment"
    }
   },
   "outputs": [],
   "source": [
    "Cs = [ 1, 10, 100, 500, 750] \n",
    "gammas = [0.0005, 0.001, 0.01, .1, 1] \n",
    "param_grid = {'svc__C': Cs, 'svc__gamma' : gammas}"
   ]
  },
  {
   "cell_type": "code",
   "execution_count": 37,
   "metadata": {
    "slideshow": {
     "slide_type": "fragment"
    }
   },
   "outputs": [],
   "source": [
    "svc_pipe = make_pipeline( CategoricalTransformer(columns=cat_cols), DummyEncoder(), Imputer(strategy='median'),  StandardScaler(), SVC(random_state=42) )"
   ]
  },
  {
   "cell_type": "code",
   "execution_count": 38,
   "metadata": {
    "scrolled": true,
    "slideshow": {
     "slide_type": "slide"
    }
   },
   "outputs": [
    {
     "name": "stdout",
     "output_type": "stream",
     "text": [
      "Fitting 5 folds for each of 25 candidates, totalling 125 fits\n",
      "[CV] svc__C=1, svc__gamma=0.0005 .....................................\n",
      "[CV] svc__C=1, svc__gamma=0.0005 .....................................\n",
      "[CV] svc__C=1, svc__gamma=0.0005 .....................................\n",
      "[CV] svc__C=1, svc__gamma=0.0005 .....................................\n",
      "[CV] svc__C=1, svc__gamma=0.0005 .....................................\n",
      "[CV] svc__C=1, svc__gamma=0.001 ......................................\n",
      "[CV] svc__C=1, svc__gamma=0.001 ......................................\n",
      "[CV] svc__C=1, svc__gamma=0.001 ......................................\n",
      "[CV]  svc__C=1, svc__gamma=0.001, score=0.8323980546202768, total=  18.0s\n",
      "[CV] svc__C=1, svc__gamma=0.001 ......................................\n",
      "[CV]  svc__C=1, svc__gamma=0.0005, score=0.7875046763935653, total=  19.0s\n",
      "[CV] svc__C=1, svc__gamma=0.001 ......................................\n",
      "[CV]  svc__C=1, svc__gamma=0.001, score=0.7639356528245417, total=  19.5s\n",
      "[CV] svc__C=1, svc__gamma=0.01 .......................................\n",
      "[CV]  svc__C=1, svc__gamma=0.001, score=0.780314371257485, total=  19.8s\n",
      "[CV] svc__C=1, svc__gamma=0.01 .......................................\n",
      "[CV]  svc__C=1, svc__gamma=0.0005, score=0.7542087542087542, total=  20.3s\n",
      "[CV] svc__C=1, svc__gamma=0.01 .......................................\n",
      "[CV]  svc__C=1, svc__gamma=0.0005, score=0.7746162485960314, total=  20.6s\n",
      "[CV] svc__C=1, svc__gamma=0.01 .......................................\n",
      "[CV]  svc__C=1, svc__gamma=0.0005, score=0.7784431137724551, total=  21.1s\n",
      "[CV] svc__C=1, svc__gamma=0.01 .......................................\n",
      "[CV]  svc__C=1, svc__gamma=0.0005, score=0.7690868263473054, total=  20.8s\n",
      "[CV] svc__C=1, svc__gamma=0.1 ........................................\n",
      "[CV]  svc__C=1, svc__gamma=0.01, score=0.8787878787878788, total=  14.1s\n",
      "[CV] svc__C=1, svc__gamma=0.1 ........................................\n",
      "[CV]  svc__C=1, svc__gamma=0.01, score=0.844311377245509, total=  17.8s\n",
      "[CV]  svc__C=1, svc__gamma=0.01, score=0.8352676900037439, total=  17.1s\n",
      "[CV]  svc__C=1, svc__gamma=0.01, score=0.8166853722409277, total=  17.8s\n",
      "[CV]  svc__C=1, svc__gamma=0.01, score=0.8334580838323353, total=  17.5s\n",
      "[CV] svc__C=1, svc__gamma=0.1 ........................................\n",
      "[CV] svc__C=1, svc__gamma=0.1 ........................................\n",
      "[CV]  svc__C=1, svc__gamma=0.1, score=0.8327721661054994, total=  16.3s\n",
      "[CV] svc__C=1, svc__gamma=0.1 ........................................\n",
      "[CV] svc__C=1, svc__gamma=1 ..........................................\n",
      "[CV] svc__C=1, svc__gamma=1 ..........................................\n",
      "[CV]  svc__C=1, svc__gamma=0.001, score=0.7907934131736527, total=  20.1s\n",
      "[CV]  svc__C=1, svc__gamma=0.001, score=0.7858479970048671, total=  19.8s\n",
      "[CV] svc__C=1, svc__gamma=1 ..........................................\n"
     ]
    },
    {
     "name": "stderr",
     "output_type": "stream",
     "text": [
      "[Parallel(n_jobs=-1)]: Done  16 tasks      | elapsed:   59.1s\n"
     ]
    },
    {
     "name": "stdout",
     "output_type": "stream",
     "text": [
      "[CV] svc__C=1, svc__gamma=1 ..........................................\n",
      "[CV]  svc__C=1, svc__gamma=0.1, score=0.8843995510662177, total=  13.9s\n",
      "[CV] svc__C=1, svc__gamma=1 ..........................................\n",
      "[CV] . svc__C=1, svc__gamma=1, score=0.9042274597830153, total=  15.0s\n",
      "[CV] svc__C=10, svc__gamma=0.0005 ....................................\n",
      "[CV]  svc__C=1, svc__gamma=0.1, score=0.847997004867091, total=  15.0s\n",
      "[CV] svc__C=10, svc__gamma=0.0005 ....................................\n",
      "[CV]  svc__C=1, svc__gamma=0.1, score=0.8510479041916168, total=  15.8s\n",
      "[CV] svc__C=10, svc__gamma=0.0005 ....................................\n",
      "[CV]  svc__C=1, svc__gamma=0.1, score=0.8401946107784432, total=  15.7s\n",
      "[CV] svc__C=10, svc__gamma=0.0005 ....................................\n",
      "[CV] . svc__C=1, svc__gamma=1, score=0.8514777403666293, total=  16.5s\n",
      "[CV] svc__C=10, svc__gamma=0.0005 ....................................\n",
      "[CV] . svc__C=1, svc__gamma=1, score=0.8589071856287425, total=  15.5s\n",
      "[CV] svc__C=10, svc__gamma=0.001 .....................................\n",
      "[CV] . svc__C=1, svc__gamma=1, score=0.8581586826347305, total=  16.0s\n",
      "[CV] svc__C=10, svc__gamma=0.001 .....................................\n",
      "[CV] . svc__C=1, svc__gamma=1, score=0.8629726694122052, total=  13.5s\n",
      "[CV] svc__C=10, svc__gamma=0.001 .....................................\n",
      "[CV]  svc__C=10, svc__gamma=0.0005, score=0.8769173213617658, total=  13.9s\n",
      "[CV] svc__C=10, svc__gamma=0.001 .....................................\n",
      "[CV]  svc__C=10, svc__gamma=0.0005, score=0.7942386831275721, total=  16.6s\n",
      "[CV] svc__C=10, svc__gamma=0.001 .....................................\n",
      "[CV]  svc__C=10, svc__gamma=0.001, score=0.8903853348297793, total=  13.4s\n",
      "[CV] svc__C=10, svc__gamma=0.01 ......................................\n",
      "[CV]  svc__C=10, svc__gamma=0.0005, score=0.8244760479041916, total=  16.8s\n",
      "[CV] svc__C=10, svc__gamma=0.01 ......................................\n",
      "[CV]  svc__C=10, svc__gamma=0.0005, score=0.8181137724550899, total=  16.9s\n",
      "[CV] svc__C=10, svc__gamma=0.01 ......................................\n",
      "[CV]  svc__C=10, svc__gamma=0.0005, score=0.8172968925496069, total=  17.2s\n",
      "[CV] svc__C=10, svc__gamma=0.01 ......................................\n",
      "[CV]  svc__C=10, svc__gamma=0.001, score=0.8065843621399177, total=  16.2s\n",
      "[CV] svc__C=10, svc__gamma=0.01 ......................................\n",
      "[CV]  svc__C=10, svc__gamma=0.001, score=0.8327095808383234, total=  15.4s\n",
      "[CV] svc__C=10, svc__gamma=0.1 .......................................\n",
      "[CV]  svc__C=10, svc__gamma=0.01, score=0.9176954732510288, total=  11.3s\n",
      "[CV] svc__C=10, svc__gamma=0.1 .......................................\n",
      "[CV]  svc__C=10, svc__gamma=0.01, score=0.8555929667040778, total=  14.2s\n",
      "[CV] svc__C=10, svc__gamma=0.1 .......................................\n",
      "[CV]  svc__C=10, svc__gamma=0.001, score=0.8308383233532934, total=  16.8s\n",
      "[CV] svc__C=10, svc__gamma=0.1 .......................................\n",
      "[CV]  svc__C=10, svc__gamma=0.01, score=0.8768712574850299, total=  13.8s\n",
      "[CV] svc__C=10, svc__gamma=0.1 .......................................\n",
      "[CV]  svc__C=10, svc__gamma=0.01, score=0.8566616766467066, total=  14.3s\n",
      "[CV]  svc__C=10, svc__gamma=0.01, score=0.8573567952077873, total=  14.0s\n",
      "[CV] svc__C=10, svc__gamma=1 .........................................\n",
      "[CV] svc__C=10, svc__gamma=1 .........................................\n",
      "[CV]  svc__C=10, svc__gamma=0.001, score=0.8296518157993261, total=  17.1s\n",
      "[CV] svc__C=10, svc__gamma=1 .........................................\n",
      "[CV]  svc__C=10, svc__gamma=0.1, score=0.9259259259259259, total=   9.5s\n",
      "[CV] svc__C=10, svc__gamma=1 .........................................\n",
      "[CV]  svc__C=10, svc__gamma=0.1, score=0.8600823045267489, total=  13.0s\n",
      "[CV] svc__C=10, svc__gamma=1 .........................................\n",
      "[CV]  svc__C=10, svc__gamma=1, score=0.9266741488963711, total=  10.9s\n",
      "[CV] svc__C=100, svc__gamma=0.0005 ...................................\n",
      "[CV]  svc__C=10, svc__gamma=0.1, score=0.8697604790419161, total=  12.8s\n",
      "[CV] svc__C=100, svc__gamma=0.0005 ...................................\n",
      "[CV]  svc__C=10, svc__gamma=0.1, score=0.8645209580838323, total=  12.7s\n",
      "[CV] svc__C=100, svc__gamma=0.0005 ...................................\n",
      "[CV]  svc__C=10, svc__gamma=0.1, score=0.871209284912018, total=  12.7s\n",
      "[CV] svc__C=100, svc__gamma=0.0005 ...................................\n",
      "[CV]  svc__C=10, svc__gamma=1, score=0.8873502994011976, total=  13.6s\n",
      "[CV] svc__C=100, svc__gamma=0.0005 ...................................\n",
      "[CV]  svc__C=10, svc__gamma=1, score=0.8829031051253273, total=  14.2s\n",
      "[CV] svc__C=100, svc__gamma=0.001 ....................................\n",
      "[CV]  svc__C=10, svc__gamma=1, score=0.8888056907525271, total=  13.8s\n",
      "[CV] svc__C=100, svc__gamma=0.001 ....................................\n",
      "[CV]  svc__C=10, svc__gamma=1, score=0.8828592814371258, total=  14.0s\n",
      "[CV] svc__C=100, svc__gamma=0.001 ....................................\n",
      "[CV]  svc__C=100, svc__gamma=0.0005, score=0.9075944631500187, total=  12.4s\n",
      "[CV] svc__C=100, svc__gamma=0.001 ....................................\n",
      "[CV]  svc__C=100, svc__gamma=0.0005, score=0.843937125748503, total=  15.5s\n",
      "[CV] svc__C=100, svc__gamma=0.001 ....................................\n",
      "[CV]  svc__C=100, svc__gamma=0.0005, score=0.8338945005611672, total=  16.0s\n",
      "[CV] svc__C=100, svc__gamma=0.01 .....................................\n",
      "[CV]  svc__C=100, svc__gamma=0.0005, score=0.8476796407185628, total=  15.9s\n",
      "[CV] svc__C=100, svc__gamma=0.01 .....................................\n",
      "[CV]  svc__C=100, svc__gamma=0.001, score=0.8537224092779648, total=  14.5s\n",
      "[CV] svc__C=100, svc__gamma=0.01 .....................................\n",
      "[CV]  svc__C=100, svc__gamma=0.001, score=0.9173213617658063, total=  10.9s\n",
      "[CV] svc__C=100, svc__gamma=0.01 .....................................\n",
      "[CV]  svc__C=100, svc__gamma=0.0005, score=0.8457506551853239, total=  15.7s\n",
      "[CV] svc__C=100, svc__gamma=0.01 .....................................\n",
      "[CV]  svc__C=100, svc__gamma=0.001, score=0.8648952095808383, total=  13.7s\n",
      "[CV] svc__C=100, svc__gamma=0.1 ......................................\n",
      "[CV]  svc__C=100, svc__gamma=0.01, score=0.9334081556303778, total=   8.0s\n",
      "[CV] svc__C=100, svc__gamma=0.1 ......................................\n",
      "[CV]  svc__C=100, svc__gamma=0.001, score=0.8615269461077845, total=  14.0s\n",
      "[CV] svc__C=100, svc__gamma=0.1 ......................................\n",
      "[CV]  svc__C=100, svc__gamma=0.01, score=0.8806584362139918, total=  11.5s\n",
      "[CV] svc__C=100, svc__gamma=0.1 ......................................\n",
      "[CV]  svc__C=100, svc__gamma=0.01, score=0.8948353293413174, total=  11.6s\n",
      "[CV] svc__C=100, svc__gamma=0.1 ......................................\n",
      "[CV]  svc__C=100, svc__gamma=0.001, score=0.8539872706851367, total=  13.9s\n",
      "[CV] svc__C=100, svc__gamma=1 ........................................\n",
      "[CV]  svc__C=100, svc__gamma=0.01, score=0.8854790419161677, total=  12.0s\n",
      "[CV] svc__C=100, svc__gamma=1 ........................................\n",
      "[CV]  svc__C=100, svc__gamma=0.01, score=0.8831898165481094, total=  11.7s\n",
      "[CV] svc__C=100, svc__gamma=1 ........................................\n",
      "[CV]  svc__C=100, svc__gamma=0.1, score=0.9375233819678264, total=   7.7s\n",
      "[CV] svc__C=100, svc__gamma=1 ........................................\n",
      "[CV]  svc__C=100, svc__gamma=0.1, score=0.8881406659184437, total=  12.0s\n",
      "[CV] svc__C=100, svc__gamma=1 ........................................\n",
      "[CV]  svc__C=100, svc__gamma=0.1, score=0.9004491017964071, total=  11.8s\n",
      "[CV] svc__C=500, svc__gamma=0.0005 ...................................\n",
      "[CV]  svc__C=100, svc__gamma=1, score=0.9438832772166106, total=   9.9s\n",
      "[CV] svc__C=500, svc__gamma=0.0005 ...................................\n",
      "[CV]  svc__C=100, svc__gamma=0.1, score=0.8948353293413174, total=  12.0s\n",
      "[CV] svc__C=500, svc__gamma=0.0005 ...................................\n",
      "[CV]  svc__C=100, svc__gamma=0.1, score=0.8955447397978286, total=  12.0s\n",
      "[CV] svc__C=500, svc__gamma=0.0005 ...................................\n",
      "[CV]  svc__C=100, svc__gamma=1, score=0.9023569023569024, total=  12.9s\n",
      "[CV] svc__C=500, svc__gamma=0.0005 ...................................\n",
      "[CV]  svc__C=100, svc__gamma=1, score=0.906062874251497, total=  13.7s\n"
     ]
    },
    {
     "name": "stdout",
     "output_type": "stream",
     "text": [
      "[CV] svc__C=500, svc__gamma=0.001 ....................................\n",
      "[CV]  svc__C=100, svc__gamma=1, score=0.905314371257485, total=  13.1s\n",
      "[CV] svc__C=500, svc__gamma=0.001 ....................................\n",
      "[CV]  svc__C=100, svc__gamma=1, score=0.8989142643204793, total=  12.8s\n",
      "[CV] svc__C=500, svc__gamma=0.001 ....................................\n",
      "[CV]  svc__C=500, svc__gamma=0.0005, score=0.9225589225589226, total=  10.0s\n",
      "[CV] svc__C=500, svc__gamma=0.001 ....................................\n",
      "[CV]  svc__C=500, svc__gamma=0.0005, score=0.8649457538346427, total=  14.4s\n",
      "[CV] svc__C=500, svc__gamma=0.001 ....................................\n",
      "[CV]  svc__C=500, svc__gamma=0.0005, score=0.874625748502994, total=  14.2s\n",
      "[CV] svc__C=500, svc__gamma=0.01 .....................................\n",
      "[CV]  svc__C=500, svc__gamma=0.001, score=0.9270482603815937, total=  10.1s\n",
      "[CV] svc__C=500, svc__gamma=0.01 .....................................\n",
      "[CV]  svc__C=500, svc__gamma=0.0005, score=0.8708832335329342, total=  14.4s\n",
      "[CV] svc__C=500, svc__gamma=0.01 .....................................\n",
      "[CV]  svc__C=500, svc__gamma=0.001, score=0.8750467639356528, total=  13.5s\n",
      "[CV] svc__C=500, svc__gamma=0.01 .....................................\n",
      "[CV]  svc__C=500, svc__gamma=0.0005, score=0.8655934107076001, total=  15.0s\n",
      "[CV] svc__C=500, svc__gamma=0.01 .....................................\n",
      "[CV]  svc__C=500, svc__gamma=0.001, score=0.8866017964071856, total=  13.5s\n",
      "[CV] svc__C=500, svc__gamma=0.1 ......................................\n",
      "[CV]  svc__C=500, svc__gamma=0.01, score=0.9393939393939394, total=   7.3s\n",
      "[CV] svc__C=500, svc__gamma=0.1 ......................................\n",
      "[CV]  svc__C=500, svc__gamma=0.001, score=0.8806137724550899, total=  13.6s\n",
      "[CV] svc__C=500, svc__gamma=0.1 ......................................\n",
      "[CV]  svc__C=500, svc__gamma=0.01, score=0.9019827908716798, total=  11.6s\n",
      "[CV] svc__C=500, svc__gamma=0.1 ......................................\n",
      "[CV]  svc__C=500, svc__gamma=0.001, score=0.8745788094346687, total=  13.2s\n",
      "[CV] svc__C=500, svc__gamma=0.1 ......................................\n",
      "[CV]  svc__C=500, svc__gamma=0.01, score=0.9191616766467066, total=  11.8s\n",
      "[CV] svc__C=500, svc__gamma=1 ........................................\n",
      "[CV]  svc__C=500, svc__gamma=0.01, score=0.9041557469112692, total=  11.4s\n",
      "[CV] svc__C=500, svc__gamma=1 ........................................\n",
      "[CV]  svc__C=500, svc__gamma=0.1, score=0.9476243920688365, total=   8.3s\n",
      "[CV] svc__C=500, svc__gamma=1 ........................................\n",
      "[CV]  svc__C=500, svc__gamma=0.01, score=0.9109281437125748, total=  11.8s\n",
      "[CV] svc__C=500, svc__gamma=1 ........................................\n",
      "[CV]  svc__C=500, svc__gamma=0.1, score=0.9094650205761317, total=  13.0s\n",
      "[CV] svc__C=500, svc__gamma=1 ........................................\n",
      "[CV]  svc__C=500, svc__gamma=0.1, score=0.9172904191616766, total=  12.3s\n",
      "[CV] svc__C=750, svc__gamma=0.0005 ...................................\n",
      "[CV]  svc__C=500, svc__gamma=0.1, score=0.9078996630475478, total=  12.1s\n",
      "[CV]  svc__C=500, svc__gamma=0.1, score=0.9131736526946108, total=  12.9s\n",
      "[CV] svc__C=750, svc__gamma=0.0005 ...................................\n",
      "[CV] svc__C=750, svc__gamma=0.0005 ...................................\n",
      "[CV]  svc__C=500, svc__gamma=1, score=0.9386457164234941, total=  10.9s\n",
      "[CV] svc__C=750, svc__gamma=0.0005 ...................................\n",
      "[CV]  svc__C=500, svc__gamma=1, score=0.9143284698840254, total=  16.2s\n",
      "[CV]  svc__C=500, svc__gamma=1, score=0.9161676646706587, total=  15.0s\n",
      "[CV] svc__C=750, svc__gamma=0.0005 ...................................\n",
      "[CV] svc__C=750, svc__gamma=0.001 ....................................\n",
      "[CV]  svc__C=500, svc__gamma=1, score=0.9210329341317365, total=  15.9s\n",
      "[CV] svc__C=750, svc__gamma=0.001 ....................................\n",
      "[CV]  svc__C=500, svc__gamma=1, score=0.9071508798202921, total=  14.8s\n",
      "[CV] svc__C=750, svc__gamma=0.001 ....................................\n",
      "[CV]  svc__C=750, svc__gamma=0.0005, score=0.9210624766180322, total=   9.6s\n",
      "[CV] svc__C=750, svc__gamma=0.001 ....................................\n",
      "[CV]  svc__C=750, svc__gamma=0.0005, score=0.8720538720538721, total=  12.7s\n",
      "[CV] svc__C=750, svc__gamma=0.001 ....................................\n",
      "[CV]  svc__C=750, svc__gamma=0.0005, score=0.8802395209580839, total=  13.4s\n",
      "[CV] svc__C=750, svc__gamma=0.01 .....................................\n",
      "[CV]  svc__C=750, svc__gamma=0.001, score=0.9285447063224841, total=   9.2s\n",
      "[CV] svc__C=750, svc__gamma=0.01 .....................................\n",
      "[CV] ....... svc__C=750, svc__gamma=0.0005, score=0.875, total=  13.3s\n",
      "[CV] svc__C=750, svc__gamma=0.01 .....................................\n",
      "[CV]  svc__C=750, svc__gamma=0.001, score=0.8787878787878788, total=  12.4s\n",
      "[CV] svc__C=750, svc__gamma=0.01 .....................................\n",
      "[CV]  svc__C=750, svc__gamma=0.0005, score=0.8715836765256458, total=  13.9s\n",
      "[CV] svc__C=750, svc__gamma=0.01 .....................................\n",
      "[CV]  svc__C=750, svc__gamma=0.001, score=0.8914670658682635, total=  12.7s\n",
      "[CV] svc__C=750, svc__gamma=0.1 ......................................\n",
      "[CV]  svc__C=750, svc__gamma=0.01, score=0.9438832772166106, total=   7.4s\n",
      "[CV] svc__C=750, svc__gamma=0.1 ......................................\n",
      "[CV]  svc__C=750, svc__gamma=0.001, score=0.8809434668663422, total=  13.1s\n",
      "[CV] svc__C=750, svc__gamma=0.1 ......................................\n",
      "[CV]  svc__C=750, svc__gamma=0.001, score=0.8851047904191617, total=  13.2s\n",
      "[CV] svc__C=750, svc__gamma=0.1 ......................................\n",
      "[CV]  svc__C=750, svc__gamma=0.01, score=0.9083426861204639, total=  12.2s\n",
      "[CV] svc__C=750, svc__gamma=0.1 ......................................\n",
      "[CV]  svc__C=750, svc__gamma=0.01, score=0.9202844311377245, total=  12.9s\n",
      "[CV] svc__C=750, svc__gamma=1 ........................................\n",
      "[CV]  svc__C=750, svc__gamma=0.01, score=0.9157934131736527, total=  12.5s\n",
      "[CV] svc__C=750, svc__gamma=1 ........................................\n",
      "[CV]  svc__C=750, svc__gamma=0.1, score=0.9479985035540591, total=   9.0s\n",
      "[CV] svc__C=750, svc__gamma=1 ........................................\n",
      "[CV]  svc__C=750, svc__gamma=0.01, score=0.909771621115687, total=  13.0s\n",
      "[CV] svc__C=750, svc__gamma=1 ........................................\n",
      "[CV]  svc__C=750, svc__gamma=0.1, score=0.9135802469135802, total=  13.4s\n",
      "[CV] svc__C=750, svc__gamma=1 ........................................\n",
      "[CV]  svc__C=750, svc__gamma=0.1, score=0.9217814371257484, total=  12.7s\n",
      "[CV]  svc__C=750, svc__gamma=0.1, score=0.9157934131736527, total=  13.2s\n",
      "[CV]  svc__C=750, svc__gamma=0.1, score=0.9112691875701985, total=  13.0s\n",
      "[CV]  svc__C=750, svc__gamma=1, score=0.9349046015712682, total=  10.8s\n",
      "[CV]  svc__C=750, svc__gamma=1, score=0.9165731387953611, total=  16.0s\n",
      "[CV]  svc__C=750, svc__gamma=1, score=0.9225299401197605, total=  15.4s\n",
      "[CV]  svc__C=750, svc__gamma=1, score=0.9127994011976048, total=  13.0s\n",
      "[CV]  svc__C=750, svc__gamma=1, score=0.9127667540247099, total=  12.9s\n"
     ]
    },
    {
     "name": "stderr",
     "output_type": "stream",
     "text": [
      "[Parallel(n_jobs=-1)]: Done 125 out of 125 | elapsed:  5.3min finished\n"
     ]
    },
    {
     "data": {
      "text/plain": [
       "GridSearchCV(cv=5, error_score='raise',\n",
       "       estimator=Pipeline(memory=None,\n",
       "     steps=[('categoricaltransformer', CategoricalTransformer(columns=['favorite', 'interested', 'status', 'property_type', 'sale_type', 'source', 'state'])), ('dummyencoder', DummyEncoder()), ('imputer', Imputer(axis=0, copy=True, missing_values='NaN', strategy='median', verbose=0)), ('standardscaler', ...f',\n",
       "  max_iter=-1, probability=False, random_state=42, shrinking=True,\n",
       "  tol=0.001, verbose=False))]),\n",
       "       fit_params=None, iid=True, n_jobs=-1,\n",
       "       param_grid={'svc__C': [1, 10, 100, 500, 750], 'svc__gamma': [0.0005, 0.001, 0.01, 0.1, 1]},\n",
       "       pre_dispatch='2*n_jobs', refit=True, return_train_score='warn',\n",
       "       scoring=None, verbose=3)"
      ]
     },
     "execution_count": 38,
     "metadata": {},
     "output_type": "execute_result"
    }
   ],
   "source": [
    "svmgrid = GridSearchCV(svc_pipe, param_grid, cv=5, n_jobs=-1, verbose=3)#, scoring=roc_auc_scorer)\n",
    "svmgrid.fit(X_train, y_train)"
   ]
  },
  {
   "cell_type": "code",
   "execution_count": 39,
   "metadata": {
    "slideshow": {
     "slide_type": "slide"
    }
   },
   "outputs": [
    {
     "data": {
      "text/plain": [
       "0.90180396517871109"
      ]
     },
     "execution_count": 39,
     "metadata": {},
     "output_type": "execute_result"
    }
   ],
   "source": [
    "roc_auc_score(y_test, svmgrid.predict(X_test))"
   ]
  },
  {
   "cell_type": "code",
   "execution_count": 40,
   "metadata": {
    "slideshow": {
     "slide_type": "fragment"
    }
   },
   "outputs": [
    {
     "data": {
      "image/png": "[encoded data removed]",
      "text/plain": [
       "<Figure size 748.8x514.8 with 2 Axes>"
      ]
     },
     "metadata": {},
     "output_type": "display_data"
    }
   ],
   "source": [
    "scores = svmgrid.cv_results_['mean_test_score'].reshape(5,5)\n",
    "sns.heatmap(scores, vmax=1, xticklabels=param_grid['svc__gamma'], yticklabels=param_grid['svc__C'], cmap='hot', annot=True)\n",
    "plt.title('Hyper parameters vs score')\n",
    "plt.show()"
   ]
  },
  {
   "cell_type": "code",
   "execution_count": 41,
   "metadata": {
    "slideshow": {
     "slide_type": "skip"
    }
   },
   "outputs": [
    {
     "data": {
      "text/plain": [
       "Text(0.5,1,'SVM')"
      ]
     },
     "execution_count": 41,
     "metadata": {},
     "output_type": "execute_result"
    },
    {
     "data": {
      "image/png": "[encoded data removed]",
      "text/plain": [
       "<Figure size 748.8x514.8 with 1 Axes>"
      ]
     },
     "metadata": {},
     "output_type": "display_data"
    }
   ],
   "source": [
    "plot_roc(svmgrid, X_test, y_test)\n",
    "plt.title('SVM')"
   ]
  },
  {
   "cell_type": "markdown",
   "metadata": {
    "slideshow": {
     "slide_type": "slide"
    }
   },
   "source": [
    "### Adaboost"
   ]
  },
  {
   "cell_type": "code",
   "execution_count": 42,
   "metadata": {
    "slideshow": {
     "slide_type": "fragment"
    }
   },
   "outputs": [],
   "source": [
    "from sklearn.ensemble import AdaBoostClassifier"
   ]
  },
  {
   "cell_type": "code",
   "execution_count": 43,
   "metadata": {
    "slideshow": {
     "slide_type": "fragment"
    }
   },
   "outputs": [],
   "source": [
    "n_estimators = [ 1500, 1570, 2000, 2250, 3000, 3250, 3500]\n",
    "param_grid = {'adaboostclassifier__n_estimators': n_estimators}"
   ]
  },
  {
   "cell_type": "code",
   "execution_count": 44,
   "metadata": {
    "slideshow": {
     "slide_type": "fragment"
    }
   },
   "outputs": [],
   "source": [
    "abpipe = make_pipeline(CategoricalTransformer(columns=cat_cols), DummyEncoder(), Imputer(strategy='median'), StandardScaler(), \n",
    "                   AdaBoostClassifier())"
   ]
  },
  {
   "cell_type": "code",
   "execution_count": 45,
   "metadata": {
    "scrolled": true,
    "slideshow": {
     "slide_type": "slide"
    }
   },
   "outputs": [
    {
     "name": "stdout",
     "output_type": "stream",
     "text": [
      "Fitting 5 folds for each of 7 candidates, totalling 35 fits\n",
      "[CV] adaboostclassifier__n_estimators=1500 ...........................\n",
      "[CV] adaboostclassifier__n_estimators=1500 ...........................\n",
      "[CV] adaboostclassifier__n_estimators=1500 ...........................\n",
      "[CV] adaboostclassifier__n_estimators=1500 ...........................\n",
      "[CV] adaboostclassifier__n_estimators=1500 ...........................\n",
      "[CV] adaboostclassifier__n_estimators=1570 ...........................\n",
      "[CV] adaboostclassifier__n_estimators=1570 ...........................\n",
      "[CV] adaboostclassifier__n_estimators=1570 ...........................\n",
      "[CV]  adaboostclassifier__n_estimators=1500, score=0.9974806405731442, total=  19.8s\n",
      "[CV] adaboostclassifier__n_estimators=1570 ...........................\n",
      "[CV]  adaboostclassifier__n_estimators=1500, score=0.996398639757171, total=  19.9s\n",
      "[CV] adaboostclassifier__n_estimators=1570 ...........................\n",
      "[CV]  adaboostclassifier__n_estimators=1500, score=0.997032827451858, total=  20.0s\n",
      "[CV] adaboostclassifier__n_estimators=2000 ...........................\n",
      "[CV]  adaboostclassifier__n_estimators=1500, score=0.9964454477248496, total=  20.2s\n",
      "[CV] adaboostclassifier__n_estimators=2000 ...........................\n",
      "[CV]  adaboostclassifier__n_estimators=1500, score=0.9957317073170731, total=  20.4s\n",
      "[CV] adaboostclassifier__n_estimators=2000 ...........................\n",
      "[CV]  adaboostclassifier__n_estimators=1570, score=0.9970124254669422, total=  20.5s\n",
      "[CV] adaboostclassifier__n_estimators=2000 ...........................\n",
      "[CV]  adaboostclassifier__n_estimators=1570, score=0.9974924932834642, total=  21.0s\n",
      "[CV] adaboostclassifier__n_estimators=2000 ...........................\n",
      "[CV]  adaboostclassifier__n_estimators=1570, score=0.99648032853777, total=  21.3s\n",
      "[CV] adaboostclassifier__n_estimators=2250 ...........................\n",
      "[CV]  adaboostclassifier__n_estimators=1570, score=0.996334029541373, total=  22.3s\n",
      "[CV]  adaboostclassifier__n_estimators=1570, score=0.9957521203181793, total=  22.4s\n",
      "[CV] adaboostclassifier__n_estimators=2250 ...........................\n",
      "[CV] adaboostclassifier__n_estimators=2250 ...........................\n",
      "[CV]  adaboostclassifier__n_estimators=2000, score=0.9971358245692549, total=  28.1s\n",
      "[CV] adaboostclassifier__n_estimators=2250 ...........................\n",
      "[CV]  adaboostclassifier__n_estimators=2000, score=0.9965517354849749, total=  28.7s\n",
      "[CV] adaboostclassifier__n_estimators=2250 ...........................\n",
      "[CV]  adaboostclassifier__n_estimators=2000, score=0.9976037770636885, total=  28.7s\n",
      "[CV] adaboostclassifier__n_estimators=3000 ...........................\n",
      "[CV]  adaboostclassifier__n_estimators=2000, score=0.9958703181794236, total=  28.8s\n",
      "[CV] adaboostclassifier__n_estimators=3000 ...........................\n",
      "[CV]  adaboostclassifier__n_estimators=2000, score=0.9963452374359503, total=  28.4s\n",
      "[CV] adaboostclassifier__n_estimators=3000 ...........................\n",
      "[CV]  adaboostclassifier__n_estimators=2250, score=0.9965122477722349, total=  32.4s\n",
      "[CV] adaboostclassifier__n_estimators=3000 ...........................\n"
     ]
    },
    {
     "name": "stderr",
     "output_type": "stream",
     "text": [
      "[Parallel(n_jobs=-1)]: Done  16 tasks      | elapsed:  1.0min\n"
     ]
    },
    {
     "name": "stdout",
     "output_type": "stream",
     "text": [
      "[CV]  adaboostclassifier__n_estimators=2250, score=0.9971371408263462, total=  32.3s\n",
      "[CV] adaboostclassifier__n_estimators=3000 ...........................\n",
      "[CV]  adaboostclassifier__n_estimators=2250, score=0.9975270636885634, total=  32.6s\n",
      "[CV] adaboostclassifier__n_estimators=3250 ...........................\n",
      "[CV]  adaboostclassifier__n_estimators=2250, score=0.9959233261339093, total=  33.4s\n",
      "[CV] adaboostclassifier__n_estimators=3250 ...........................\n",
      "[CV]  adaboostclassifier__n_estimators=2250, score=0.9962773307805706, total=  33.3s\n",
      "[CV] adaboostclassifier__n_estimators=3250 ...........................\n",
      "[CV]  adaboostclassifier__n_estimators=3000, score=0.9971509615258052, total=  43.3s\n",
      "[CV] adaboostclassifier__n_estimators=3250 ...........................\n",
      "[CV]  adaboostclassifier__n_estimators=3000, score=0.9966264330749082, total=  44.3s\n",
      "[CV] adaboostclassifier__n_estimators=3250 ...........................\n",
      "[CV]  adaboostclassifier__n_estimators=3000, score=0.9975313438339567, total=  44.7s\n",
      "[CV] adaboostclassifier__n_estimators=3500 ...........................\n",
      "[CV]  adaboostclassifier__n_estimators=3000, score=0.9959674445556551, total=  44.5s\n",
      "[CV] adaboostclassifier__n_estimators=3500 ...........................\n",
      "[CV]  adaboostclassifier__n_estimators=3000, score=0.9962789790003613, total=  44.2s\n",
      "[CV] adaboostclassifier__n_estimators=3500 ...........................\n",
      "[CV]  adaboostclassifier__n_estimators=3250, score=0.996706066628934, total=  47.6s\n",
      "[CV] adaboostclassifier__n_estimators=3500 ...........................\n",
      "[CV]  adaboostclassifier__n_estimators=3250, score=0.9972101930949153, total=  47.5s\n",
      "[CV] adaboostclassifier__n_estimators=3500 ...........................\n",
      "[CV]  adaboostclassifier__n_estimators=3250, score=0.9975178449138703, total=  48.4s\n",
      "[CV]  adaboostclassifier__n_estimators=3250, score=0.9962516185518345, total=  47.4s\n",
      "[CV]  adaboostclassifier__n_estimators=3250, score=0.9959878575567613, total=  48.3s\n",
      "[CV]  adaboostclassifier__n_estimators=3500, score=0.9966935621865662, total=  50.7s\n",
      "[CV]  adaboostclassifier__n_estimators=3500, score=0.997175312281995, total=  49.8s\n"
     ]
    },
    {
     "name": "stderr",
     "output_type": "stream",
     "text": [
      "[Parallel(n_jobs=-1)]: Done  32 out of  35 | elapsed:  2.8min remaining:   16.0s\n"
     ]
    },
    {
     "name": "stdout",
     "output_type": "stream",
     "text": [
      "[CV]  adaboostclassifier__n_estimators=3500, score=0.9975040167518305, total=  41.5s\n",
      "[CV]  adaboostclassifier__n_estimators=3500, score=0.9959628351683085, total=  39.6s\n",
      "[CV]  adaboostclassifier__n_estimators=3500, score=0.9962746936289053, total=  36.2s\n"
     ]
    },
    {
     "name": "stderr",
     "output_type": "stream",
     "text": [
      "[Parallel(n_jobs=-1)]: Done  35 out of  35 | elapsed:  3.2min finished\n"
     ]
    },
    {
     "data": {
      "text/plain": [
       "GridSearchCV(cv=5, error_score='raise',\n",
       "       estimator=Pipeline(memory=None,\n",
       "     steps=[('categoricaltransformer', CategoricalTransformer(columns=['favorite', 'interested', 'status', 'property_type', 'sale_type', 'source', 'state'])), ('dummyencoder', DummyEncoder()), ('imputer', Imputer(axis=0, copy=True, missing_values='NaN', strategy='median', verbose=0)), ('standardscaler', ...m='SAMME.R', base_estimator=None,\n",
       "          learning_rate=1.0, n_estimators=50, random_state=None))]),\n",
       "       fit_params=None, iid=True, n_jobs=-1,\n",
       "       param_grid={'adaboostclassifier__n_estimators': [1500, 1570, 2000, 2250, 3000, 3250, 3500]},\n",
       "       pre_dispatch='2*n_jobs', refit=True, return_train_score='warn',\n",
       "       scoring=make_scorer(roc_auc_score, needs_threshold=True), verbose=3)"
      ]
     },
     "execution_count": 45,
     "metadata": {},
     "output_type": "execute_result"
    }
   ],
   "source": [
    "abgrid = GridSearchCV(abpipe, param_grid, cv=5, n_jobs=-1, verbose=3, scoring=roc_auc_scorer)\n",
    "abgrid.fit(X_train, y_train)"
   ]
  },
  {
   "cell_type": "code",
   "execution_count": 46,
   "metadata": {
    "slideshow": {
     "slide_type": "slide"
    }
   },
   "outputs": [
    {
     "data": {
      "text/plain": [
       "<matplotlib.axes._subplots.AxesSubplot at 0x7f22bbfd0ef0>"
      ]
     },
     "execution_count": 46,
     "metadata": {},
     "output_type": "execute_result"
    },
    {
     "data": {
      "image/png": "[encoded data removed]",
      "text/plain": [
       "<Figure size 748.8x514.8 with 1 Axes>"
      ]
     },
     "metadata": {},
     "output_type": "display_data"
    }
   ],
   "source": [
    "pd.DataFrame({'score':abgrid.cv_results_['mean_test_score']}, index=abgrid.cv_results_['param_adaboostclassifier__n_estimators']).plot()"
   ]
  },
  {
   "cell_type": "code",
   "execution_count": 47,
   "metadata": {
    "slideshow": {
     "slide_type": "slide"
    }
   },
   "outputs": [
    {
     "data": {
      "text/plain": [
       "0.96757739512200769"
      ]
     },
     "execution_count": 47,
     "metadata": {},
     "output_type": "execute_result"
    }
   ],
   "source": [
    "roc_auc_score(y_test, abgrid.predict(X_test))"
   ]
  },
  {
   "cell_type": "code",
   "execution_count": 48,
   "metadata": {
    "slideshow": {
     "slide_type": "fragment"
    }
   },
   "outputs": [
    {
     "data": {
      "text/plain": [
       "(Pipeline(memory=None,\n",
       "      steps=[('categoricaltransformer', CategoricalTransformer(columns=['favorite', 'interested', 'status', 'property_type', 'sale_type', 'source', 'state'])), ('dummyencoder', DummyEncoder()), ('imputer', Imputer(axis=0, copy=True, missing_values='NaN', strategy='median', verbose=0)), ('standardscaler', ...'SAMME.R', base_estimator=None,\n",
       "           learning_rate=1.0, n_estimators=3250, random_state=None))]),\n",
       " {'adaboostclassifier__n_estimators': 3250})"
      ]
     },
     "execution_count": 48,
     "metadata": {},
     "output_type": "execute_result"
    }
   ],
   "source": [
    "abgrid.best_estimator_, abgrid.best_params_"
   ]
  },
  {
   "cell_type": "markdown",
   "metadata": {
    "slideshow": {
     "slide_type": "slide"
    }
   },
   "source": [
    "## Thank you!"
   ]
  }
 ],
 "metadata": {
  "celltoolbar": "Slideshow",
  "kernelspec": {
   "display_name": "Python 3",
   "language": "python",
   "name": "python3"
  },
  "language_info": {
   "codemirror_mode": {
    "name": "ipython",
    "version": 3
   },
   "file_extension": ".py",
   "mimetype": "text/x-python",
   "name": "python",
   "nbconvert_exporter": "python",
   "pygments_lexer": "ipython3",
   "version": "3.6.5"
  },
  "livereveal": {
   "theme": "white",
   "transition": "None"
  }
 },
 "nbformat": 4,
 "nbformat_minor": 2
}
