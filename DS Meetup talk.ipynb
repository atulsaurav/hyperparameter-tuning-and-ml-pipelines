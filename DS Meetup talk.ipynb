{
 "cells": [
  {
   "cell_type": "markdown",
   "metadata": {
    "slideshow": {
     "slide_type": "slide"
    }
   },
   "source": [
    "# Hyperparameter Tuning & ML Pipelines"
   ]
  },
  {
   "cell_type": "markdown",
   "metadata": {
    "slideshow": {
     "slide_type": "skip"
    }
   },
   "source": [
    "This is the notebook underlying the reveal.js slides that were used for <a href="https://www.meetup.com/Richmond-Data-Science-Community-Meetup/events/250460220/">Richmond Data Science community meetup on May 30th, 2018.</a>"
   ]
  },
  {
   "cell_type": "markdown",
   "metadata": {
    "slideshow": {
     "slide_type": "slide"
    }
   },
   "source": [
    "## About me:\n",
    "\n",
    "I am Atul Saurav (@twtAtul), \n",
    "- Lead Genworth Financials' Data Engineering Team\n",
    "- MS in Decison Analytics, VCU DAPT class of 2019\n",
    "- Passionate about learning, data and everything around it\n",
    "\n",
    "You can also find me on LinkedIn"
   ]
  },
  {
   "cell_type": "markdown",
   "metadata": {
    "slideshow": {
     "slide_type": "slide"
    }
   },
   "source": [
    "## What is this talk about?\n",
    "\n",
    "- Building Machine Learning Models\n",
    "- Python specific\n",
    "- scikit-learn based models"
   ]
  },
  {
   "cell_type": "markdown",
   "metadata": {
    "slideshow": {
     "slide_type": "slide"
    }
   },
   "source": [
    "## What is this talk not about?\n",
    "\n",
    "- Data Cleansing\n",
    "- Feature Engineering\n",
    "- Deep Learning \n",
    "- Other exciting stuff that is difficult to cover in 1 meetup!"
   ]
  },
  {
   "cell_type": "markdown",
   "metadata": {
    "slideshow": {
     "slide_type": "slide"
    }
   },
   "source": [
    "\n",
    "># All models are wrong but some are useful\n",
    "</br>\n",
    "</br>\n",
    "<div class=\"small\">Box, G. E. P. (1979), \"Robustness in the strategy of scientific model building\", in Launer, R. L.; Wilkinson, G. N., Robustness in Statistics, Academic Press, pp. 201–236.</div>\n"
   ]
  },
  {
   "cell_type": "markdown",
   "metadata": {
    "slideshow": {
     "slide_type": "slide"
    }
   },
   "source": [
    "## Reality is complex - \n",
    "\n",
    "<ul>\n",
    "    <li><p class=\"fragment fade-left\">too many factors influence outcome</p></li>\n",
    "    <li><p class=\"fragment fade-left\">factors difficult to measure accurately and objectively</p></li>\n",
    "    <li><p class=\"fragment fade-left\">not all factors may be known</p></li>\n",
    "</ul>"
   ]
  },
  {
   "cell_type": "markdown",
   "metadata": {
    "slideshow": {
     "slide_type": "slide"
    }
   },
   "source": [
    "> ## How do we build <span class=\"fragment highlight-green\">useful</span> models?\n",
    "> ## How do we <span class=\"fragment highlight-green\">minimize</span> our <span class=\"fragment highlight-red\">effort</span> in model building?"
   ]
  },
  {
   "cell_type": "markdown",
   "metadata": {
    "slideshow": {
     "slide_type": "slide"
    }
   },
   "source": [
    "## Approach\n",
    "- Use toy datasets for illustration and visualization\n",
    "- Use real dataset for demonstrating application efficacy"
   ]
  },
  {
   "cell_type": "markdown",
   "metadata": {
    "slideshow": {
     "slide_type": "slide"
    }
   },
   "source": [
    "## Scikit-learn API Overview\n",
    "\n",
    "- All methods are implemented as estimators\n",
    "- All estimators have a ```.fit()``` method\n",
    "- All supervised estimators have ```.predict()``` method\n",
    "- All unsupervised estimators have ```.transform()``` method"
   ]
  },
  {
   "cell_type": "markdown",
   "metadata": {
    "slideshow": {
     "slide_type": "fragment"
    }
   },
   "source": [
    "<table>\n",
    "<tr style=\"border:None; font-size:20px; padding:10px;\"><th>``model.predict``</th><th>``model.transform``</th></tr>\n",
    "<tr style=\"border:None; font-size:20px; padding:10px;\"><td>Classification</td><td>Preprocessing</td></tr>\n",
    "<tr style=\"border:None; font-size:20px; padding:10px;\"><td>Regression</td><td>Dimensionality Reduction</td></tr>\n",
    "<tr style=\"border:None; font-size:20px; padding:10px;\"><td>Clustering</td><td>Feature Extraction</td></tr>\n",
    "<tr style=\"border:None; font-size:20px; padding:10px;\"><td>&nbsp;</td><td>Feature Selection</td></tr>\n",
    "\n",
    "</table>\n"
   ]
  },
  {
   "cell_type": "markdown",
   "metadata": {
    "slideshow": {
     "slide_type": "slide"
    }
   },
   "source": [
    "### Usual High Level Flow"
   ]
  },
  {
   "cell_type": "code",
   "execution_count": null,
   "metadata": {
    "slideshow": {
     "slide_type": "fragment"
    }
   },
   "outputs": [],
   "source": [
    "from sklearn.family import SomeModel\n",
    "myModel = SomeModel()\n",
    "myModel.fit(X_train,y_train)\n",
    "\n",
    "# supervised\n",
    "myModel.predict(X_test)\n",
    "myModel.score(X_test, y_test)\n",
    "\n",
    "## unsupervised\n",
    "myModel.transform(X_train)"
   ]
  },
  {
   "cell_type": "markdown",
   "metadata": {
    "slideshow": {
     "slide_type": "slide"
    }
   },
   "source": [
    "## Problem Statement\n",
    "\n",
    "- Classify data into 2 groups based on already observed groupings\n",
    "- Using house price data, predict if the price of the given house will be >= 500K"
   ]
  },
  {
   "cell_type": "markdown",
   "metadata": {
    "slideshow": {
     "slide_type": "slide"
    }
   },
   "source": [
    "> ### Binary Classification Problem"
   ]
  },
  {
   "cell_type": "markdown",
   "metadata": {
    "slideshow": {
     "slide_type": "slide"
    }
   },
   "source": [
    "### Toy Example"
   ]
  },
  {
   "cell_type": "code",
   "execution_count": 1,
   "metadata": {
    "slideshow": {
     "slide_type": "skip"
    }
   },
   "outputs": [],
   "source": [
    "%matplotlib inline\n",
    "import matplotlib.pyplot as plt\n",
    "import numpy as np\n",
    "import seaborn as sns\n",
    "plt.style.use('seaborn-poster')\n",
    "_ = plt.xkcd()"
   ]
  },
  {
   "cell_type": "code",
   "execution_count": 2,
   "metadata": {
    "slideshow": {
     "slide_type": "fragment"
    }
   },
   "outputs": [
    {
     "name": "stdout",
     "output_type": "stream",
     "text": [
      "X ~ n_samples x n_features: (100, 2)\n",
      "y ~ n_samples: (100,)\n"
     ]
    }
   ],
   "source": [
    "from sklearn.datasets import make_blobs\n",
    "\n",
    "scaled_X, scaled_y = make_blobs(centers=2, random_state=0)\n",
    "scaled_X[:,0] = 10* scaled_X[:,0] + 3\n",
    "X, y = make_blobs(centers=2, random_state=0)\n",
    "\n",
    "print('X ~ n_samples x n_features:', X.shape)\n",
    "print('y ~ n_samples:', y.shape)"
   ]
  },
  {
   "cell_type": "markdown",
   "metadata": {
    "slideshow": {
     "slide_type": "slide"
    }
   },
   "source": [
    "### Visualize Data"
   ]
  },
  {
   "cell_type": "code",
   "execution_count": 3,
   "metadata": {
    "slideshow": {
     "slide_type": "fragment"
    }
   },
   "outputs": [
    {
     "data": {
      "text/plain": [
       "Text(0.5,0,'first feature')"
      ]
     },
     "execution_count": 3,
     "metadata": {},
     "output_type": "execute_result"
    },
    {
     "data": {
      "image/png": "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\n",
      "text/plain": [
       "<Figure size 720x360 with 2 Axes>"
      ]
     },
     "metadata": {},
     "output_type": "display_data"
    }
   ],
   "source": [
    "fig, (ax0, ax1) = plt.subplots(nrows=1, ncols=2, figsize=(10,5))\n",
    "\n",
    "ax0.scatter(X[y == 0, 0], X[y == 0, 1], c='blue', s=40, label='0')\n",
    "ax0.scatter(X[y == 1, 0], X[y == 1, 1], c='red', s=40, label='1', marker='s')\n",
    "ax0.set_xlabel('first feature')\n",
    "ax0.set_ylabel('second feature')\n",
    "\n",
    "ax1.scatter(scaled_X[scaled_y == 0, 0], scaled_X[scaled_y == 0, 1], c='blue', s=40, label='0')\n",
    "ax1.scatter(scaled_X[scaled_y == 1, 0], scaled_X[scaled_y == 1, 1], c='red', s=40, label='1', marker='s')\n",
    "ax1.set_xlabel('first feature')"
   ]
  },
  {
   "cell_type": "markdown",
   "metadata": {
    "slideshow": {
     "slide_type": "slide"
    }
   },
   "source": [
    "### Create Training and Test Set\n",
    "\n",
    "**Training Set** - Data used to train the model\n",
    " \n",
    "**Test Set** - Data held out in the very beginning for testing model performance. This data should not be touched until final scoring"
   ]
  },
  {
   "cell_type": "code",
   "execution_count": 4,
   "metadata": {
    "slideshow": {
     "slide_type": "fragment"
    }
   },
   "outputs": [],
   "source": [
    "from sklearn.model_selection import train_test_split\n",
    "\n",
    "X_train, X_test, y_train, y_test = train_test_split(X, y,\n",
    "                                                    test_size=0.25,\n",
    "                                                    random_state=1234,\n",
    "                                                    stratify=y)\n",
    "scaled_X_train, scaled_X_test, \\\n",
    "scaled_y_train, scaled_y_test = train_test_split(scaled_X, \n",
    "                                                    scaled_y,\n",
    "                                                    test_size=0.25,\n",
    "                                                    random_state=1234,\n",
    "                                                    stratify=y)"
   ]
  },
  {
   "cell_type": "code",
   "execution_count": 5,
   "metadata": {
    "slideshow": {
     "slide_type": "fragment"
    }
   },
   "outputs": [
    {
     "data": {
      "text/plain": [
       "(75, 2)"
      ]
     },
     "execution_count": 5,
     "metadata": {},
     "output_type": "execute_result"
    }
   ],
   "source": [
    "X_train.shape"
   ]
  },
  {
   "cell_type": "code",
   "execution_count": 6,
   "metadata": {
    "slideshow": {
     "slide_type": "fragment"
    }
   },
   "outputs": [
    {
     "data": {
      "text/plain": [
       "(75,)"
      ]
     },
     "execution_count": 6,
     "metadata": {},
     "output_type": "execute_result"
    }
   ],
   "source": [
    "y_train.shape"
   ]
  },
  {
   "cell_type": "markdown",
   "metadata": {
    "slideshow": {
     "slide_type": "slide"
    }
   },
   "source": [
    "### Train a Nearest Neighbor Classifier - 1 Neighbor\n",
    "\n",
    "Overfit!!"
   ]
  },
  {
   "cell_type": "code",
   "execution_count": 7,
   "metadata": {
    "slideshow": {
     "slide_type": "fragment"
    }
   },
   "outputs": [
    {
     "data": {
      "text/plain": [
       "KNeighborsClassifier(algorithm='auto', leaf_size=30, metric='minkowski',\n",
       "           metric_params=None, n_jobs=1, n_neighbors=1, p=2,\n",
       "           weights='uniform')"
      ]
     },
     "execution_count": 7,
     "metadata": {},
     "output_type": "execute_result"
    }
   ],
   "source": [
    "from sklearn.neighbors import KNeighborsClassifier\n",
    "knn = KNeighborsClassifier(n_neighbors=1)\n",
    "\n",
    "knn.fit(X_train, y_train)"
   ]
  },
  {
   "cell_type": "code",
   "execution_count": 8,
   "metadata": {
    "slideshow": {
     "slide_type": "-"
    }
   },
   "outputs": [
    {
     "data": {
      "text/plain": [
       "KNeighborsClassifier(algorithm='auto', leaf_size=30, metric='minkowski',\n",
       "           metric_params=None, n_jobs=1, n_neighbors=1, p=2,\n",
       "           weights='uniform')"
      ]
     },
     "execution_count": 8,
     "metadata": {},
     "output_type": "execute_result"
    }
   ],
   "source": [
    "scaled_knn = KNeighborsClassifier(n_neighbors=1)\n",
    "scaled_knn.fit(scaled_X_train, scaled_y_train)"
   ]
  },
  {
   "cell_type": "markdown",
   "metadata": {
    "slideshow": {
     "slide_type": "slide"
    }
   },
   "source": [
    "### Comapre Model Performance"
   ]
  },
  {
   "cell_type": "code",
   "execution_count": 9,
   "metadata": {
    "slideshow": {
     "slide_type": "-"
    }
   },
   "outputs": [
    {
     "data": {
      "text/plain": [
       "1.0"
      ]
     },
     "execution_count": 9,
     "metadata": {},
     "output_type": "execute_result"
    }
   ],
   "source": [
    "knn.score(X_test, y_test)"
   ]
  },
  {
   "cell_type": "code",
   "execution_count": 10,
   "metadata": {
    "slideshow": {
     "slide_type": "-"
    }
   },
   "outputs": [
    {
     "data": {
      "text/plain": [
       "0.95999999999999996"
      ]
     },
     "execution_count": 10,
     "metadata": {},
     "output_type": "execute_result"
    }
   ],
   "source": [
    "scaled_knn.score(scaled_X_test, scaled_y_test)"
   ]
  },
  {
   "cell_type": "markdown",
   "metadata": {
    "slideshow": {
     "slide_type": "slide"
    }
   },
   "source": [
    "### Visualize Model - regular"
   ]
  },
  {
   "cell_type": "code",
   "execution_count": 11,
   "metadata": {
    "slideshow": {
     "slide_type": "-"
    }
   },
   "outputs": [
    {
     "data": {
      "image/png": "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\n",
      "text/plain": [
       "<Figure size 432x288 with 1 Axes>"
      ]
     },
     "metadata": {},
     "output_type": "display_data"
    }
   ],
   "source": [
    "from figures import plot_2d_separator\n",
    "plt.scatter(X[y == 0, 0], X[y == 0, 1], c='blue', s=40, label='0')\n",
    "plt.scatter(X[y == 1, 0], X[y == 1, 1], c='red', s=40, label='1', marker='s')\n",
    "\n",
    "plt.xlabel(\"first feature\")\n",
    "plt.ylabel(\"second feature\")\n",
    "plot_2d_separator(knn, X)\n",
    "_ = plt.legend()"
   ]
  },
  {
   "cell_type": "markdown",
   "metadata": {
    "slideshow": {
     "slide_type": "slide"
    }
   },
   "source": [
    "### Visualize Model - scaled"
   ]
  },
  {
   "cell_type": "code",
   "execution_count": 12,
   "metadata": {
    "slideshow": {
     "slide_type": "-"
    }
   },
   "outputs": [
    {
     "data": {
      "image/png": "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\n",
      "text/plain": [
       "<Figure size 432x288 with 1 Axes>"
      ]
     },
     "metadata": {},
     "output_type": "display_data"
    }
   ],
   "source": [
    "from figures import plot_2d_separator\n",
    "plt.scatter(scaled_X[scaled_y == 0, 0], scaled_X[scaled_y == 0, 1], c='blue', s=40, label='0')\n",
    "plt.scatter(scaled_X[scaled_y == 1, 0], scaled_X[scaled_y == 1, 1], c='red', s=40, label='1', marker='s')\n",
    "\n",
    "plt.xlabel(\"first feature\")\n",
    "plt.ylabel(\"second feature\")\n",
    "plot_2d_separator(scaled_knn, scaled_X)\n",
    "_ = plt.legend()"
   ]
  },
  {
   "cell_type": "markdown",
   "metadata": {
    "slideshow": {
     "slide_type": "slide"
    }
   },
   "source": [
    "### Revelation \n",
    "\n",
    "> ### Scale of various features matters!"
   ]
  },
  {
   "cell_type": "markdown",
   "metadata": {
    "slideshow": {
     "slide_type": "slide"
    }
   },
   "source": [
    "### Train Nearest Neighbor Classifier - 10 neighbors"
   ]
  },
  {
   "cell_type": "code",
   "execution_count": 13,
   "metadata": {
    "slideshow": {
     "slide_type": "fragment"
    }
   },
   "outputs": [
    {
     "data": {
      "text/plain": [
       "KNeighborsClassifier(algorithm='auto', leaf_size=30, metric='minkowski',\n",
       "           metric_params=None, n_jobs=1, n_neighbors=10, p=2,\n",
       "           weights='uniform')"
      ]
     },
     "execution_count": 13,
     "metadata": {},
     "output_type": "execute_result"
    }
   ],
   "source": [
    "from sklearn.neighbors import KNeighborsClassifier\n",
    "knn = KNeighborsClassifier(n_neighbors=10)\n",
    "\n",
    "knn.fit(X_train, y_train)"
   ]
  },
  {
   "cell_type": "code",
   "execution_count": 14,
   "metadata": {
    "slideshow": {
     "slide_type": "-"
    }
   },
   "outputs": [
    {
     "data": {
      "text/plain": [
       "KNeighborsClassifier(algorithm='auto', leaf_size=30, metric='minkowski',\n",
       "           metric_params=None, n_jobs=1, n_neighbors=10, p=2,\n",
       "           weights='uniform')"
      ]
     },
     "execution_count": 14,
     "metadata": {},
     "output_type": "execute_result"
    }
   ],
   "source": [
    "scaled_knn = KNeighborsClassifier(n_neighbors=10)\n",
    "scaled_knn.fit(scaled_X_train, scaled_y_train)"
   ]
  },
  {
   "cell_type": "markdown",
   "metadata": {
    "slideshow": {
     "slide_type": "slide"
    }
   },
   "source": [
    "### Comapre Model Performance"
   ]
  },
  {
   "cell_type": "code",
   "execution_count": 15,
   "metadata": {
    "slideshow": {
     "slide_type": "-"
    }
   },
   "outputs": [
    {
     "data": {
      "text/plain": [
       "0.83999999999999997"
      ]
     },
     "execution_count": 15,
     "metadata": {},
     "output_type": "execute_result"
    }
   ],
   "source": [
    "knn.score(X_test, y_test)"
   ]
  },
  {
   "cell_type": "code",
   "execution_count": 16,
   "metadata": {
    "slideshow": {
     "slide_type": "-"
    }
   },
   "outputs": [
    {
     "data": {
      "text/plain": [
       "0.80000000000000004"
      ]
     },
     "execution_count": 16,
     "metadata": {},
     "output_type": "execute_result"
    }
   ],
   "source": [
    "scaled_knn.score(scaled_X_test, scaled_y_test)"
   ]
  },
  {
   "cell_type": "markdown",
   "metadata": {
    "slideshow": {
     "slide_type": "slide"
    }
   },
   "source": [
    "### Visualize Model - regular"
   ]
  },
  {
   "cell_type": "code",
   "execution_count": 17,
   "metadata": {
    "slideshow": {
     "slide_type": "-"
    }
   },
   "outputs": [
    {
     "data": {
      "image/png": "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\n",
      "text/plain": [
       "<Figure size 432x288 with 1 Axes>"
      ]
     },
     "metadata": {},
     "output_type": "display_data"
    }
   ],
   "source": [
    "from figures import plot_2d_separator\n",
    "plt.scatter(X[y == 0, 0], X[y == 0, 1], c='blue', s=40, label='0')\n",
    "plt.scatter(X[y == 1, 0], X[y == 1, 1], c='red', s=40, label='1', marker='s')\n",
    "\n",
    "plt.xlabel(\"first feature\")\n",
    "plt.ylabel(\"second feature\")\n",
    "plot_2d_separator(knn, X)\n",
    "_ = plt.legend()"
   ]
  },
  {
   "cell_type": "markdown",
   "metadata": {
    "slideshow": {
     "slide_type": "slide"
    }
   },
   "source": [
    "### Visualize Model - scaled"
   ]
  },
  {
   "cell_type": "code",
   "execution_count": 18,
   "metadata": {
    "slideshow": {
     "slide_type": "-"
    }
   },
   "outputs": [
    {
     "data": {
      "image/png": "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\n",
      "text/plain": [
       "<Figure size 432x288 with 1 Axes>"
      ]
     },
     "metadata": {},
     "output_type": "display_data"
    }
   ],
   "source": [
    "from figures import plot_2d_separator\n",
    "plt.scatter(scaled_X[scaled_y == 0, 0], scaled_X[scaled_y == 0, 1], c='blue', s=40, label='0')\n",
    "plt.scatter(scaled_X[scaled_y == 1, 0], scaled_X[scaled_y == 1, 1], c='red', s=40, label='1', marker='s')\n",
    "\n",
    "plt.xlabel(\"first feature\")\n",
    "plt.ylabel(\"second feature\")\n",
    "plot_2d_separator(scaled_knn, scaled_X)\n",
    "_ = plt.legend()"
   ]
  },
  {
   "cell_type": "markdown",
   "metadata": {
    "slideshow": {
     "slide_type": "slide"
    }
   },
   "source": [
    "### Revelation \n",
    "\n",
    "> ### Number of neighbors matters as well!"
   ]
  },
  {
   "cell_type": "markdown",
   "metadata": {
    "slideshow": {
     "slide_type": "slide"
    }
   },
   "source": [
    "### Tunning # of Neighbors"
   ]
  },
  {
   "cell_type": "code",
   "execution_count": 19,
   "metadata": {
    "slideshow": {
     "slide_type": "fragment"
    }
   },
   "outputs": [
    {
     "data": {
      "image/png": "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\n",
      "text/plain": [
       "<Figure size 432x288 with 1 Axes>"
      ]
     },
     "metadata": {},
     "output_type": "display_data"
    }
   ],
   "source": [
    "train_scores = []\n",
    "test_scores = []\n",
    "n_neighbors = range(1,28)\n",
    "for neighbor in n_neighbors:\n",
    "    knn = KNeighborsClassifier(n_neighbors=neighbor)\n",
    "    knn.fit(X_train, y_train)\n",
    "    train_scores.append(knn.score(X_train, y_train))\n",
    "    test_scores.append(knn.score(X_test, y_test))\n",
    "\n",
    "plt.plot(n_neighbors, train_scores, label='train')\n",
    "plt.plot(n_neighbors, test_scores, label='test')\n",
    "plt.ylabel('Accuracy')\n",
    "plt.xlabel('# of neighbors')\n",
    "plt.legend();plt.show()"
   ]
  },
  {
   "cell_type": "markdown",
   "metadata": {
    "slideshow": {
     "slide_type": "slide"
    }
   },
   "source": [
    "> ### But Wait!! Is that Hyperparameter Tuning?"
   ]
  },
  {
   "cell_type": "markdown",
   "metadata": {
    "slideshow": {
     "slide_type": "fragment"
    }
   },
   "source": [
    "> # No"
   ]
  },
  {
   "cell_type": "markdown",
   "metadata": {
    "slideshow": {
     "slide_type": "slide"
    }
   },
   "source": [
    "> ### Hyperparameter tuning is part of Model building and Test Data <span style=\"color:red\">should not</span> be used in model build"
   ]
  },
  {
   "cell_type": "markdown",
   "metadata": {
    "slideshow": {
     "slide_type": "fragment"
    }
   },
   "source": [
    "> ### Hyperparameter Tuning should be performed using <span style=\"color:blue\">Validation Set</span> - a subset of training set"
   ]
  },
  {
   "cell_type": "code",
   "execution_count": 20,
   "metadata": {
    "slideshow": {
     "slide_type": "skip"
    }
   },
   "outputs": [],
   "source": [
    "import pandas as pd\n",
    "# get columns with null - to return sorted in future\n",
    "def null_pct(df):\n",
    "    return {  k:sum(df[k].isnull())/len(df) for k in df.columns}\n",
    "def null_count(df):\n",
    "    return {  k:sum(df[k].isnull()) for k in df.columns}"
   ]
  },
  {
   "cell_type": "code",
   "execution_count": 21,
   "metadata": {
    "slideshow": {
     "slide_type": "skip"
    }
   },
   "outputs": [],
   "source": [
    "from sklearn.base import TransformerMixin, BaseEstimator\n",
    "\n",
    "class CategoricalTransformer(BaseEstimator, TransformerMixin):\n",
    "    \"Converts a set of columns in a DataFrame to categoricals\"\n",
    "    def __init__(self, columns):\n",
    "        self.columns = columns\n",
    "\n",
    "    def fit(self, X, y=None):\n",
    "        'Records the categorical information'\n",
    "        self.cat_map_ = {col: X[col].astype('category').cat\n",
    "                         for col in self.columns}\n",
    "        return self\n",
    "\n",
    "    def transform(self, X, y=None):\n",
    "        X = X.copy()\n",
    "        for col in self.columns:\n",
    "            X[col] = pd.Categorical(X[col],\n",
    "            categories=self.cat_map_[col].categories,\n",
    "            ordered=self.cat_map_[col].ordered)\n",
    "        return X\n",
    "\n",
    "    def inverse_transform(self, trn, y=None):\n",
    "        trn = trn.copy()\n",
    "        trn[self.columns] = trn[self.columns].apply(lambda x: x.astype(object))\n",
    "        return trn\n",
    "    \n",
    "class DummyEncoder(BaseEstimator, TransformerMixin):\n",
    "\n",
    "    def fit(self, X, y=None):\n",
    "        self.columns_ = X.columns\n",
    "        self.cat_cols_ = X.select_dtypes(include=['category']).columns\n",
    "        self.non_cat_cols_ = X.columns.drop(self.cat_cols_)\n",
    "        self.cat_map_ = {col: X[col].cat for col in self.cat_cols_}\n",
    "\n",
    "        self.cat_blocks_ = {}  # {cat col: slice}\n",
    "        left = len(self.non_cat_cols_)\n",
    "        for col in self.cat_cols_:\n",
    "            right = left + len(self.cat_map_[col].categories)\n",
    "            self.cat_blocks_[col] = slice(left, right)\n",
    "            left = right\n",
    "        return self\n",
    "\n",
    "    def transform(self, X, y=None):\n",
    "        return np.asarray(pd.get_dummies(X))\n",
    "\n",
    "    def inverse_transform(self, trn, y=None):\n",
    "        numeric = pd.DataFrame(trn[:, :len(self.non_cat_cols_)],\n",
    "                               columns=self.non_cat_cols_)\n",
    "        series = []\n",
    "        for col, slice_ in self.cat_blocks_.items():\n",
    "            codes = trn[:, slice_].argmax(1)\n",
    "            cat = self.cat_map_[col]\n",
    "            cat = pd.Categorical.from_codes(codes,\n",
    "                                            cat.categories,\n",
    "                                            cat.ordered)\n",
    "            series.append(pd.Series(cat, name=col))\n",
    "        return pd.concat([numeric] + series, axis='columns')[self.columns_]"
   ]
  },
  {
   "cell_type": "markdown",
   "metadata": {
    "slideshow": {
     "slide_type": "slide"
    }
   },
   "source": [
    "### Real Life Example - Housing Data"
   ]
  },
  {
   "cell_type": "code",
   "execution_count": 22,
   "metadata": {
    "slideshow": {
     "slide_type": "fragment"
    }
   },
   "outputs": [
    {
     "data": {
      "text/html": [
       "<div>\n",
       "<style scoped>\n",
       "    .dataframe tbody tr th:only-of-type {\n",
       "        vertical-align: middle;\n",
       "    }\n",
       "\n",
       "    .dataframe tbody tr th {\n",
       "        vertical-align: top;\n",
       "    }\n",
       "\n",
       "    .dataframe thead th {\n",
       "        text-align: right;\n",
       "    }\n",
       "</style>\n",
       "<table border=\"1\" class=\"dataframe\">\n",
       "  <thead>\n",
       "    <tr style=\"text-align: right;\">\n",
       "      <th></th>\n",
       "      <th>0</th>\n",
       "      <th>1</th>\n",
       "      <th>2</th>\n",
       "      <th>3</th>\n",
       "      <th>4</th>\n",
       "    </tr>\n",
       "  </thead>\n",
       "  <tbody>\n",
       "    <tr>\n",
       "      <th>id</th>\n",
       "      <td>1</td>\n",
       "      <td>2</td>\n",
       "      <td>3</td>\n",
       "      <td>4</td>\n",
       "      <td>5</td>\n",
       "    </tr>\n",
       "    <tr>\n",
       "      <th>sale_type</th>\n",
       "      <td>MLS Listing</td>\n",
       "      <td>MLS Listing</td>\n",
       "      <td>MLS Listing</td>\n",
       "      <td>MLS Listing</td>\n",
       "      <td>MLS Listing</td>\n",
       "    </tr>\n",
       "    <tr>\n",
       "      <th>sold_date</th>\n",
       "      <td>NaN</td>\n",
       "      <td>NaN</td>\n",
       "      <td>NaN</td>\n",
       "      <td>NaN</td>\n",
       "      <td>NaN</td>\n",
       "    </tr>\n",
       "    <tr>\n",
       "      <th>property_type</th>\n",
       "      <td>Condo/Co-op</td>\n",
       "      <td>Single Family Residential</td>\n",
       "      <td>Single Family Residential</td>\n",
       "      <td>Single Family Residential</td>\n",
       "      <td>Single Family Residential</td>\n",
       "    </tr>\n",
       "    <tr>\n",
       "      <th>city</th>\n",
       "      <td>Kew Gardens</td>\n",
       "      <td>Anaheim</td>\n",
       "      <td>Howard Beach</td>\n",
       "      <td>Aliso Viejo</td>\n",
       "      <td>Orlando</td>\n",
       "    </tr>\n",
       "    <tr>\n",
       "      <th>state</th>\n",
       "      <td>NY</td>\n",
       "      <td>CA</td>\n",
       "      <td>NY</td>\n",
       "      <td>CA</td>\n",
       "      <td>FL</td>\n",
       "    </tr>\n",
       "    <tr>\n",
       "      <th>zip</th>\n",
       "      <td>11415</td>\n",
       "      <td>92807</td>\n",
       "      <td>11414</td>\n",
       "      <td>92656</td>\n",
       "      <td>32837</td>\n",
       "    </tr>\n",
       "    <tr>\n",
       "      <th>beds</th>\n",
       "      <td>0</td>\n",
       "      <td>7</td>\n",
       "      <td>3</td>\n",
       "      <td>4</td>\n",
       "      <td>3</td>\n",
       "    </tr>\n",
       "    <tr>\n",
       "      <th>baths</th>\n",
       "      <td>1</td>\n",
       "      <td>5.5</td>\n",
       "      <td>1.5</td>\n",
       "      <td>4.5</td>\n",
       "      <td>2</td>\n",
       "    </tr>\n",
       "    <tr>\n",
       "      <th>location</th>\n",
       "      <td>The Texas</td>\n",
       "      <td>91 - Sycamore Canyon</td>\n",
       "      <td>Howard Beach</td>\n",
       "      <td>AV - Aliso Viejo</td>\n",
       "      <td>Orlando</td>\n",
       "    </tr>\n",
       "    <tr>\n",
       "      <th>square_feet</th>\n",
       "      <td>NaN</td>\n",
       "      <td>7400</td>\n",
       "      <td>NaN</td>\n",
       "      <td>3258</td>\n",
       "      <td>1596</td>\n",
       "    </tr>\n",
       "    <tr>\n",
       "      <th>lot_size</th>\n",
       "      <td>NaN</td>\n",
       "      <td>56628</td>\n",
       "      <td>2400</td>\n",
       "      <td>5893</td>\n",
       "      <td>5623</td>\n",
       "    </tr>\n",
       "    <tr>\n",
       "      <th>year_built</th>\n",
       "      <td>1956</td>\n",
       "      <td>2000</td>\n",
       "      <td>1950</td>\n",
       "      <td>2011</td>\n",
       "      <td>1994</td>\n",
       "    </tr>\n",
       "    <tr>\n",
       "      <th>days_on_market</th>\n",
       "      <td>1</td>\n",
       "      <td>2</td>\n",
       "      <td>15</td>\n",
       "      <td>6</td>\n",
       "      <td>8</td>\n",
       "    </tr>\n",
       "    <tr>\n",
       "      <th>x__square_feet</th>\n",
       "      <td>NaN</td>\n",
       "      <td>514</td>\n",
       "      <td>NaN</td>\n",
       "      <td>457</td>\n",
       "      <td>166</td>\n",
       "    </tr>\n",
       "    <tr>\n",
       "      <th>hoa_month</th>\n",
       "      <td>NaN</td>\n",
       "      <td>NaN</td>\n",
       "      <td>NaN</td>\n",
       "      <td>258</td>\n",
       "      <td>64</td>\n",
       "    </tr>\n",
       "    <tr>\n",
       "      <th>status</th>\n",
       "      <td>Active</td>\n",
       "      <td>Active</td>\n",
       "      <td>Active</td>\n",
       "      <td>Active</td>\n",
       "      <td>Active</td>\n",
       "    </tr>\n",
       "    <tr>\n",
       "      <th>next_open_house_start_time</th>\n",
       "      <td>March-11-2018 01:00 PM</td>\n",
       "      <td>NaN</td>\n",
       "      <td>NaN</td>\n",
       "      <td>NaN</td>\n",
       "      <td>NaN</td>\n",
       "    </tr>\n",
       "    <tr>\n",
       "      <th>next_open_house_end_time</th>\n",
       "      <td>March-11-2018 03:00 PM</td>\n",
       "      <td>NaN</td>\n",
       "      <td>NaN</td>\n",
       "      <td>NaN</td>\n",
       "      <td>NaN</td>\n",
       "    </tr>\n",
       "    <tr>\n",
       "      <th>source</th>\n",
       "      <td>MLSLI</td>\n",
       "      <td>CRMLS</td>\n",
       "      <td>MLSLI</td>\n",
       "      <td>CRMLS</td>\n",
       "      <td>MFRMLS</td>\n",
       "    </tr>\n",
       "    <tr>\n",
       "      <th>favorite</th>\n",
       "      <td>N</td>\n",
       "      <td>N</td>\n",
       "      <td>N</td>\n",
       "      <td>N</td>\n",
       "      <td>N</td>\n",
       "    </tr>\n",
       "    <tr>\n",
       "      <th>interested</th>\n",
       "      <td>Y</td>\n",
       "      <td>Y</td>\n",
       "      <td>Y</td>\n",
       "      <td>Y</td>\n",
       "      <td>Y</td>\n",
       "    </tr>\n",
       "    <tr>\n",
       "      <th>latitude</th>\n",
       "      <td>40.7</td>\n",
       "      <td>33.8</td>\n",
       "      <td>40.7</td>\n",
       "      <td>33.6</td>\n",
       "      <td>28.4</td>\n",
       "    </tr>\n",
       "    <tr>\n",
       "      <th>longitude</th>\n",
       "      <td>-73.8</td>\n",
       "      <td>-117.8</td>\n",
       "      <td>-73.8</td>\n",
       "      <td>-117.7</td>\n",
       "      <td>-81.4</td>\n",
       "    </tr>\n",
       "    <tr>\n",
       "      <th>target</th>\n",
       "      <td>False</td>\n",
       "      <td>True</td>\n",
       "      <td>True</td>\n",
       "      <td>True</td>\n",
       "      <td>False</td>\n",
       "    </tr>\n",
       "  </tbody>\n",
       "</table>\n",
       "</div>"
      ],
      "text/plain": [
       "                                                 0                          1  \\\n",
       "id                                               1                          2   \n",
       "sale_type                              MLS Listing                MLS Listing   \n",
       "sold_date                                      NaN                        NaN   \n",
       "property_type                          Condo/Co-op  Single Family Residential   \n",
       "city                                   Kew Gardens                    Anaheim   \n",
       "state                                           NY                         CA   \n",
       "zip                                          11415                      92807   \n",
       "beds                                             0                          7   \n",
       "baths                                            1                        5.5   \n",
       "location                                 The Texas       91 - Sycamore Canyon   \n",
       "square_feet                                    NaN                       7400   \n",
       "lot_size                                       NaN                      56628   \n",
       "year_built                                    1956                       2000   \n",
       "days_on_market                                   1                          2   \n",
       "x__square_feet                                 NaN                        514   \n",
       "hoa_month                                      NaN                        NaN   \n",
       "status                                      Active                     Active   \n",
       "next_open_house_start_time  March-11-2018 01:00 PM                        NaN   \n",
       "next_open_house_end_time    March-11-2018 03:00 PM                        NaN   \n",
       "source                                       MLSLI                      CRMLS   \n",
       "favorite                                         N                          N   \n",
       "interested                                       Y                          Y   \n",
       "latitude                                      40.7                       33.8   \n",
       "longitude                                    -73.8                     -117.8   \n",
       "target                                       False                       True   \n",
       "\n",
       "                                                    2  \\\n",
       "id                                                  3   \n",
       "sale_type                                 MLS Listing   \n",
       "sold_date                                         NaN   \n",
       "property_type               Single Family Residential   \n",
       "city                                     Howard Beach   \n",
       "state                                              NY   \n",
       "zip                                             11414   \n",
       "beds                                                3   \n",
       "baths                                             1.5   \n",
       "location                                 Howard Beach   \n",
       "square_feet                                       NaN   \n",
       "lot_size                                         2400   \n",
       "year_built                                       1950   \n",
       "days_on_market                                     15   \n",
       "x__square_feet                                    NaN   \n",
       "hoa_month                                         NaN   \n",
       "status                                         Active   \n",
       "next_open_house_start_time                        NaN   \n",
       "next_open_house_end_time                          NaN   \n",
       "source                                          MLSLI   \n",
       "favorite                                            N   \n",
       "interested                                          Y   \n",
       "latitude                                         40.7   \n",
       "longitude                                       -73.8   \n",
       "target                                           True   \n",
       "\n",
       "                                                    3  \\\n",
       "id                                                  4   \n",
       "sale_type                                 MLS Listing   \n",
       "sold_date                                         NaN   \n",
       "property_type               Single Family Residential   \n",
       "city                                      Aliso Viejo   \n",
       "state                                              CA   \n",
       "zip                                             92656   \n",
       "beds                                                4   \n",
       "baths                                             4.5   \n",
       "location                             AV - Aliso Viejo   \n",
       "square_feet                                      3258   \n",
       "lot_size                                         5893   \n",
       "year_built                                       2011   \n",
       "days_on_market                                      6   \n",
       "x__square_feet                                    457   \n",
       "hoa_month                                         258   \n",
       "status                                         Active   \n",
       "next_open_house_start_time                        NaN   \n",
       "next_open_house_end_time                          NaN   \n",
       "source                                          CRMLS   \n",
       "favorite                                            N   \n",
       "interested                                          Y   \n",
       "latitude                                         33.6   \n",
       "longitude                                      -117.7   \n",
       "target                                           True   \n",
       "\n",
       "                                                    4  \n",
       "id                                                  5  \n",
       "sale_type                                 MLS Listing  \n",
       "sold_date                                         NaN  \n",
       "property_type               Single Family Residential  \n",
       "city                                          Orlando  \n",
       "state                                              FL  \n",
       "zip                                             32837  \n",
       "beds                                                3  \n",
       "baths                                               2  \n",
       "location                                      Orlando  \n",
       "square_feet                                      1596  \n",
       "lot_size                                         5623  \n",
       "year_built                                       1994  \n",
       "days_on_market                                      8  \n",
       "x__square_feet                                    166  \n",
       "hoa_month                                          64  \n",
       "status                                         Active  \n",
       "next_open_house_start_time                        NaN  \n",
       "next_open_house_end_time                          NaN  \n",
       "source                                         MFRMLS  \n",
       "favorite                                            N  \n",
       "interested                                          Y  \n",
       "latitude                                         28.4  \n",
       "longitude                                       -81.4  \n",
       "target                                          False  "
      ]
     },
     "execution_count": 22,
     "metadata": {},
     "output_type": "execute_result"
    }
   ],
   "source": [
    "data = pd.read_csv('new_train.csv')\n",
    "data.columns = [ x.lower().replace('.','_') for x in data.columns]\n",
    "data.head().T"
   ]
  },
  {
   "cell_type": "markdown",
   "metadata": {
    "slideshow": {
     "slide_type": "slide"
    }
   },
   "source": [
    "### Some Observations"
   ]
  },
  {
   "cell_type": "code",
   "execution_count": 23,
   "metadata": {
    "slideshow": {
     "slide_type": "fragment"
    }
   },
   "outputs": [
    {
     "name": "stdout",
     "output_type": "stream",
     "text": [
      "<class 'pandas.core.frame.DataFrame'>\n",
      "RangeIndex: 19318 entries, 0 to 19317\n",
      "Data columns (total 25 columns):\n",
      "id                            19318 non-null int64\n",
      "sale_type                     19318 non-null object\n",
      "sold_date                     0 non-null float64\n",
      "property_type                 19318 non-null object\n",
      "city                          19306 non-null object\n",
      "state                         19318 non-null object\n",
      "zip                           19271 non-null object\n",
      "beds                          18216 non-null float64\n",
      "baths                         18053 non-null float64\n",
      "location                      18773 non-null object\n",
      "square_feet                   15693 non-null float64\n",
      "lot_size                      10267 non-null float64\n",
      "year_built                    16950 non-null float64\n",
      "days_on_market                18328 non-null float64\n",
      "x__square_feet                15693 non-null float64\n",
      "hoa_month                     7553 non-null float64\n",
      "status                        19318 non-null object\n",
      "next_open_house_start_time    933 non-null object\n",
      "next_open_house_end_time      933 non-null object\n",
      "source                        19318 non-null object\n",
      "favorite                      19318 non-null object\n",
      "interested                    19318 non-null object\n",
      "latitude                      19318 non-null float64\n",
      "longitude                     19318 non-null float64\n",
      "target                        19318 non-null bool\n",
      "dtypes: bool(1), float64(11), int64(1), object(12)\n",
      "memory usage: 3.6+ MB\n"
     ]
    }
   ],
   "source": [
    "data.info()"
   ]
  },
  {
   "cell_type": "markdown",
   "metadata": {
    "slideshow": {
     "slide_type": "slide"
    }
   },
   "source": [
    "### What's different?\n",
    "\n",
    "- Not all features are numeric - **Categorical Variables **\n",
    "- Lot of missing data points"
   ]
  },
  {
   "cell_type": "markdown",
   "metadata": {
    "slideshow": {
     "slide_type": "fragment"
    }
   },
   "source": [
    "### More Revalations:\n",
    "> ### scikit-learn models need data to be numeric/float\n",
    "> ### scikit-learn models implicitly cannot handle missing values"
   ]
  },
  {
   "cell_type": "markdown",
   "metadata": {
    "slideshow": {
     "slide_type": "slide"
    }
   },
   "source": [
    "### Final Revelation\n",
    "\n",
    "> ### Any transformation applied on the training set to handle first 3 revelations should later be applied on the test set as well"
   ]
  },
  {
   "cell_type": "code",
   "execution_count": 24,
   "metadata": {
    "slideshow": {
     "slide_type": "fragment"
    }
   },
   "outputs": [],
   "source": [
    "del(data['sold_date'])\n",
    "del(data['next_open_house_start_time'])\n",
    "del(data['next_open_house_end_time'])"
   ]
  },
  {
   "cell_type": "markdown",
   "metadata": {
    "slideshow": {
     "slide_type": "slide"
    }
   },
   "source": [
    "## Summary so far\n",
    "\n",
    "We need to string following steps into a managable fashion to build <span style=\"color:red\">effective</span> models\n",
    "\n",
    "- Handle missing data\n",
    "- Handle different scales across features\n",
    "- Handle categorical data\n",
    "\n",
    "### - Pipelines"
   ]
  },
  {
   "cell_type": "markdown",
   "metadata": {
    "slideshow": {
     "slide_type": "fragment"
    }
   },
   "source": [
    "#### But then also tune the model\n",
    "\n",
    "- split training data into (cross)validation sets\n",
    "- search best values for hyperparameters for optimal model performance\n",
    "\n",
    "### - GridSearch"
   ]
  },
  {
   "cell_type": "markdown",
   "metadata": {
    "slideshow": {
     "slide_type": "slide"
    }
   },
   "source": [
    "### More on Pipelines and GridSearchCV\n",
    "\n",
    "- also known as meta-estimators in scikit-learn\n",
    "- they inherit the properties of the last estimator used\n",
    "- pipeline is used to chain multiple estimator into one pipe so output of one flows as input of next\n",
    "- GridSearchCV is used to search on a hyperparameter grid the model with the best score "
   ]
  },
  {
   "cell_type": "markdown",
   "metadata": {
    "slideshow": {
     "slide_type": "slide"
    }
   },
   "source": [
    "### Making ML Pipelines"
   ]
  },
  {
   "cell_type": "code",
   "execution_count": null,
   "metadata": {
    "slideshow": {
     "slide_type": "-"
    }
   },
   "outputs": [],
   "source": [
    "from sklearn.pipeline import make_pipeline\n",
    "make_pipeline( CategoricalTransformer(columns=cat_cols), DummyClassifier(\"most_frequent\"))"
   ]
  },
  {
   "cell_type": "markdown",
   "metadata": {
    "slideshow": {
     "slide_type": "-"
    }
   },
   "source": [
    "This will inherit the properties of DummyClassifier\n",
    "\n",
    "![pipeline](figures/pipeline.svg)\n",
    "\n",
    "Image Source: <a href=\"https://github.com/amueller/scipy-2017-sklearn/\">SciPy 2016 Scikit-learn Tutorial</a>"
   ]
  },
  {
   "cell_type": "markdown",
   "metadata": {
    "slideshow": {
     "slide_type": "slide"
    }
   },
   "source": [
    "> ## Back to real life housing classification problem"
   ]
  },
  {
   "cell_type": "markdown",
   "metadata": {
    "slideshow": {
     "slide_type": "slide"
    }
   },
   "source": [
    "### Which features have less than 20% missing values?"
   ]
  },
  {
   "cell_type": "code",
   "execution_count": 25,
   "metadata": {
    "slideshow": {
     "slide_type": "fragment"
    }
   },
   "outputs": [
    {
     "data": {
      "text/html": [
       "<div>\n",
       "<style scoped>\n",
       "    .dataframe tbody tr th:only-of-type {\n",
       "        vertical-align: middle;\n",
       "    }\n",
       "\n",
       "    .dataframe tbody tr th {\n",
       "        vertical-align: top;\n",
       "    }\n",
       "\n",
       "    .dataframe thead th {\n",
       "        text-align: right;\n",
       "    }\n",
       "</style>\n",
       "<table border=\"1\" class=\"dataframe\">\n",
       "  <thead>\n",
       "    <tr style=\"text-align: right;\">\n",
       "      <th></th>\n",
       "      <th>null_pct</th>\n",
       "    </tr>\n",
       "  </thead>\n",
       "  <tbody>\n",
       "    <tr>\n",
       "      <th>id</th>\n",
       "      <td>0.000000</td>\n",
       "    </tr>\n",
       "    <tr>\n",
       "      <th>latitude</th>\n",
       "      <td>0.000000</td>\n",
       "    </tr>\n",
       "    <tr>\n",
       "      <th>interested</th>\n",
       "      <td>0.000000</td>\n",
       "    </tr>\n",
       "    <tr>\n",
       "      <th>favorite</th>\n",
       "      <td>0.000000</td>\n",
       "    </tr>\n",
       "    <tr>\n",
       "      <th>source</th>\n",
       "      <td>0.000000</td>\n",
       "    </tr>\n",
       "    <tr>\n",
       "      <th>status</th>\n",
       "      <td>0.000000</td>\n",
       "    </tr>\n",
       "    <tr>\n",
       "      <th>longitude</th>\n",
       "      <td>0.000000</td>\n",
       "    </tr>\n",
       "    <tr>\n",
       "      <th>target</th>\n",
       "      <td>0.000000</td>\n",
       "    </tr>\n",
       "    <tr>\n",
       "      <th>state</th>\n",
       "      <td>0.000000</td>\n",
       "    </tr>\n",
       "    <tr>\n",
       "      <th>property_type</th>\n",
       "      <td>0.000000</td>\n",
       "    </tr>\n",
       "    <tr>\n",
       "      <th>sale_type</th>\n",
       "      <td>0.000000</td>\n",
       "    </tr>\n",
       "    <tr>\n",
       "      <th>city</th>\n",
       "      <td>0.000621</td>\n",
       "    </tr>\n",
       "    <tr>\n",
       "      <th>zip</th>\n",
       "      <td>0.002433</td>\n",
       "    </tr>\n",
       "    <tr>\n",
       "      <th>location</th>\n",
       "      <td>0.028212</td>\n",
       "    </tr>\n",
       "    <tr>\n",
       "      <th>days_on_market</th>\n",
       "      <td>0.051248</td>\n",
       "    </tr>\n",
       "    <tr>\n",
       "      <th>beds</th>\n",
       "      <td>0.057045</td>\n",
       "    </tr>\n",
       "    <tr>\n",
       "      <th>baths</th>\n",
       "      <td>0.065483</td>\n",
       "    </tr>\n",
       "    <tr>\n",
       "      <th>year_built</th>\n",
       "      <td>0.122580</td>\n",
       "    </tr>\n",
       "    <tr>\n",
       "      <th>square_feet</th>\n",
       "      <td>0.187649</td>\n",
       "    </tr>\n",
       "    <tr>\n",
       "      <th>x__square_feet</th>\n",
       "      <td>0.187649</td>\n",
       "    </tr>\n",
       "  </tbody>\n",
       "</table>\n",
       "</div>"
      ],
      "text/plain": [
       "                null_pct\n",
       "id              0.000000\n",
       "latitude        0.000000\n",
       "interested      0.000000\n",
       "favorite        0.000000\n",
       "source          0.000000\n",
       "status          0.000000\n",
       "longitude       0.000000\n",
       "target          0.000000\n",
       "state           0.000000\n",
       "property_type   0.000000\n",
       "sale_type       0.000000\n",
       "city            0.000621\n",
       "zip             0.002433\n",
       "location        0.028212\n",
       "days_on_market  0.051248\n",
       "beds            0.057045\n",
       "baths           0.065483\n",
       "year_built      0.122580\n",
       "square_feet     0.187649\n",
       "x__square_feet  0.187649"
      ]
     },
     "execution_count": 25,
     "metadata": {},
     "output_type": "execute_result"
    }
   ],
   "source": [
    "d = pd.DataFrame(null_pct(data), index=['null_pct']).T.sort_values('null_pct')\n",
    "d[(d.null_pct< .2 )]"
   ]
  },
  {
   "cell_type": "markdown",
   "metadata": {
    "slideshow": {
     "slide_type": "slide"
    }
   },
   "source": [
    "### Set features to work with"
   ]
  },
  {
   "cell_type": "code",
   "execution_count": 26,
   "metadata": {
    "slideshow": {
     "slide_type": "fragment"
    }
   },
   "outputs": [
    {
     "data": {
      "text/html": [
       "<div>\n",
       "<style scoped>\n",
       "    .dataframe tbody tr th:only-of-type {\n",
       "        vertical-align: middle;\n",
       "    }\n",
       "\n",
       "    .dataframe tbody tr th {\n",
       "        vertical-align: top;\n",
       "    }\n",
       "\n",
       "    .dataframe thead th {\n",
       "        text-align: right;\n",
       "    }\n",
       "</style>\n",
       "<table border=\"1\" class=\"dataframe\">\n",
       "  <thead>\n",
       "    <tr style=\"text-align: right;\">\n",
       "      <th></th>\n",
       "      <th>id</th>\n",
       "      <th>favorite</th>\n",
       "      <th>interested</th>\n",
       "      <th>latitude</th>\n",
       "      <th>longitude</th>\n",
       "      <th>status</th>\n",
       "      <th>property_type</th>\n",
       "      <th>sale_type</th>\n",
       "      <th>source</th>\n",
       "      <th>state</th>\n",
       "      <th>beds</th>\n",
       "      <th>baths</th>\n",
       "      <th>year_built</th>\n",
       "      <th>x__square_feet</th>\n",
       "      <th>square_feet</th>\n",
       "      <th>target</th>\n",
       "    </tr>\n",
       "  </thead>\n",
       "  <tbody>\n",
       "    <tr>\n",
       "      <th>0</th>\n",
       "      <td>1</td>\n",
       "      <td>N</td>\n",
       "      <td>Y</td>\n",
       "      <td>40.7</td>\n",
       "      <td>-73.8</td>\n",
       "      <td>Active</td>\n",
       "      <td>Condo/Co-op</td>\n",
       "      <td>MLS Listing</td>\n",
       "      <td>MLSLI</td>\n",
       "      <td>NY</td>\n",
       "      <td>0.0</td>\n",
       "      <td>1.0</td>\n",
       "      <td>1956.0</td>\n",
       "      <td>NaN</td>\n",
       "      <td>NaN</td>\n",
       "      <td>False</td>\n",
       "    </tr>\n",
       "    <tr>\n",
       "      <th>1</th>\n",
       "      <td>2</td>\n",
       "      <td>N</td>\n",
       "      <td>Y</td>\n",
       "      <td>33.8</td>\n",
       "      <td>-117.8</td>\n",
       "      <td>Active</td>\n",
       "      <td>Single Family Residential</td>\n",
       "      <td>MLS Listing</td>\n",
       "      <td>CRMLS</td>\n",
       "      <td>CA</td>\n",
       "      <td>7.0</td>\n",
       "      <td>5.5</td>\n",
       "      <td>2000.0</td>\n",
       "      <td>514.0</td>\n",
       "      <td>7400.0</td>\n",
       "      <td>True</td>\n",
       "    </tr>\n",
       "    <tr>\n",
       "      <th>2</th>\n",
       "      <td>3</td>\n",
       "      <td>N</td>\n",
       "      <td>Y</td>\n",
       "      <td>40.7</td>\n",
       "      <td>-73.8</td>\n",
       "      <td>Active</td>\n",
       "      <td>Single Family Residential</td>\n",
       "      <td>MLS Listing</td>\n",
       "      <td>MLSLI</td>\n",
       "      <td>NY</td>\n",
       "      <td>3.0</td>\n",
       "      <td>1.5</td>\n",
       "      <td>1950.0</td>\n",
       "      <td>NaN</td>\n",
       "      <td>NaN</td>\n",
       "      <td>True</td>\n",
       "    </tr>\n",
       "  </tbody>\n",
       "</table>\n",
       "</div>"
      ],
      "text/plain": [
       "   id favorite interested  latitude  longitude  status  \\\n",
       "0   1        N          Y      40.7      -73.8  Active   \n",
       "1   2        N          Y      33.8     -117.8  Active   \n",
       "2   3        N          Y      40.7      -73.8  Active   \n",
       "\n",
       "               property_type    sale_type source state  beds  baths  \\\n",
       "0                Condo/Co-op  MLS Listing  MLSLI    NY   0.0    1.0   \n",
       "1  Single Family Residential  MLS Listing  CRMLS    CA   7.0    5.5   \n",
       "2  Single Family Residential  MLS Listing  MLSLI    NY   3.0    1.5   \n",
       "\n",
       "   year_built  x__square_feet  square_feet  target  \n",
       "0      1956.0             NaN          NaN   False  \n",
       "1      2000.0           514.0       7400.0    True  \n",
       "2      1950.0             NaN          NaN    True  "
      ]
     },
     "execution_count": 26,
     "metadata": {},
     "output_type": "execute_result"
    }
   ],
   "source": [
    "new_features = ['id', 'favorite', 'interested', 'latitude', 'longitude', 'status', 'property_type', 'sale_type', 'source', \n",
    "                'state', 'beds', 'baths', 'year_built', 'x__square_feet', 'square_feet', 'target']\n",
    "\n",
    "sub_data = data[new_features]\n",
    "sub_data.head(3)"
   ]
  },
  {
   "cell_type": "code",
   "execution_count": 27,
   "metadata": {
    "slideshow": {
     "slide_type": "skip"
    }
   },
   "outputs": [
    {
     "name": "stdout",
     "output_type": "stream",
     "text": [
      "19318\n",
      "17815\n"
     ]
    }
   ],
   "source": [
    "print (len(sub_data))\n",
    "sub_data = sub_data.drop_duplicates(subset=['favorite', 'interested', 'latitude', 'longitude', 'status', 'property_type', 'sale_type', \n",
    "                                            'source', 'state', 'beds', 'baths', 'year_built', 'x__square_feet', 'square_feet', 'target'])\n",
    "print (len(sub_data))"
   ]
  },
  {
   "cell_type": "code",
   "execution_count": 28,
   "metadata": {
    "slideshow": {
     "slide_type": "skip"
    }
   },
   "outputs": [],
   "source": [
    "sub_data = sub_data.copy()\n",
    "sub_data.loc[sub_data['sale_type'] == 'New Construction Plan','year_built'] = 2018.0\n",
    "sub_data.loc[sub_data['property_type'] == 'Vacant Land','year_built'] = 2019.0"
   ]
  },
  {
   "cell_type": "code",
   "execution_count": 29,
   "metadata": {
    "slideshow": {
     "slide_type": "skip"
    }
   },
   "outputs": [],
   "source": [
    "from sklearn.dummy import DummyClassifier\n",
    "from sklearn.model_selection import cross_val_score, train_test_split\n",
    "from sklearn.svm import SVC\n",
    "from sklearn.ensemble import RandomForestClassifier\n",
    "from sklearn.metrics import roc_auc_score, roc_curve, make_scorer\n",
    "from sklearn.model_selection import GridSearchCV\n",
    "from sklearn.linear_model import LogisticRegressionCV\n",
    "from sklearn.svm import SVC, LinearSVC\n",
    "from sklearn.neighbors import KNeighborsClassifier\n",
    "from sklearn.ensemble import RandomForestClassifier\n",
    "from sklearn.pipeline import Pipeline, make_pipeline\n",
    "from sklearn.preprocessing import Imputer, RobustScaler, StandardScaler"
   ]
  },
  {
   "cell_type": "code",
   "execution_count": 30,
   "metadata": {
    "slideshow": {
     "slide_type": "skip"
    }
   },
   "outputs": [],
   "source": [
    "def plot_roc(model, X_test, y_test):\n",
    "    df = model.decision_function(X_test)\n",
    "    fpr, tpr, _ = roc_curve(y_test, df)\n",
    "    acc = model.score(X_test, y_test)\n",
    "    auc0 = roc_auc_score(y_test, df)\n",
    "    auc1 = roc_auc_score(y_test, model.predict(X_test))\n",
    "    plt.plot(fpr, tpr, label=\"acc:%.2f auc0:%.2f auc1:%.2f\" % (acc, auc0, auc1), linewidth=3)\n",
    "    plt.xlabel(\"False Positive Rate\")\n",
    "    plt.ylabel(\"True Positive Rate (recall)\")\n",
    "    plt.title(repr(model).split('(')[0])\n",
    "    plt.legend(loc=\"best\");"
   ]
  },
  {
   "cell_type": "code",
   "execution_count": 31,
   "metadata": {
    "slideshow": {
     "slide_type": "skip"
    }
   },
   "outputs": [],
   "source": [
    "roc_auc_scorer = make_scorer(roc_auc_score, greater_is_better=True,\n",
    "                             needs_threshold=True)"
   ]
  },
  {
   "cell_type": "markdown",
   "metadata": {
    "slideshow": {
     "slide_type": "slide"
    }
   },
   "source": [
    "### Set model Inputs"
   ]
  },
  {
   "cell_type": "code",
   "execution_count": 32,
   "metadata": {
    "slideshow": {
     "slide_type": "fragment"
    }
   },
   "outputs": [],
   "source": [
    "X = sub_data[['favorite', 'interested', 'latitude', 'longitude', 'status', 'property_type', 'sale_type', \n",
    "                    'source', 'state', 'beds', 'baths', 'year_built', 'x__square_feet', 'square_feet']]\n",
    "y = sub_data.target"
   ]
  },
  {
   "cell_type": "code",
   "execution_count": 33,
   "metadata": {
    "slideshow": {
     "slide_type": "fragment"
    }
   },
   "outputs": [],
   "source": [
    "cat_cols = ['favorite', 'interested', 'status', 'property_type', 'sale_type', 'source', 'state']"
   ]
  },
  {
   "cell_type": "markdown",
   "metadata": {
    "slideshow": {
     "slide_type": "slide"
    }
   },
   "source": [
    "### Establish base case for prediction"
   ]
  },
  {
   "cell_type": "code",
   "execution_count": 34,
   "metadata": {
    "slideshow": {
     "slide_type": "fragment"
    }
   },
   "outputs": [
    {
     "data": {
      "text/plain": [
       "array([ 0.68984678,  0.68996295,  0.68996295])"
      ]
     },
     "execution_count": 34,
     "metadata": {},
     "output_type": "execute_result"
    }
   ],
   "source": [
    "dummy_pipe = make_pipeline( CategoricalTransformer(columns=cat_cols), DummyEncoder(), DummyClassifier(\"most_frequent\"))\n",
    "cross_val_score(dummy_pipe, X, y)"
   ]
  },
  {
   "cell_type": "markdown",
   "metadata": {
    "slideshow": {
     "slide_type": "fragment"
    }
   },
   "source": [
    "### Create training and test set"
   ]
  },
  {
   "cell_type": "code",
   "execution_count": 35,
   "metadata": {
    "slideshow": {
     "slide_type": "-"
    }
   },
   "outputs": [],
   "source": [
    "X_train, X_test, y_train, y_test = train_test_split(X,y, random_state=42 )"
   ]
  },
  {
   "cell_type": "markdown",
   "metadata": {
    "slideshow": {
     "slide_type": "slide"
    }
   },
   "source": [
    "### Support Vector Machine"
   ]
  },
  {
   "cell_type": "code",
   "execution_count": 36,
   "metadata": {
    "slideshow": {
     "slide_type": "fragment"
    }
   },
   "outputs": [],
   "source": [
    "Cs = [ 1, 10, 100, 500, 750] \n",
    "gammas = [0.0005, 0.001, 0.01, .1, 1] \n",
    "param_grid = {'svc__C': Cs, 'svc__gamma' : gammas}"
   ]
  },
  {
   "cell_type": "code",
   "execution_count": 37,
   "metadata": {
    "slideshow": {
     "slide_type": "fragment"
    }
   },
   "outputs": [],
   "source": [
    "svc_pipe = make_pipeline( CategoricalTransformer(columns=cat_cols), DummyEncoder(), Imputer(strategy='median'),  StandardScaler(), SVC(random_state=42) )"
   ]
  },
  {
   "cell_type": "code",
   "execution_count": 38,
   "metadata": {
    "slideshow": {
     "slide_type": "slide"
    }
   },
   "outputs": [
    {
     "name": "stdout",
     "output_type": "stream",
     "text": [
      "Fitting 5 folds for each of 25 candidates, totalling 125 fits\n",
      "[CV] svc__C=1, svc__gamma=0.0005 .....................................\n",
      "[CV] svc__C=1, svc__gamma=0.0005 .....................................\n",
      "[CV] svc__C=1, svc__gamma=0.0005 .....................................\n",
      "[CV] svc__C=1, svc__gamma=0.0005 .....................................\n",
      "[CV] svc__C=1, svc__gamma=0.0005 .....................................\n",
      "[CV] svc__C=1, svc__gamma=0.001 ......................................\n",
      "[CV] svc__C=1, svc__gamma=0.001 ......................................\n",
      "[CV] svc__C=1, svc__gamma=0.001 ......................................\n",
      "[CV]  svc__C=1, svc__gamma=0.001, score=0.8323980546202768, total=  17.9s\n",
      "[CV] svc__C=1, svc__gamma=0.001 ......................................\n",
      "[CV]  svc__C=1, svc__gamma=0.0005, score=0.7875046763935653, total=  19.0s\n",
      "[CV] svc__C=1, svc__gamma=0.001 ......................................\n",
      "[CV]  svc__C=1, svc__gamma=0.001, score=0.7639356528245417, total=  19.4s\n",
      "[CV] svc__C=1, svc__gamma=0.01 .......................................\n",
      "[CV]  svc__C=1, svc__gamma=0.001, score=0.780314371257485, total=  19.2s\n",
      "[CV] svc__C=1, svc__gamma=0.01 .......................................\n",
      "[CV]  svc__C=1, svc__gamma=0.0005, score=0.7542087542087542, total=  19.8s\n",
      "[CV] svc__C=1, svc__gamma=0.01 .......................................\n",
      "[CV]  svc__C=1, svc__gamma=0.0005, score=0.7746162485960314, total=  20.2s\n",
      "[CV] svc__C=1, svc__gamma=0.01 .......................................\n",
      "[CV]  svc__C=1, svc__gamma=0.0005, score=0.7690868263473054, total=  20.4s\n",
      "[CV] svc__C=1, svc__gamma=0.01 .......................................\n",
      "[CV]  svc__C=1, svc__gamma=0.0005, score=0.7784431137724551, total=  20.6s\n",
      "[CV] svc__C=1, svc__gamma=0.1 ........................................\n",
      "[CV]  svc__C=1, svc__gamma=0.01, score=0.8787878787878788, total=  13.7s\n",
      "[CV] svc__C=1, svc__gamma=0.1 ........................................\n",
      "[CV]  svc__C=1, svc__gamma=0.1, score=0.8327721661054994, total=  14.7s\n",
      "[CV] svc__C=1, svc__gamma=0.1 ........................................\n",
      "[CV]  svc__C=1, svc__gamma=0.01, score=0.8166853722409277, total=  16.5s\n",
      "[CV] svc__C=1, svc__gamma=0.1 ........................................\n",
      "[CV]  svc__C=1, svc__gamma=0.01, score=0.844311377245509, total=  16.5s\n",
      "[CV] svc__C=1, svc__gamma=0.1 ........................................\n",
      "[CV]  svc__C=1, svc__gamma=0.01, score=0.8352676900037439, total=  16.2s\n",
      "[CV]  svc__C=1, svc__gamma=0.01, score=0.8334580838323353, total=  16.7s\n",
      "[CV] svc__C=1, svc__gamma=1 ..........................................\n",
      "[CV] svc__C=1, svc__gamma=1 ..........................................\n",
      "[CV]  svc__C=1, svc__gamma=0.001, score=0.7907934131736527, total=  18.7s\n",
      "[CV] svc__C=1, svc__gamma=1 ..........................................\n",
      "[CV]  svc__C=1, svc__gamma=0.001, score=0.7858479970048671, total=  18.5s\n",
      "[CV] svc__C=1, svc__gamma=1 ..........................................\n"
     ]
    },
    {
     "name": "stderr",
     "output_type": "stream",
     "text": [
      "[Parallel(n_jobs=-1)]: Done  16 tasks      | elapsed:   55.7s\n"
     ]
    },
    {
     "name": "stdout",
     "output_type": "stream",
     "text": [
      "[CV]  svc__C=1, svc__gamma=0.1, score=0.8843995510662177, total=  14.3s\n",
      "[CV] svc__C=1, svc__gamma=1 ..........................................\n",
      "[CV] . svc__C=1, svc__gamma=1, score=0.9042274597830153, total=  14.2s\n",
      "[CV] svc__C=10, svc__gamma=0.0005 ....................................\n",
      "[CV]  svc__C=1, svc__gamma=0.1, score=0.8510479041916168, total=  15.9s\n",
      "[CV] svc__C=10, svc__gamma=0.0005 ....................................\n",
      "[CV]  svc__C=1, svc__gamma=0.1, score=0.847997004867091, total=  15.5s\n",
      "[CV] svc__C=10, svc__gamma=0.0005 ....................................\n",
      "[CV]  svc__C=1, svc__gamma=0.1, score=0.8401946107784432, total=  16.3s\n",
      "[CV] svc__C=10, svc__gamma=0.0005 ....................................\n",
      "[CV] . svc__C=1, svc__gamma=1, score=0.8514777403666293, total=  16.0s\n",
      "[CV] svc__C=10, svc__gamma=0.0005 ....................................\n",
      "[CV] . svc__C=1, svc__gamma=1, score=0.8589071856287425, total=  16.2s\n",
      "[CV] svc__C=10, svc__gamma=0.001 .....................................\n",
      "[CV] . svc__C=1, svc__gamma=1, score=0.8581586826347305, total=  15.8s\n",
      "[CV] svc__C=10, svc__gamma=0.001 .....................................\n",
      "[CV] . svc__C=1, svc__gamma=1, score=0.8629726694122052, total=  15.0s\n",
      "[CV] svc__C=10, svc__gamma=0.001 .....................................\n",
      "[CV]  svc__C=10, svc__gamma=0.0005, score=0.8769173213617658, total=  15.3s\n",
      "[CV] svc__C=10, svc__gamma=0.001 .....................................\n",
      "[CV]  svc__C=10, svc__gamma=0.001, score=0.8903853348297793, total=  14.2s\n",
      "[CV] svc__C=10, svc__gamma=0.001 .....................................\n",
      "[CV]  svc__C=10, svc__gamma=0.0005, score=0.7942386831275721, total=  17.5s\n",
      "[CV] svc__C=10, svc__gamma=0.01 ......................................\n",
      "[CV]  svc__C=10, svc__gamma=0.0005, score=0.8244760479041916, total=  17.8s\n",
      "[CV] svc__C=10, svc__gamma=0.01 ......................................\n",
      "[CV]  svc__C=10, svc__gamma=0.001, score=0.8065843621399177, total=  17.4s\n",
      "[CV]  svc__C=10, svc__gamma=0.0005, score=0.8181137724550899, total=  18.3s\n",
      "[CV] svc__C=10, svc__gamma=0.01 ......................................\n",
      "[CV] svc__C=10, svc__gamma=0.01 ......................................\n",
      "[CV]  svc__C=10, svc__gamma=0.0005, score=0.8172968925496069, total=  18.2s\n",
      "[CV] svc__C=10, svc__gamma=0.01 ......................................\n",
      "[CV]  svc__C=10, svc__gamma=0.001, score=0.8327095808383234, total=  16.5s\n",
      "[CV] svc__C=10, svc__gamma=0.1 .......................................\n",
      "[CV]  svc__C=10, svc__gamma=0.01, score=0.9176954732510288, total=  11.6s\n",
      "[CV] svc__C=10, svc__gamma=0.1 .......................................\n",
      "[CV]  svc__C=10, svc__gamma=0.01, score=0.8555929667040778, total=  14.0s\n",
      "[CV] svc__C=10, svc__gamma=0.1 .......................................\n",
      "[CV]  svc__C=10, svc__gamma=0.001, score=0.8308383233532934, total=  17.0s\n",
      "[CV] svc__C=10, svc__gamma=0.1 .......................................\n",
      "[CV]  svc__C=10, svc__gamma=0.01, score=0.8768712574850299, total=  14.2s\n",
      "[CV] svc__C=10, svc__gamma=0.1 .......................................\n",
      "[CV]  svc__C=10, svc__gamma=0.01, score=0.8573567952077873, total=  14.2s\n",
      "[CV]  svc__C=10, svc__gamma=0.01, score=0.8566616766467066, total=  14.6s\n",
      "[CV] svc__C=10, svc__gamma=1 .........................................\n",
      "[CV] svc__C=10, svc__gamma=1 .........................................\n",
      "[CV]  svc__C=10, svc__gamma=0.001, score=0.8296518157993261, total=  16.9s\n",
      "[CV] svc__C=10, svc__gamma=1 .........................................\n",
      "[CV]  svc__C=10, svc__gamma=0.1, score=0.9259259259259259, total=  10.5s\n",
      "[CV] svc__C=10, svc__gamma=1 .........................................\n",
      "[CV]  svc__C=10, svc__gamma=0.1, score=0.8600823045267489, total=  13.9s\n",
      "[CV] svc__C=10, svc__gamma=1 .........................................\n",
      "[CV]  svc__C=10, svc__gamma=0.1, score=0.8697604790419161, total=  13.9s\n",
      "[CV] svc__C=100, svc__gamma=0.0005 ...................................\n",
      "[CV]  svc__C=10, svc__gamma=1, score=0.9266741488963711, total=  12.2s\n",
      "[CV] svc__C=100, svc__gamma=0.0005 ...................................\n",
      "[CV]  svc__C=10, svc__gamma=0.1, score=0.8645209580838323, total=  13.8s\n",
      "[CV] svc__C=100, svc__gamma=0.0005 ...................................\n",
      "[CV]  svc__C=10, svc__gamma=0.1, score=0.871209284912018, total=  14.1s\n",
      "[CV] svc__C=100, svc__gamma=0.0005 ...................................\n",
      "[CV]  svc__C=10, svc__gamma=1, score=0.8873502994011976, total=  14.0s\n",
      "[CV] svc__C=100, svc__gamma=0.0005 ...................................\n",
      "[CV]  svc__C=10, svc__gamma=1, score=0.8829031051253273, total=  14.9s\n",
      "[CV] svc__C=100, svc__gamma=0.001 ....................................\n",
      "[CV]  svc__C=10, svc__gamma=1, score=0.8828592814371258, total=  13.3s\n",
      "[CV] svc__C=100, svc__gamma=0.001 ....................................\n",
      "[CV]  svc__C=10, svc__gamma=1, score=0.8888056907525271, total=  12.8s\n",
      "[CV] svc__C=100, svc__gamma=0.001 ....................................\n",
      "[CV]  svc__C=100, svc__gamma=0.0005, score=0.9075944631500187, total=  12.9s\n",
      "[CV] svc__C=100, svc__gamma=0.001 ....................................\n",
      "[CV]  svc__C=100, svc__gamma=0.0005, score=0.8338945005611672, total=  16.1s\n",
      "[CV] svc__C=100, svc__gamma=0.001 ....................................\n",
      "[CV]  svc__C=100, svc__gamma=0.0005, score=0.843937125748503, total=  16.0s\n",
      "[CV] svc__C=100, svc__gamma=0.01 .....................................\n",
      "[CV]  svc__C=100, svc__gamma=0.001, score=0.8537224092779648, total=  15.2s\n",
      "[CV] svc__C=100, svc__gamma=0.01 .....................................\n",
      "[CV]  svc__C=100, svc__gamma=0.0005, score=0.8476796407185628, total=  16.6s\n",
      "[CV] svc__C=100, svc__gamma=0.01 .....................................\n",
      "[CV]  svc__C=100, svc__gamma=0.0005, score=0.8457506551853239, total=  16.6s\n",
      "[CV] svc__C=100, svc__gamma=0.01 .....................................\n",
      "[CV]  svc__C=100, svc__gamma=0.001, score=0.9173213617658063, total=  11.4s\n",
      "[CV] svc__C=100, svc__gamma=0.01 .....................................\n",
      "[CV]  svc__C=100, svc__gamma=0.001, score=0.8648952095808383, total=  14.5s\n",
      "[CV] svc__C=100, svc__gamma=0.1 ......................................\n",
      "[CV]  svc__C=100, svc__gamma=0.01, score=0.9334081556303778, total=   8.7s\n",
      "[CV] svc__C=100, svc__gamma=0.1 ......................................\n",
      "[CV]  svc__C=100, svc__gamma=0.001, score=0.8615269461077845, total=  14.9s\n",
      "[CV] svc__C=100, svc__gamma=0.1 ......................................\n",
      "[CV]  svc__C=100, svc__gamma=0.01, score=0.8806584362139918, total=  12.3s\n",
      "[CV] svc__C=100, svc__gamma=0.1 ......................................\n",
      "[CV]  svc__C=100, svc__gamma=0.001, score=0.8539872706851367, total=  14.5s\n",
      "[CV] svc__C=100, svc__gamma=0.1 ......................................\n",
      "[CV]  svc__C=100, svc__gamma=0.01, score=0.8948353293413174, total=  12.0s\n",
      "[CV] svc__C=100, svc__gamma=1 ........................................\n",
      "[CV]  svc__C=100, svc__gamma=0.01, score=0.8854790419161677, total=  12.3s\n",
      "[CV] svc__C=100, svc__gamma=1 ........................................\n",
      "[CV]  svc__C=100, svc__gamma=0.01, score=0.8831898165481094, total=  12.0s\n",
      "[CV] svc__C=100, svc__gamma=1 ........................................\n",
      "[CV]  svc__C=100, svc__gamma=0.1, score=0.9375233819678264, total=   7.8s\n",
      "[CV] svc__C=100, svc__gamma=1 ........................................\n",
      "[CV]  svc__C=100, svc__gamma=0.1, score=0.8881406659184437, total=  11.6s\n",
      "[CV] svc__C=100, svc__gamma=1 ........................................\n",
      "[CV]  svc__C=100, svc__gamma=0.1, score=0.9004491017964071, total=  11.9s\n",
      "[CV] svc__C=500, svc__gamma=0.0005 ...................................\n",
      "[CV]  svc__C=100, svc__gamma=1, score=0.9438832772166106, total=   9.7s\n",
      "[CV] svc__C=500, svc__gamma=0.0005 ...................................\n",
      "[CV]  svc__C=100, svc__gamma=0.1, score=0.8948353293413174, total=  12.2s\n",
      "[CV] svc__C=500, svc__gamma=0.0005 ...................................\n",
      "[CV]  svc__C=100, svc__gamma=0.1, score=0.8955447397978286, total=  11.6s\n",
      "[CV] svc__C=500, svc__gamma=0.0005 ...................................\n",
      "[CV]  svc__C=100, svc__gamma=1, score=0.9023569023569024, total=  12.9s\n",
      "[CV] svc__C=500, svc__gamma=0.0005 ...................................\n",
      "[CV]  svc__C=100, svc__gamma=1, score=0.906062874251497, total=  13.3s\n",
      "[CV] svc__C=500, svc__gamma=0.001 ....................................\n"
     ]
    },
    {
     "name": "stdout",
     "output_type": "stream",
     "text": [
      "[CV]  svc__C=100, svc__gamma=1, score=0.905314371257485, total=  13.2s\n",
      "[CV] svc__C=500, svc__gamma=0.001 ....................................\n",
      "[CV]  svc__C=100, svc__gamma=1, score=0.8989142643204793, total=  12.7s\n",
      "[CV] svc__C=500, svc__gamma=0.001 ....................................\n",
      "[CV]  svc__C=500, svc__gamma=0.0005, score=0.9225589225589226, total=  10.4s\n",
      "[CV] svc__C=500, svc__gamma=0.001 ....................................\n",
      "[CV]  svc__C=500, svc__gamma=0.0005, score=0.8649457538346427, total=  14.5s\n",
      "[CV] svc__C=500, svc__gamma=0.001 ....................................\n",
      "[CV]  svc__C=500, svc__gamma=0.0005, score=0.874625748502994, total=  14.1s\n",
      "[CV] svc__C=500, svc__gamma=0.01 .....................................\n",
      "[CV]  svc__C=500, svc__gamma=0.0005, score=0.8708832335329342, total=  14.2s\n",
      "[CV] svc__C=500, svc__gamma=0.01 .....................................\n",
      "[CV]  svc__C=500, svc__gamma=0.001, score=0.9270482603815937, total=  10.5s\n",
      "[CV] svc__C=500, svc__gamma=0.01 .....................................\n",
      "[CV]  svc__C=500, svc__gamma=0.001, score=0.8750467639356528, total=  13.5s\n",
      "[CV] svc__C=500, svc__gamma=0.01 .....................................\n",
      "[CV]  svc__C=500, svc__gamma=0.0005, score=0.8655934107076001, total=  15.3s\n",
      "[CV] svc__C=500, svc__gamma=0.01 .....................................\n",
      "[CV]  svc__C=500, svc__gamma=0.001, score=0.8866017964071856, total=  13.3s\n",
      "[CV] svc__C=500, svc__gamma=0.1 ......................................\n",
      "[CV]  svc__C=500, svc__gamma=0.01, score=0.9393939393939394, total=   7.3s\n",
      "[CV] svc__C=500, svc__gamma=0.1 ......................................\n",
      "[CV]  svc__C=500, svc__gamma=0.001, score=0.8806137724550899, total=  13.2s\n",
      "[CV] svc__C=500, svc__gamma=0.1 ......................................\n",
      "[CV]  svc__C=500, svc__gamma=0.01, score=0.9019827908716798, total=  11.3s\n",
      "[CV] svc__C=500, svc__gamma=0.1 ......................................\n",
      "[CV]  svc__C=500, svc__gamma=0.001, score=0.8745788094346687, total=  13.1s\n",
      "[CV] svc__C=500, svc__gamma=0.1 ......................................\n",
      "[CV]  svc__C=500, svc__gamma=0.01, score=0.9191616766467066, total=  11.5s\n",
      "[CV] svc__C=500, svc__gamma=1 ........................................\n",
      "[CV]  svc__C=500, svc__gamma=0.01, score=0.9109281437125748, total=  11.8s\n",
      "[CV] svc__C=500, svc__gamma=1 ........................................\n",
      "[CV]  svc__C=500, svc__gamma=0.01, score=0.9041557469112692, total=  11.6s\n",
      "[CV] svc__C=500, svc__gamma=1 ........................................\n",
      "[CV]  svc__C=500, svc__gamma=0.1, score=0.9476243920688365, total=   8.5s\n",
      "[CV] svc__C=500, svc__gamma=1 ........................................\n",
      "[CV]  svc__C=500, svc__gamma=0.1, score=0.9094650205761317, total=  13.6s\n",
      "[CV] svc__C=500, svc__gamma=1 ........................................\n",
      "[CV]  svc__C=500, svc__gamma=0.1, score=0.9172904191616766, total=  14.4s\n",
      "[CV] svc__C=750, svc__gamma=0.0005 ...................................\n",
      "[CV]  svc__C=500, svc__gamma=0.1, score=0.9131736526946108, total=  13.3s\n",
      "[CV]  svc__C=500, svc__gamma=1, score=0.9386457164234941, total=  11.5s\n",
      "[CV] svc__C=750, svc__gamma=0.0005 ...................................\n",
      "[CV] svc__C=750, svc__gamma=0.0005 ...................................\n",
      "[CV]  svc__C=500, svc__gamma=0.1, score=0.9078996630475478, total=  13.6s\n",
      "[CV] svc__C=750, svc__gamma=0.0005 ...................................\n",
      "[CV]  svc__C=500, svc__gamma=1, score=0.9143284698840254, total=  17.6s\n",
      "[CV] svc__C=750, svc__gamma=0.0005 ...................................\n",
      "[CV]  svc__C=500, svc__gamma=1, score=0.9210329341317365, total=  16.6s\n",
      "[CV] svc__C=750, svc__gamma=0.001 ....................................\n",
      "[CV]  svc__C=500, svc__gamma=1, score=0.9161676646706587, total=  15.5s\n",
      "[CV] svc__C=750, svc__gamma=0.001 ....................................\n",
      "[CV]  svc__C=500, svc__gamma=1, score=0.9071508798202921, total=  16.6s\n",
      "[CV] svc__C=750, svc__gamma=0.001 ....................................\n",
      "[CV]  svc__C=750, svc__gamma=0.0005, score=0.9210624766180322, total=  10.1s\n",
      "[CV] svc__C=750, svc__gamma=0.001 ....................................\n",
      "[CV]  svc__C=750, svc__gamma=0.0005, score=0.8720538720538721, total=  14.5s\n",
      "[CV] svc__C=750, svc__gamma=0.001 ....................................\n",
      "[CV]  svc__C=750, svc__gamma=0.0005, score=0.8802395209580839, total=  14.6s\n",
      "[CV] svc__C=750, svc__gamma=0.01 .....................................\n",
      "[CV]  svc__C=750, svc__gamma=0.001, score=0.9285447063224841, total=  10.0s\n",
      "[CV] svc__C=750, svc__gamma=0.01 .....................................\n",
      "[CV] ....... svc__C=750, svc__gamma=0.0005, score=0.875, total=  14.9s\n",
      "[CV] svc__C=750, svc__gamma=0.01 .....................................\n",
      "[CV]  svc__C=750, svc__gamma=0.001, score=0.8787878787878788, total=  13.2s\n",
      "[CV] svc__C=750, svc__gamma=0.01 .....................................\n",
      "[CV]  svc__C=750, svc__gamma=0.0005, score=0.8715836765256458, total=  14.2s\n",
      "[CV] svc__C=750, svc__gamma=0.01 .....................................\n",
      "[CV]  svc__C=750, svc__gamma=0.001, score=0.8914670658682635, total=  12.8s\n",
      "[CV] svc__C=750, svc__gamma=0.1 ......................................\n",
      "[CV]  svc__C=750, svc__gamma=0.01, score=0.9438832772166106, total=   8.3s\n",
      "[CV] svc__C=750, svc__gamma=0.1 ......................................\n",
      "[CV]  svc__C=750, svc__gamma=0.001, score=0.8851047904191617, total=  13.9s\n",
      "[CV] svc__C=750, svc__gamma=0.1 ......................................\n",
      "[CV]  svc__C=750, svc__gamma=0.001, score=0.8809434668663422, total=  13.1s\n",
      "[CV] svc__C=750, svc__gamma=0.1 ......................................\n",
      "[CV]  svc__C=750, svc__gamma=0.01, score=0.9083426861204639, total=  12.9s\n",
      "[CV] svc__C=750, svc__gamma=0.1 ......................................\n",
      "[CV]  svc__C=750, svc__gamma=0.01, score=0.9202844311377245, total=  13.8s\n",
      "[CV] svc__C=750, svc__gamma=1 ........................................\n",
      "[CV]  svc__C=750, svc__gamma=0.01, score=0.9157934131736527, total=  14.0s\n",
      "[CV]  svc__C=750, svc__gamma=0.1, score=0.9479985035540591, total=   8.9s\n",
      "[CV] svc__C=750, svc__gamma=1 ........................................\n",
      "[CV] svc__C=750, svc__gamma=1 ........................................\n",
      "[CV]  svc__C=750, svc__gamma=0.01, score=0.909771621115687, total=  13.9s\n",
      "[CV] svc__C=750, svc__gamma=1 ........................................\n",
      "[CV]  svc__C=750, svc__gamma=0.1, score=0.9135802469135802, total=  14.0s\n",
      "[CV] svc__C=750, svc__gamma=1 ........................................\n",
      "[CV]  svc__C=750, svc__gamma=0.1, score=0.9217814371257484, total=  13.9s\n",
      "[CV]  svc__C=750, svc__gamma=0.1, score=0.9157934131736527, total=  15.2s\n",
      "[CV]  svc__C=750, svc__gamma=0.1, score=0.9112691875701985, total=  14.1s\n",
      "[CV]  svc__C=750, svc__gamma=1, score=0.9349046015712682, total=  11.3s\n",
      "[CV]  svc__C=750, svc__gamma=1, score=0.9165731387953611, total=  16.8s\n",
      "[CV]  svc__C=750, svc__gamma=1, score=0.9127994011976048, total=  14.1s\n",
      "[CV]  svc__C=750, svc__gamma=1, score=0.9225299401197605, total=  15.6s\n",
      "[CV]  svc__C=750, svc__gamma=1, score=0.9127667540247099, total=  12.5s\n"
     ]
    },
    {
     "name": "stderr",
     "output_type": "stream",
     "text": [
      "[Parallel(n_jobs=-1)]: Done 125 out of 125 | elapsed:  5.4min finished\n"
     ]
    },
    {
     "data": {
      "text/plain": [
       "GridSearchCV(cv=5, error_score='raise',\n",
       "       estimator=Pipeline(memory=None,\n",
       "     steps=[('categoricaltransformer', CategoricalTransformer(columns=['favorite', 'interested', 'status', 'property_type', 'sale_type', 'source', 'state'])), ('dummyencoder', DummyEncoder()), ('imputer', Imputer(axis=0, copy=True, missing_values='NaN', strategy='median', verbose=0)), ('standardscaler', ...f',\n",
       "  max_iter=-1, probability=False, random_state=42, shrinking=True,\n",
       "  tol=0.001, verbose=False))]),\n",
       "       fit_params=None, iid=True, n_jobs=-1,\n",
       "       param_grid={'svc__C': [1, 10, 100, 500, 750], 'svc__gamma': [0.0005, 0.001, 0.01, 0.1, 1]},\n",
       "       pre_dispatch='2*n_jobs', refit=True, return_train_score='warn',\n",
       "       scoring=None, verbose=3)"
      ]
     },
     "execution_count": 38,
     "metadata": {},
     "output_type": "execute_result"
    }
   ],
   "source": [
    "svmgrid = GridSearchCV(svc_pipe, param_grid, cv=5, n_jobs=-1, verbose=3)#, scoring=roc_auc_scorer)\n",
    "svmgrid.fit(X_train, y_train)"
   ]
  },
  {
   "cell_type": "code",
   "execution_count": 49,
   "metadata": {
    "slideshow": {
     "slide_type": "slide"
    }
   },
   "outputs": [
    {
     "data": {
      "text/plain": [
       "0.90180396517871109"
      ]
     },
     "execution_count": 49,
     "metadata": {},
     "output_type": "execute_result"
    }
   ],
   "source": [
    "roc_auc_score(y_test, svmgrid.predict(X_test))"
   ]
  },
  {
   "cell_type": "code",
   "execution_count": 40,
   "metadata": {
    "slideshow": {
     "slide_type": "fragment"
    }
   },
   "outputs": [
    {
     "data": {
      "image/png": "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\n",
      "text/plain": [
       "<Figure size 921.6x633.6 with 2 Axes>"
      ]
     },
     "metadata": {},
     "output_type": "display_data"
    }
   ],
   "source": [
    "scores = svmgrid.cv_results_['mean_test_score'].reshape(5,5)\n",
    "sns.heatmap(scores, vmax=1, xticklabels=param_grid['svc__gamma'], yticklabels=param_grid['svc__C'], cmap='hot', annot=True)\n",
    "plt.title('Hyper parameters vs score')\n",
    "plt.show()"
   ]
  },
  {
   "cell_type": "code",
   "execution_count": 41,
   "metadata": {
    "slideshow": {
     "slide_type": "skip"
    }
   },
   "outputs": [
    {
     "data": {
      "text/plain": [
       "Text(0.5,1,'SVM')"
      ]
     },
     "execution_count": 41,
     "metadata": {},
     "output_type": "execute_result"
    },
    {
     "data": {
      "image/png": "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\n",
      "text/plain": [
       "<Figure size 921.6x633.6 with 1 Axes>"
      ]
     },
     "metadata": {},
     "output_type": "display_data"
    }
   ],
   "source": [
    "plot_roc(svmgrid, X_test, y_test)\n",
    "plt.title('SVM')"
   ]
  },
  {
   "cell_type": "markdown",
   "metadata": {
    "slideshow": {
     "slide_type": "slide"
    }
   },
   "source": [
    "### Adaboost"
   ]
  },
  {
   "cell_type": "code",
   "execution_count": 42,
   "metadata": {
    "slideshow": {
     "slide_type": "fragment"
    }
   },
   "outputs": [],
   "source": [
    "from sklearn.ensemble import AdaBoostClassifier"
   ]
  },
  {
   "cell_type": "code",
   "execution_count": 43,
   "metadata": {
    "slideshow": {
     "slide_type": "fragment"
    }
   },
   "outputs": [],
   "source": [
    "n_estimators = [ 1500, 1570, 2000, 2250, 3000, 3250, 3500]\n",
    "param_grid = {'adaboostclassifier__n_estimators': n_estimators}"
   ]
  },
  {
   "cell_type": "code",
   "execution_count": 44,
   "metadata": {
    "slideshow": {
     "slide_type": "fragment"
    }
   },
   "outputs": [],
   "source": [
    "abpipe = make_pipeline(CategoricalTransformer(columns=cat_cols), DummyEncoder(), Imputer(strategy='median'), StandardScaler(), \n",
    "                   AdaBoostClassifier())"
   ]
  },
  {
   "cell_type": "code",
   "execution_count": 45,
   "metadata": {
    "scrolled": true,
    "slideshow": {
     "slide_type": "slide"
    }
   },
   "outputs": [
    {
     "name": "stdout",
     "output_type": "stream",
     "text": [
      "Fitting 5 folds for each of 7 candidates, totalling 35 fits\n",
      "[CV] adaboostclassifier__n_estimators=1500 ...........................\n",
      "[CV] adaboostclassifier__n_estimators=1500 ...........................\n",
      "[CV] adaboostclassifier__n_estimators=1500 ...........................\n",
      "[CV] adaboostclassifier__n_estimators=1500 ...........................\n",
      "[CV] adaboostclassifier__n_estimators=1500 ...........................\n",
      "[CV] adaboostclassifier__n_estimators=1570 ...........................\n",
      "[CV] adaboostclassifier__n_estimators=1570 ...........................\n",
      "[CV] adaboostclassifier__n_estimators=1570 ...........................\n",
      "[CV]  adaboostclassifier__n_estimators=1500, score=0.997032827451858, total=  20.4s\n",
      "[CV] adaboostclassifier__n_estimators=1570 ...........................\n",
      "[CV]  adaboostclassifier__n_estimators=1500, score=0.996398639757171, total=  20.4s\n",
      "[CV]  adaboostclassifier__n_estimators=1500, score=0.9964454477248496, total=  20.5s\n",
      "[CV] adaboostclassifier__n_estimators=1570 ...........................\n",
      "[CV] adaboostclassifier__n_estimators=2000 ...........................\n",
      "[CV]  adaboostclassifier__n_estimators=1500, score=0.9957317073170731, total=  20.5s\n",
      "[CV] adaboostclassifier__n_estimators=2000 ...........................\n",
      "[CV]  adaboostclassifier__n_estimators=1500, score=0.9974806405731442, total=  20.7s\n",
      "[CV] adaboostclassifier__n_estimators=2000 ...........................\n",
      "[CV]  adaboostclassifier__n_estimators=1570, score=0.9970124254669422, total=  21.3s\n",
      "[CV] adaboostclassifier__n_estimators=2000 ...........................\n",
      "[CV]  adaboostclassifier__n_estimators=1570, score=0.99648032853777, total=  21.4s\n",
      "[CV] adaboostclassifier__n_estimators=2000 ...........................\n",
      "[CV]  adaboostclassifier__n_estimators=1570, score=0.9974924932834642, total=  21.7s\n",
      "[CV] adaboostclassifier__n_estimators=2250 ...........................\n",
      "[CV]  adaboostclassifier__n_estimators=1570, score=0.9963485338755317, total=  22.4s\n",
      "[CV] adaboostclassifier__n_estimators=2250 ...........................\n",
      "[CV]  adaboostclassifier__n_estimators=1570, score=0.9957521203181793, total=  22.6s\n",
      "[CV] adaboostclassifier__n_estimators=2250 ...........................\n",
      "[CV]  adaboostclassifier__n_estimators=2000, score=0.9971358245692549, total=  27.9s\n",
      "[CV] adaboostclassifier__n_estimators=2250 ...........................\n",
      "[CV]  adaboostclassifier__n_estimators=2000, score=0.9965517354849749, total=  28.1s\n",
      "[CV] adaboostclassifier__n_estimators=2250 ...........................\n",
      "[CV]  adaboostclassifier__n_estimators=2000, score=0.9976037770636885, total=  28.7s\n",
      "[CV] adaboostclassifier__n_estimators=3000 ...........................\n",
      "[CV]  adaboostclassifier__n_estimators=2000, score=0.996344578148034, total=  28.6s\n",
      "[CV] adaboostclassifier__n_estimators=3000 ...........................\n",
      "[CV]  adaboostclassifier__n_estimators=2000, score=0.9958703181794236, total=  29.0s\n",
      "[CV] adaboostclassifier__n_estimators=3000 ...........................\n",
      "[CV]  adaboostclassifier__n_estimators=2250, score=0.9965122477722349, total=  32.4s\n",
      "[CV] adaboostclassifier__n_estimators=3000 ...........................\n"
     ]
    },
    {
     "name": "stderr",
     "output_type": "stream",
     "text": [
      "[Parallel(n_jobs=-1)]: Done  16 tasks      | elapsed:  1.1min\n"
     ]
    },
    {
     "name": "stdout",
     "output_type": "stream",
     "text": [
      "[CV]  adaboostclassifier__n_estimators=2250, score=0.9971371408263462, total=  31.8s\n",
      "[CV] adaboostclassifier__n_estimators=3000 ...........................\n",
      "[CV]  adaboostclassifier__n_estimators=2250, score=0.9975270636885634, total=  32.3s\n",
      "[CV] adaboostclassifier__n_estimators=3250 ...........................\n",
      "[CV]  adaboostclassifier__n_estimators=2250, score=0.9962773307805706, total=  31.8s\n",
      "[CV] adaboostclassifier__n_estimators=3250 ...........................\n",
      "[CV]  adaboostclassifier__n_estimators=2250, score=0.9959233261339093, total=  32.4s\n",
      "[CV] adaboostclassifier__n_estimators=3250 ...........................\n",
      "[CV]  adaboostclassifier__n_estimators=3000, score=0.9971509615258052, total=  42.0s\n",
      "[CV] adaboostclassifier__n_estimators=3250 ...........................\n",
      "[CV]  adaboostclassifier__n_estimators=3000, score=0.9966264330749082, total=  42.8s\n",
      "[CV] adaboostclassifier__n_estimators=3250 ...........................\n",
      "[CV]  adaboostclassifier__n_estimators=3000, score=0.9975313438339567, total=  42.7s\n",
      "[CV] adaboostclassifier__n_estimators=3500 ...........................\n",
      "[CV]  adaboostclassifier__n_estimators=3000, score=0.9959667860717484, total=  43.3s\n",
      "[CV] adaboostclassifier__n_estimators=3500 ...........................\n",
      "[CV]  adaboostclassifier__n_estimators=3000, score=0.9962802975761939, total=  43.1s\n",
      "[CV] adaboostclassifier__n_estimators=3500 ...........................\n",
      "[CV]  adaboostclassifier__n_estimators=3250, score=0.996706066628934, total=  46.5s\n",
      "[CV] adaboostclassifier__n_estimators=3500 ...........................\n",
      "[CV]  adaboostclassifier__n_estimators=3250, score=0.9972095349663697, total=  46.3s\n",
      "[CV] adaboostclassifier__n_estimators=3500 ...........................\n",
      "[CV]  adaboostclassifier__n_estimators=3250, score=0.9975178449138703, total=  48.1s\n",
      "[CV]  adaboostclassifier__n_estimators=3250, score=0.995986540588948, total=  47.2s\n",
      "[CV]  adaboostclassifier__n_estimators=3250, score=0.9962522778397508, total=  47.1s\n",
      "[CV]  adaboostclassifier__n_estimators=3500, score=0.9966935621865662, total=  50.6s\n",
      "[CV]  adaboostclassifier__n_estimators=3500, score=0.997175312281995, total=  49.3s\n"
     ]
    },
    {
     "name": "stderr",
     "output_type": "stream",
     "text": [
      "[Parallel(n_jobs=-1)]: Done  32 out of  35 | elapsed:  2.8min remaining:   15.9s\n"
     ]
    },
    {
     "name": "stdout",
     "output_type": "stream",
     "text": [
      "[CV]  adaboostclassifier__n_estimators=3500, score=0.9975040167518305, total=  40.4s\n",
      "[CV]  adaboostclassifier__n_estimators=3500, score=0.9959615182004952, total=  39.1s\n",
      "[CV]  adaboostclassifier__n_estimators=3500, score=0.9962753529168216, total=  36.8s\n"
     ]
    },
    {
     "name": "stderr",
     "output_type": "stream",
     "text": [
      "[Parallel(n_jobs=-1)]: Done  35 out of  35 | elapsed:  3.2min finished\n"
     ]
    },
    {
     "data": {
      "text/plain": [
       "GridSearchCV(cv=5, error_score='raise',\n",
       "       estimator=Pipeline(memory=None,\n",
       "     steps=[('categoricaltransformer', CategoricalTransformer(columns=['favorite', 'interested', 'status', 'property_type', 'sale_type', 'source', 'state'])), ('dummyencoder', DummyEncoder()), ('imputer', Imputer(axis=0, copy=True, missing_values='NaN', strategy='median', verbose=0)), ('standardscaler', ...m='SAMME.R', base_estimator=None,\n",
       "          learning_rate=1.0, n_estimators=50, random_state=None))]),\n",
       "       fit_params=None, iid=True, n_jobs=-1,\n",
       "       param_grid={'adaboostclassifier__n_estimators': [1500, 1570, 2000, 2250, 3000, 3250, 3500]},\n",
       "       pre_dispatch='2*n_jobs', refit=True, return_train_score='warn',\n",
       "       scoring=make_scorer(roc_auc_score, needs_threshold=True), verbose=3)"
      ]
     },
     "execution_count": 45,
     "metadata": {},
     "output_type": "execute_result"
    }
   ],
   "source": [
    "abgrid = GridSearchCV(abpipe, param_grid, cv=5, n_jobs=-1, verbose=3, scoring=roc_auc_scorer)\n",
    "abgrid.fit(X_train, y_train)"
   ]
  },
  {
   "cell_type": "code",
   "execution_count": 46,
   "metadata": {
    "slideshow": {
     "slide_type": "slide"
    }
   },
   "outputs": [
    {
     "data": {
      "text/plain": [
       "<matplotlib.axes._subplots.AxesSubplot at 0x7f1cdee9ac50>"
      ]
     },
     "execution_count": 46,
     "metadata": {},
     "output_type": "execute_result"
    },
    {
     "data": {
      "image/png": "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\n",
      "text/plain": [
       "<Figure size 921.6x633.6 with 1 Axes>"
      ]
     },
     "metadata": {},
     "output_type": "display_data"
    }
   ],
   "source": [
    "pd.DataFrame({'score':abgrid.cv_results_['mean_test_score']}, index=abgrid.cv_results_['param_adaboostclassifier__n_estimators']).plot()"
   ]
  },
  {
   "cell_type": "code",
   "execution_count": 47,
   "metadata": {
    "slideshow": {
     "slide_type": "slide"
    }
   },
   "outputs": [
    {
     "data": {
      "text/plain": [
       "0.96757739512200769"
      ]
     },
     "execution_count": 47,
     "metadata": {},
     "output_type": "execute_result"
    }
   ],
   "source": [
    "roc_auc_score(y_test, abgrid.predict(X_test))"
   ]
  },
  {
   "cell_type": "code",
   "execution_count": 48,
   "metadata": {
    "slideshow": {
     "slide_type": "fragment"
    }
   },
   "outputs": [
    {
     "data": {
      "text/plain": [
       "(Pipeline(memory=None,\n",
       "      steps=[('categoricaltransformer', CategoricalTransformer(columns=['favorite', 'interested', 'status', 'property_type', 'sale_type', 'source', 'state'])), ('dummyencoder', DummyEncoder()), ('imputer', Imputer(axis=0, copy=True, missing_values='NaN', strategy='median', verbose=0)), ('standardscaler', ...'SAMME.R', base_estimator=None,\n",
       "           learning_rate=1.0, n_estimators=3250, random_state=None))]),\n",
       " {'adaboostclassifier__n_estimators': 3250})"
      ]
     },
     "execution_count": 48,
     "metadata": {},
     "output_type": "execute_result"
    }
   ],
   "source": [
    "abgrid.best_estimator_, abgrid.best_params_"
   ]
  },
  {
   "cell_type": "markdown",
   "metadata": {
    "slideshow": {
     "slide_type": "slide"
    }
   },
   "source": [
    "## Thank you!"
   ]
  }
 ],
 "metadata": {
  "celltoolbar": "Slideshow",
  "kernelspec": {
   "display_name": "Python 3",
   "language": "python",
   "name": "python3"
  },
  "language_info": {
   "codemirror_mode": {
    "name": "ipython",
    "version": 3
   },
   "file_extension": ".py",
   "mimetype": "text/x-python",
   "name": "python",
   "nbconvert_exporter": "python",
   "pygments_lexer": "ipython3",
   "version": "3.6.5"
  },
  "livereveal": {
   "theme": "white",
   "transition": "None"
  }
 },
 "nbformat": 4,
 "nbformat_minor": 2
}
